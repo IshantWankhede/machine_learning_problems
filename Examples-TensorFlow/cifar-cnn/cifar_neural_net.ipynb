{
 "cells": [
  {
   "cell_type": "code",
   "execution_count": 18,
   "metadata": {},
   "outputs": [],
   "source": [
    "from utility import cifar10\n",
    "from utility.cifar10 import img_size\n",
    "import tensorflow as tf\n",
    "import sys"
   ]
  },
  {
   "cell_type": "code",
   "execution_count": 2,
   "metadata": {},
   "outputs": [],
   "source": [
    "def prepare_train_data():\n",
    "    cifar10.maybe_download_and_extract()\n",
    "    images_train, cls_train, labels_train = cifar10.load_training_data()\n",
    "    print(\"Size of:\")\n",
    "    print(\"- Training-set:\\t\\t{}\".format(len(images_train)))   \n",
    "    return images_train, cls_train, labels_train"
   ]
  },
  {
   "cell_type": "code",
   "execution_count": 3,
   "metadata": {},
   "outputs": [],
   "source": [
    "def prepare_test_data():\n",
    "    cifar10.maybe_download_and_extract()\n",
    "    \n",
    "    images_test, cls_test, labels_test = cifar10.load_test_data()\n",
    "    print(\"Size of:\")    \n",
    "    print(\"- Test-set:\\t\\t{}\".format(len(images_test)))\n",
    "    return images_test, cls_test, labels_test"
   ]
  },
  {
   "cell_type": "code",
   "execution_count": 4,
   "metadata": {},
   "outputs": [
    {
     "name": "stdout",
     "output_type": "stream",
     "text": [
      "Data has apparently already been downloaded and unpacked.\n",
      "Loading data: D:\\Users\\amit.agarwal\\PycharmProjects\\Scikit_Learn_TensorFlow_Examples\\Examples-TensorFlow\\cifar-cnn\\data/CIFAR-10/cifar-10-batches-py/data_batch_1\n",
      "Loading data: D:\\Users\\amit.agarwal\\PycharmProjects\\Scikit_Learn_TensorFlow_Examples\\Examples-TensorFlow\\cifar-cnn\\data/CIFAR-10/cifar-10-batches-py/data_batch_2\n",
      "Loading data: D:\\Users\\amit.agarwal\\PycharmProjects\\Scikit_Learn_TensorFlow_Examples\\Examples-TensorFlow\\cifar-cnn\\data/CIFAR-10/cifar-10-batches-py/data_batch_3\n",
      "Loading data: D:\\Users\\amit.agarwal\\PycharmProjects\\Scikit_Learn_TensorFlow_Examples\\Examples-TensorFlow\\cifar-cnn\\data/CIFAR-10/cifar-10-batches-py/data_batch_4\n",
      "Loading data: D:\\Users\\amit.agarwal\\PycharmProjects\\Scikit_Learn_TensorFlow_Examples\\Examples-TensorFlow\\cifar-cnn\\data/CIFAR-10/cifar-10-batches-py/data_batch_5\n",
      "Size of:\n",
      "- Training-set:\t\t50000\n"
     ]
    }
   ],
   "source": [
    "#Get Train Data\n",
    "images_train, cls_train, labels_train = prepare_train_data()"
   ]
  },
  {
   "cell_type": "code",
   "execution_count": 5,
   "metadata": {},
   "outputs": [],
   "source": [
    "#Get Test Data\n",
    "#images_test, cls_test, labels_test=prepare_test_data()\n"
   ]
  },
  {
   "cell_type": "code",
   "execution_count": 6,
   "metadata": {},
   "outputs": [
    {
     "name": "stdout",
     "output_type": "stream",
     "text": [
      "Loading data: D:\\Users\\amit.agarwal\\PycharmProjects\\Scikit_Learn_TensorFlow_Examples\\Examples-TensorFlow\\cifar-cnn\\data/CIFAR-10/cifar-10-batches-py/batches.meta\n"
     ]
    },
    {
     "data": {
      "text/plain": [
       "['airplane',\n",
       " 'automobile',\n",
       " 'bird',\n",
       " 'cat',\n",
       " 'deer',\n",
       " 'dog',\n",
       " 'frog',\n",
       " 'horse',\n",
       " 'ship',\n",
       " 'truck']"
      ]
     },
     "execution_count": 6,
     "metadata": {},
     "output_type": "execute_result"
    }
   ],
   "source": [
    "images_train.shape\n",
    "cifar10.load_class_names()"
   ]
  },
  {
   "cell_type": "code",
   "execution_count": 7,
   "metadata": {},
   "outputs": [],
   "source": [
    "def weight_init(shape,name):\n",
    "    weight = tf.get_variable(name=name,dtype=tf.float32,shape=shape,initializer=tf.contrib.layers.variance_scaling_initializer())\n",
    "    return weight\n",
    "\n",
    "def bias_init(shape,name):\n",
    "    bias = tf.get_variable(name=name,dtype=tf.float32,shape=shape,initializer=tf.contrib.layers.variance_scaling_initializer())\n",
    "    return bias"
   ]
  },
  {
   "cell_type": "code",
   "execution_count": 28,
   "metadata": {},
   "outputs": [],
   "source": [
    "def single_layer(X,Y_):\n",
    "    weight1 = weight_init([3072, 10], name='weight1')\n",
    "    bias1 = bias_init([10], name='bias1')\n",
    "    XX = tf.reshape(X, [-1, 3072])\n",
    "    activation = tf.matmul(XX,weight1) + bias1 \n",
    "    Y = tf.nn.softmax(activation)\n",
    "    loss = -tf.reduce_mean(Y_ * tf.log(Y+ 1e-15)) \n",
    "    correct_prediction = tf.equal(tf.argmax(Y, 1), tf.argmax(Y_, 1))\n",
    "    accuracy = tf.reduce_mean(tf.cast(correct_prediction, tf.float32))\n",
    "\n",
    "    return activation,loss,Y,accuracy"
   ]
  },
  {
   "cell_type": "code",
   "execution_count": 29,
   "metadata": {},
   "outputs": [],
   "source": [
    "def single_layer_softmax():\n",
    "    #Get Data\n",
    "    #images_train, cls_train, labels_train = prepare_train_data()\n",
    "    #images_test, cls_test, labels_test=prepare_test_data()\n",
    "    print(\"Entering the function\")\n",
    "    # input X: 28x28 grayscale images, the first dimension (None) will index the images in the mini-batch\n",
    "    X = tf.placeholder(tf.float32,shape=[None,32,32,3])\n",
    "    # correct answers will go here\n",
    "    Y_ = tf.placeholder(tf.float32, [None, 10])\n",
    "\n",
    "    n_epoch = 100\n",
    "    batch_size = 100\n",
    "\n",
    "    activation,loss,Y,accuracy = single_layer(X,Y_)\n",
    "    # training, learning rate = 0.005\n",
    "    train_step = tf.train.GradientDescentOptimizer(0.005).minimize(loss)\n",
    "\n",
    "    with tf.Session() as sess:\n",
    "        sess.run(tf.global_variables_initializer())\n",
    "        for epoch in range(n_epoch):\n",
    "            n_batches = images_train.shape[0] // batch_size\n",
    "            # n_batches = n_batches_dimension.value\n",
    "            idx = 0\n",
    "            for iteration in range(n_batches):\n",
    "                X_batch = images_train[idx:idx + batch_size]\n",
    "                Y_batch = labels_train[idx:idx + batch_size]\n",
    "                idx += batch_size\n",
    "                print(\"\\r{}%\".format(100 * iteration // n_batches), end=\"\") \n",
    "                sys.stdout.flush()\n",
    "                sess.run(train_step, feed_dict={X: X_batch, Y_: Y_batch})\n",
    "            if epoch % 10 == 0:                \n",
    "                loss_train = loss.eval(feed_dict={X: X_batch, Y_: Y_batch})     \n",
    "                print(\"\\r{}\".format(epoch), \"Train MSE:\", loss_train)\n",
    "                 \n",
    "            if epoch % 15 == 0:\n",
    "                accuracy_train = accuracy.eval(feed_dict={X: X_batch, Y_: Y_batch})\n",
    "                \n",
    "                print(\"\\r{}\".format(epoch), \"Train Accuracy:\", accuracy_train) \n",
    "                \n",
    "                \n"
   ]
  },
  {
   "cell_type": "code",
   "execution_count": 27,
   "metadata": {},
   "outputs": [
    {
     "name": "stdout",
     "output_type": "stream",
     "text": [
      "Entering the function\n",
      "0 Train MSE: 2692.9414\n",
      "0 Train Accuracy: 0.16\n",
      "10 Train MSE: 1679.0646\n",
      "15 Train Accuracy: 0.35\n",
      "20% Train MSE: 1539.165\n",
      "30 Train MSE: 1707.9492\n",
      "30 Train Accuracy: 0.4\n",
      "40% Train MSE: 1721.1123\n",
      "45 Train Accuracy: 0.35\n",
      "50 Train MSE: 1545.7026\n",
      "60 Train MSE: 1394.1929\n",
      "60 Train Accuracy: 0.4\n",
      "70 Train MSE: 1511.0764\n",
      "75 Train Accuracy: 0.36\n",
      "80 Train MSE: 1407.1412\n",
      "90 Train MSE: 1632.7764\n",
      "90 Train Accuracy: 0.35\n",
      "99%"
     ]
    }
   ],
   "source": [
    "tf.reset_default_graph() \n",
    "single_layer_softmax()"
   ]
  },
  {
   "cell_type": "code",
   "execution_count": null,
   "metadata": {},
   "outputs": [],
   "source": []
  }
 ],
 "metadata": {
  "kernelspec": {
   "display_name": "Python 3",
   "language": "python",
   "name": "python3"
  },
  "language_info": {
   "codemirror_mode": {
    "name": "ipython",
    "version": 3
   },
   "file_extension": ".py",
   "mimetype": "text/x-python",
   "name": "python",
   "nbconvert_exporter": "python",
   "pygments_lexer": "ipython3",
   "version": "3.6.4"
  }
 },
 "nbformat": 4,
 "nbformat_minor": 2
}
