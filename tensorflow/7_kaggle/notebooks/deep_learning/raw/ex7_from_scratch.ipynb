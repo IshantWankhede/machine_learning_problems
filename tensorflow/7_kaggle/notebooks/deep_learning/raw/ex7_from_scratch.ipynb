{
 "cells": [
  {
   "cell_type": "markdown",
   "metadata": {},
   "source": [
    "# Introduction\n",
    "\n",
    "You've seen how to build a model from scratch to identify handwritten digits.  You'll now build a model to identify different types of clothing.  To make models that train quickly, we'll work with very small (low-resolution) images. \n",
    "\n",
    "As an example, your model will take an images like this and identify it as a shoe:\n",
    "\n",
    "![Imgur](https://i.imgur.com/GyXOnSB.png)"
   ]
  },
  {
   "cell_type": "markdown",
   "metadata": {},
   "source": [
    "# Data Preparation\n",
    "This code is supplied, and you don't need to change it. Just run the cell below."
   ]
  },
  {
   "cell_type": "code",
   "execution_count": 1,
   "metadata": {},
   "outputs": [],
   "source": [
    "import os,sys\n",
    "from os.path import join\n",
    "sys.path.append('../../../')"
   ]
  },
  {
   "cell_type": "code",
   "execution_count": 2,
   "metadata": {},
   "outputs": [
    {
     "name": "stdout",
     "output_type": "stream",
     "text": [
      "Setup Complete\n"
     ]
    }
   ],
   "source": [
    "import numpy as np\n",
    "from sklearn.model_selection import train_test_split\n",
    "from tensorflow import keras\n",
    "\n",
    "img_rows, img_cols = 28, 28\n",
    "num_classes = 10\n",
    "\n",
    "def prep_data(raw):\n",
    "    y = raw[:, 0]\n",
    "    out_y = keras.utils.to_categorical(y, num_classes)\n",
    "    \n",
    "    x = raw[:,1:]\n",
    "    num_images = raw.shape[0]\n",
    "    out_x = x.reshape(num_images, img_rows, img_cols, 1)\n",
    "    out_x = out_x / 255\n",
    "    return out_x, out_y\n",
    "\n",
    "fashion_file = \"../input/fashionmnist/fashion-mnist_train.csv\"\n",
    "fashion_data = np.loadtxt(fashion_file, skiprows=1, delimiter=',')\n",
    "x, y = prep_data(fashion_data)\n",
    "\n",
    "# Set up code checking\n",
    "from learntools.core import binder\n",
    "binder.bind(globals())\n",
    "from learntools.deep_learning.exercise_7 import *\n",
    "print(\"Setup Complete\")"
   ]
  },
  {
   "cell_type": "markdown",
   "metadata": {},
   "source": [
    "# 1) Start the model\n",
    "Create a `Sequential` model called `fashion_model`. Don't add layers yet."
   ]
  },
  {
   "cell_type": "code",
   "execution_count": 9,
   "metadata": {},
   "outputs": [
    {
     "data": {
      "application/javascript": [
       "parent.postMessage({\"data\": {\"exceptionClass\": \"\", \"interactionType\": 1, \"learnTutorialId\": 91, \"trace\": \"\", \"learnToolsVersion\": \"0.2.11\", \"questionId\": \"1_StartSequentialModel\", \"valueTowardsCompletion\": 0.16666666666666666, \"outcomeType\": 1, \"failureMessage\": \"\"}, \"jupyterEvent\": \"custom.exercise_interaction\"}, \"*\")"
      ],
      "text/plain": [
       "<IPython.core.display.Javascript object>"
      ]
     },
     "metadata": {},
     "output_type": "display_data"
    },
    {
     "data": {
      "text/markdown": [
       "<span style=\"color:#33cc33\">Correct</span>"
      ],
      "text/plain": [
       "Correct"
      ]
     },
     "metadata": {},
     "output_type": "display_data"
    }
   ],
   "source": [
    "from tensorflow import keras\n",
    "from tensorflow.keras.models import Sequential\n",
    "from tensorflow.keras.layers import Dense, Flatten, Conv2D\n",
    "\n",
    "# Your Code Here\n",
    "fashion_model  = Sequential()\n",
    "q_1.check()"
   ]
  },
  {
   "cell_type": "code",
   "execution_count": null,
   "metadata": {},
   "outputs": [],
   "source": [
    "#_COMMENT_IF(PROD)_\n",
    "q_1.solution()"
   ]
  },
  {
   "cell_type": "markdown",
   "metadata": {},
   "source": [
    "# 2) Add the first layer\n",
    "\n",
    "Add the first `Conv2D` layer to `fashion_model`. It should have 12 filters, a kernel_size of 3 and the `relu` activation function. The first layer always requires that you specify the `input_shape`.  We have saved the number of rows and columns to the variables `img_rows` and `img_cols` respectively, so the input shape in this case is `(img_rows, img_cols, 1)`."
   ]
  },
  {
   "cell_type": "code",
   "execution_count": 10,
   "metadata": {},
   "outputs": [
    {
     "data": {
      "application/javascript": [
       "parent.postMessage({\"data\": {\"exceptionClass\": \"\", \"interactionType\": 1, \"learnTutorialId\": 91, \"trace\": \"\", \"learnToolsVersion\": \"0.2.11\", \"questionId\": \"2_AddFirstLayer\", \"valueTowardsCompletion\": 0.16666666666666666, \"outcomeType\": 1, \"failureMessage\": \"\"}, \"jupyterEvent\": \"custom.exercise_interaction\"}, \"*\")"
      ],
      "text/plain": [
       "<IPython.core.display.Javascript object>"
      ]
     },
     "metadata": {},
     "output_type": "display_data"
    },
    {
     "data": {
      "text/markdown": [
       "<span style=\"color:#33cc33\">Correct</span>"
      ],
      "text/plain": [
       "Correct"
      ]
     },
     "metadata": {},
     "output_type": "display_data"
    }
   ],
   "source": [
    "# Your code here\n",
    "fashion_model.add(Conv2D(12, kernel_size=(3, 3),\n",
    "                 activation='relu',\n",
    "                 input_shape=(img_rows, img_cols, 1)))\n",
    "q_2.check()"
   ]
  },
  {
   "cell_type": "code",
   "execution_count": null,
   "metadata": {},
   "outputs": [],
   "source": [
    "# q_2.hint()\n",
    "#_COMMENT_IF(PROD)_\n",
    "q_2.solution()"
   ]
  },
  {
   "cell_type": "markdown",
   "metadata": {},
   "source": [
    "# 3) Add the remaining layers\n",
    "\n",
    "1. Add 2 more convolutional (`Conv2D layers`) with 20 filters each, 'relu' activation, and a kernel size of 3. Follow that with a `Flatten` layer, and then a `Dense` layer with 100 neurons. \n",
    "2. Add your prediction layer to `fashion_model`.  This is a `Dense` layer.  We alrady have a variable called `num_classes`.  Use this variable when specifying the number of nodes in this layer. The activation should be `softmax` (or you will have problems later)."
   ]
  },
  {
   "cell_type": "code",
   "execution_count": 11,
   "metadata": {},
   "outputs": [
    {
     "data": {
      "application/javascript": [
       "parent.postMessage({\"data\": {\"exceptionClass\": \"\", \"interactionType\": 1, \"learnTutorialId\": 91, \"trace\": \"\", \"learnToolsVersion\": \"0.2.11\", \"questionId\": \"3_AddMoreLayers\", \"valueTowardsCompletion\": 0.16666666666666666, \"outcomeType\": 1, \"failureMessage\": \"\"}, \"jupyterEvent\": \"custom.exercise_interaction\"}, \"*\")"
      ],
      "text/plain": [
       "<IPython.core.display.Javascript object>"
      ]
     },
     "metadata": {},
     "output_type": "display_data"
    },
    {
     "data": {
      "text/markdown": [
       "<span style=\"color:#33cc33\">Correct</span>"
      ],
      "text/plain": [
       "Correct"
      ]
     },
     "metadata": {},
     "output_type": "display_data"
    }
   ],
   "source": [
    "# Your code here\n",
    "fashion_model.add(Conv2D(20, kernel_size=(3, 3), activation='relu'))\n",
    "fashion_model.add(Conv2D(20, kernel_size=(3, 3), activation='relu'))\n",
    "fashion_model.add(Flatten())\n",
    "fashion_model.add(Dense(100, activation='relu'))\n",
    "fashion_model.add(Dense(num_classes, activation='softmax'))\n",
    "q_3.check()"
   ]
  },
  {
   "cell_type": "code",
   "execution_count": null,
   "metadata": {},
   "outputs": [],
   "source": [
    "# q_3.solution()"
   ]
  },
  {
   "cell_type": "markdown",
   "metadata": {},
   "source": [
    "# 4) Compile Your Model\n",
    "Compile fashion_model with the `compile` method.  Specify the following arguments:\n",
    "1. `loss = \"categorical_crossentropy\"`\n",
    "2. `optimizer = 'adam'`\n",
    "3. `metrics = ['accuracy']`"
   ]
  },
  {
   "cell_type": "code",
   "execution_count": 12,
   "metadata": {},
   "outputs": [
    {
     "data": {
      "application/javascript": [
       "parent.postMessage({\"data\": {\"exceptionClass\": \"\", \"interactionType\": 1, \"learnTutorialId\": 91, \"trace\": \"\", \"learnToolsVersion\": \"0.2.11\", \"questionId\": \"4_CompileModel\", \"valueTowardsCompletion\": 0.16666666666666666, \"outcomeType\": 1, \"failureMessage\": \"\"}, \"jupyterEvent\": \"custom.exercise_interaction\"}, \"*\")"
      ],
      "text/plain": [
       "<IPython.core.display.Javascript object>"
      ]
     },
     "metadata": {},
     "output_type": "display_data"
    },
    {
     "data": {
      "text/markdown": [
       "<span style=\"color:#33cc33\">Correct</span>"
      ],
      "text/plain": [
       "Correct"
      ]
     },
     "metadata": {},
     "output_type": "display_data"
    }
   ],
   "source": [
    "# Your code to compile the model in this cell\n",
    "fashion_model.compile(loss=keras.losses.categorical_crossentropy,\n",
    "              optimizer='adam',\n",
    "              metrics=['accuracy'])\n",
    "q_4.check()"
   ]
  },
  {
   "cell_type": "code",
   "execution_count": null,
   "metadata": {},
   "outputs": [],
   "source": [
    "# q_4.solution()"
   ]
  },
  {
   "cell_type": "markdown",
   "metadata": {},
   "source": [
    "# 5) Fit The Model\n",
    "Run the command `fashion_model.fit`. The arguments you will use are\n",
    "1. The data used to fit the model. First comes the data holding the images, and second is the data with the class labels to be predicted. Look at the first code cell (which was supplied to you) where we called `prep_data` to find the variable names for these.\n",
    "2. `batch_size = 100`\n",
    "3. `epochs = 4`\n",
    "4. `validation_split = 0.2`\n",
    "\n",
    "When you run this command, you can watch your model start improving.  You will see validation accuracies after each epoch."
   ]
  },
  {
   "cell_type": "code",
   "execution_count": 14,
   "metadata": {},
   "outputs": [
    {
     "name": "stdout",
     "output_type": "stream",
     "text": [
      "Train on 48000 samples, validate on 12000 samples\n",
      "Epoch 1/4\n",
      "48000/48000 [==============================] - 24s 494us/step - loss: 0.4854 - acc: 0.8267 - val_loss: 0.3621 - val_acc: 0.8708\n",
      "Epoch 2/4\n",
      "48000/48000 [==============================] - 23s 479us/step - loss: 0.3028 - acc: 0.8890 - val_loss: 0.2936 - val_acc: 0.8968\n",
      "Epoch 3/4\n",
      "48000/48000 [==============================] - 23s 474us/step - loss: 0.2486 - acc: 0.9091 - val_loss: 0.2665 - val_acc: 0.9064\n",
      "Epoch 4/4\n",
      "48000/48000 [==============================] - 23s 481us/step - loss: 0.2060 - acc: 0.9242 - val_loss: 0.2512 - val_acc: 0.9126\n"
     ]
    },
    {
     "data": {
      "application/javascript": [
       "parent.postMessage({\"data\": {\"exceptionClass\": \"\", \"interactionType\": 1, \"learnTutorialId\": 91, \"trace\": \"\", \"learnToolsVersion\": \"0.2.11\", \"questionId\": \"5_FitFullDLModel\", \"valueTowardsCompletion\": 0.16666666666666666, \"outcomeType\": 1, \"failureMessage\": \"\"}, \"jupyterEvent\": \"custom.exercise_interaction\"}, \"*\")"
      ],
      "text/plain": [
       "<IPython.core.display.Javascript object>"
      ]
     },
     "metadata": {},
     "output_type": "display_data"
    },
    {
     "data": {
      "text/markdown": [
       "<span style=\"color:#33cc33\">Correct</span>"
      ],
      "text/plain": [
       "Correct"
      ]
     },
     "metadata": {},
     "output_type": "display_data"
    }
   ],
   "source": [
    "# Your code to fit the model here\n",
    "fashion_model.fit(x, y,\n",
    "          batch_size=100,\n",
    "          epochs=4,\n",
    "          validation_split = 0.2)\n",
    "q_5.check()"
   ]
  },
  {
   "cell_type": "code",
   "execution_count": null,
   "metadata": {},
   "outputs": [],
   "source": [
    "#_COMMENT_IF(PROD)_\n",
    "q_5.solution()"
   ]
  },
  {
   "cell_type": "markdown",
   "metadata": {},
   "source": [
    "# 6) Create A New Model\n",
    "\n",
    "Create a new model called `second_fashion_model` in the cell below.  Make some changes so it is different than `fashion_model` that you've trained above. The change could be using a different number of layers, different number of convolutions in the layers, etc.\n",
    "\n",
    "Define the model, compile it and fit it in the cell below.  See how it's validation score compares to that of the original model."
   ]
  },
  {
   "cell_type": "code",
   "execution_count": null,
   "metadata": {},
   "outputs": [],
   "source": [
    "# Your code below\n",
    "____\n",
    "\n",
    "q_6.check()"
   ]
  },
  {
   "cell_type": "code",
   "execution_count": null,
   "metadata": {},
   "outputs": [],
   "source": [
    "#_COMMENT_IF(PROD)_\n",
    "q_6.solution()"
   ]
  },
  {
   "cell_type": "code",
   "execution_count": null,
   "metadata": {},
   "outputs": [],
   "source": [
    "#%%RM_IF(PROD)%%\n",
    "from tensorflow import keras\n",
    "from tensorflow.keras.models import Sequential\n",
    "from tensorflow.keras.layers import Dense, Flatten, Conv2D\n",
    "\n",
    "fashion_model = Sequential()\n",
    "q_1.assert_check_passed()\n",
    "\n",
    "fashion_model.add(Conv2D(12,\n",
    "                         activation='relu',\n",
    "                         kernel_size=3,\n",
    "                         input_shape = (img_rows, img_cols, 1)))\n",
    "q_2.assert_check_passed()\n",
    "\n",
    "fashion_model.add(Conv2D(20, activation='relu', kernel_size=3))\n",
    "fashion_model.add(Conv2D(20, activation='relu', kernel_size=3))\n",
    "fashion_model.add(Flatten())\n",
    "fashion_model.add(Dense(100, activation='relu'))\n",
    "fashion_model.add(Dense(10, activation='softmax'))\n",
    "\n",
    "q_3.assert_check_passed()\n",
    "\n",
    "fashion_model.compile(loss='categorical_crossentropy',\n",
    "                      optimizer='adam',\n",
    "                      metrics=['accuracy'])\n",
    "\n",
    "q_4.assert_check_passed()\n",
    "\n",
    "# 1 epoch and high val_split to speed up testing\n",
    "fashion_model.fit(x, y, batch_size=100, epochs=1, validation_split=0.5)\n",
    "\n",
    "q_5.assert_check_passed()\n",
    "\n",
    "second_fashion_model = Sequential()\n",
    "second_fashion_model.add(Conv2D(12,\n",
    "                         activation='relu',\n",
    "                         kernel_size=3,\n",
    "                         input_shape = (img_rows, img_cols, 1)))\n",
    "# Changed kernel sizes to be 2\n",
    "second_fashion_model.add(Conv2D(20, activation='relu', kernel_size=2))\n",
    "second_fashion_model.add(Conv2D(20, activation='relu', kernel_size=2))\n",
    "# added an addition Conv2D layer\n",
    "second_fashion_model.add(Conv2D(20, activation='relu', kernel_size=2))\n",
    "second_fashion_model.add(Flatten())\n",
    "second_fashion_model.add(Dense(100, activation='relu'))\n",
    "# It is important not to change the last layer. First argument matches number of classes. Softmax guarantees we get reasonable probabilities\n",
    "second_fashion_model.add(Dense(10, activation='softmax'))\n",
    "\n",
    "second_fashion_model.compile(loss='categorical_crossentropy',\n",
    "                             optimizer='adam',\n",
    "                             metrics=['accuracy'])\n",
    "\n",
    "# 1 epoch to speed up testing\n",
    "second_fashion_model.fit(x, y, batch_size=100, epochs=1, validation_split=0.2)\n",
    "\n",
    "q_6.assert_check_passed()"
   ]
  },
  {
   "cell_type": "markdown",
   "metadata": {},
   "source": [
    "# Keep Going\n",
    "You are ready to learn about **[strides and dropout](https://www.kaggle.com/dansbecker/dropout-and-strides-for-larger-models)**, which become important as you start using bigger and more powerful models.\n"
   ]
  }
 ],
 "metadata": {
  "kernelspec": {
   "display_name": "Python 3",
   "language": "python",
   "name": "python3"
  },
  "language_info": {
   "codemirror_mode": {
    "name": "ipython",
    "version": 3
   },
   "file_extension": ".py",
   "mimetype": "text/x-python",
   "name": "python",
   "nbconvert_exporter": "python",
   "pygments_lexer": "ipython3",
   "version": "3.5.1"
  }
 },
 "nbformat": 4,
 "nbformat_minor": 2
}
