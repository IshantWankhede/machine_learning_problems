{
 "cells": [
  {
   "cell_type": "markdown",
   "metadata": {},
   "source": [
    "# Lunar Rock Classfication\n",
    "\n",
    "Using iamge Augmentation techniques"
   ]
  },
  {
   "cell_type": "code",
   "execution_count": 1,
   "metadata": {
    "colab": {
     "base_uri": "https://localhost:8080/",
     "height": 646
    },
    "colab_type": "code",
    "collapsed": true,
    "executionInfo": {
     "elapsed": 42532,
     "status": "ok",
     "timestamp": 1570597567238,
     "user": {
      "displayName": "Amit Agarwal",
      "photoUrl": "https://lh3.googleusercontent.com/a-/AAuE7mBt42SjR9APoAR-qVJSOkBpHyvvmw8o2Dw4mJpS=s64",
      "userId": "09342634691867414754"
     },
     "user_tz": -330
    },
    "id": "cVV5Umv5Q6vY",
    "outputId": "9ae2bf4b-3d9c-4792-ce0a-52de74a7dec5"
   },
   "outputs": [
    {
     "name": "stdout",
     "output_type": "stream",
     "text": [
      "Collecting tensorflow-gpu\n",
      "\u001b[?25l  Downloading https://files.pythonhosted.org/packages/25/44/47f0722aea081697143fbcf5d2aa60d1aee4aaacb5869aee2b568974777b/tensorflow_gpu-2.0.0-cp36-cp36m-manylinux2010_x86_64.whl (380.8MB)\n",
      "\u001b[K     |████████████████████████████████| 380.8MB 74.6MB/s \n",
      "\u001b[?25hRequirement already satisfied, skipping upgrade: keras-applications>=1.0.8 in /usr/local/lib/python3.6/dist-packages (from tensorflow-gpu) (1.0.8)\n",
      "Requirement already satisfied, skipping upgrade: protobuf>=3.6.1 in /usr/local/lib/python3.6/dist-packages (from tensorflow-gpu) (3.7.1)\n",
      "Requirement already satisfied, skipping upgrade: wrapt>=1.11.1 in /usr/local/lib/python3.6/dist-packages (from tensorflow-gpu) (1.11.2)\n",
      "Requirement already satisfied, skipping upgrade: astor>=0.6.0 in /usr/local/lib/python3.6/dist-packages (from tensorflow-gpu) (0.8.0)\n",
      "Collecting tensorboard<2.1.0,>=2.0.0 (from tensorflow-gpu)\n",
      "\u001b[?25l  Downloading https://files.pythonhosted.org/packages/9b/a6/e8ffa4e2ddb216449d34cfcb825ebb38206bee5c4553d69e7bc8bc2c5d64/tensorboard-2.0.0-py3-none-any.whl (3.8MB)\n",
      "\u001b[K     |████████████████████████████████| 3.8MB 27.2MB/s \n",
      "\u001b[?25hRequirement already satisfied, skipping upgrade: termcolor>=1.1.0 in /usr/local/lib/python3.6/dist-packages (from tensorflow-gpu) (1.1.0)\n",
      "Requirement already satisfied, skipping upgrade: six>=1.10.0 in /usr/local/lib/python3.6/dist-packages (from tensorflow-gpu) (1.12.0)\n",
      "Requirement already satisfied, skipping upgrade: keras-preprocessing>=1.0.5 in /usr/local/lib/python3.6/dist-packages (from tensorflow-gpu) (1.1.0)\n",
      "Requirement already satisfied, skipping upgrade: grpcio>=1.8.6 in /usr/local/lib/python3.6/dist-packages (from tensorflow-gpu) (1.15.0)\n",
      "Requirement already satisfied, skipping upgrade: numpy<2.0,>=1.16.0 in /usr/local/lib/python3.6/dist-packages (from tensorflow-gpu) (1.16.5)\n",
      "Collecting tensorflow-estimator<2.1.0,>=2.0.0 (from tensorflow-gpu)\n",
      "\u001b[?25l  Downloading https://files.pythonhosted.org/packages/95/00/5e6cdf86190a70d7382d320b2b04e4ff0f8191a37d90a422a2f8ff0705bb/tensorflow_estimator-2.0.0-py2.py3-none-any.whl (449kB)\n",
      "\u001b[K     |████████████████████████████████| 450kB 44.4MB/s \n",
      "\u001b[?25hRequirement already satisfied, skipping upgrade: absl-py>=0.7.0 in /usr/local/lib/python3.6/dist-packages (from tensorflow-gpu) (0.8.0)\n",
      "Requirement already satisfied, skipping upgrade: gast==0.2.2 in /usr/local/lib/python3.6/dist-packages (from tensorflow-gpu) (0.2.2)\n",
      "Requirement already satisfied, skipping upgrade: wheel>=0.26 in /usr/local/lib/python3.6/dist-packages (from tensorflow-gpu) (0.33.6)\n",
      "Requirement already satisfied, skipping upgrade: opt-einsum>=2.3.2 in /usr/local/lib/python3.6/dist-packages (from tensorflow-gpu) (3.1.0)\n",
      "Requirement already satisfied, skipping upgrade: google-pasta>=0.1.6 in /usr/local/lib/python3.6/dist-packages (from tensorflow-gpu) (0.1.7)\n",
      "Requirement already satisfied, skipping upgrade: h5py in /usr/local/lib/python3.6/dist-packages (from keras-applications>=1.0.8->tensorflow-gpu) (2.8.0)\n",
      "Requirement already satisfied, skipping upgrade: setuptools in /usr/local/lib/python3.6/dist-packages (from protobuf>=3.6.1->tensorflow-gpu) (41.2.0)\n",
      "Requirement already satisfied, skipping upgrade: markdown>=2.6.8 in /usr/local/lib/python3.6/dist-packages (from tensorboard<2.1.0,>=2.0.0->tensorflow-gpu) (3.1.1)\n",
      "Requirement already satisfied, skipping upgrade: werkzeug>=0.11.15 in /usr/local/lib/python3.6/dist-packages (from tensorboard<2.1.0,>=2.0.0->tensorflow-gpu) (0.16.0)\n",
      "\u001b[31mERROR: tensorflow 1.15.0rc3 has requirement tensorboard<1.16.0,>=1.15.0, but you'll have tensorboard 2.0.0 which is incompatible.\u001b[0m\n",
      "\u001b[31mERROR: tensorflow 1.15.0rc3 has requirement tensorflow-estimator==1.15.1, but you'll have tensorflow-estimator 2.0.0 which is incompatible.\u001b[0m\n",
      "Installing collected packages: tensorboard, tensorflow-estimator, tensorflow-gpu\n",
      "  Found existing installation: tensorboard 1.15.0\n",
      "    Uninstalling tensorboard-1.15.0:\n",
      "      Successfully uninstalled tensorboard-1.15.0\n",
      "  Found existing installation: tensorflow-estimator 1.15.1\n",
      "    Uninstalling tensorflow-estimator-1.15.1:\n",
      "      Successfully uninstalled tensorflow-estimator-1.15.1\n",
      "Successfully installed tensorboard-2.0.0 tensorflow-estimator-2.0.0 tensorflow-gpu-2.0.0\n"
     ]
    }
   ],
   "source": [
    "!pip install -U tensorflow-gpu"
   ]
  },
  {
   "cell_type": "code",
   "execution_count": 2,
   "metadata": {
    "colab": {
     "base_uri": "https://localhost:8080/",
     "height": 122
    },
    "colab_type": "code",
    "collapsed": true,
    "executionInfo": {
     "elapsed": 30593,
     "status": "ok",
     "timestamp": 1570597629697,
     "user": {
      "displayName": "Amit Agarwal",
      "photoUrl": "https://lh3.googleusercontent.com/a-/AAuE7mBt42SjR9APoAR-qVJSOkBpHyvvmw8o2Dw4mJpS=s64",
      "userId": "09342634691867414754"
     },
     "user_tz": -330
    },
    "id": "pvboHXXtRNNu",
    "outputId": "be95abd8-836a-4d97-e85c-6317338d03a1"
   },
   "outputs": [
    {
     "name": "stdout",
     "output_type": "stream",
     "text": [
      "Go to this URL in a browser: https://accounts.google.com/o/oauth2/auth?client_id=947318989803-6bn6qk8qdgf4n4g3pfee6491hc0brc4i.apps.googleusercontent.com&redirect_uri=urn%3Aietf%3Awg%3Aoauth%3A2.0%3Aoob&scope=email%20https%3A%2F%2Fwww.googleapis.com%2Fauth%2Fdocs.test%20https%3A%2F%2Fwww.googleapis.com%2Fauth%2Fdrive%20https%3A%2F%2Fwww.googleapis.com%2Fauth%2Fdrive.photos.readonly%20https%3A%2F%2Fwww.googleapis.com%2Fauth%2Fpeopleapi.readonly&response_type=code\n",
      "\n",
      "Enter your authorization code:\n",
      "··········\n",
      "Mounted at /content/drive\n"
     ]
    }
   ],
   "source": [
    "from google.colab import drive\n",
    "drive.mount('/content/drive',force_remount=True)"
   ]
  },
  {
   "cell_type": "code",
   "execution_count": 0,
   "metadata": {
    "colab": {},
    "colab_type": "code",
    "id": "zR41p7iVRZAq"
   },
   "outputs": [],
   "source": [
    "import tensorflow as tf\n",
    "from tensorflow import keras\n",
    "from tensorflow.keras.models import Sequential\n",
    "from tensorflow.keras.layers import Dense, Conv2D, Flatten, Dropout, MaxPooling2D\n",
    "from tensorflow.keras.preprocessing.image import ImageDataGenerator\n",
    "import pickle\n",
    "import os\n",
    "import numpy as np\n",
    "import pandas as pd\n",
    "import matplotlib.pyplot as plt"
   ]
  },
  {
   "cell_type": "code",
   "execution_count": null,
   "metadata": {},
   "outputs": [],
   "source": [
    "# Global Flags to control Data & Training/Valdiation\n",
    "download = False\n",
    "validation = False"
   ]
  },
  {
   "cell_type": "code",
   "execution_count": 0,
   "metadata": {
    "colab": {},
    "colab_type": "code",
    "id": "pyVnS6ZPTyFX"
   },
   "outputs": [],
   "source": [
    "# downloads and extracts, For Local/G-Drive\n",
    "base_url = '/content/drive/My Drive/personal_hackathons/DataSet/'\n",
    "\n",
    "\n",
    "if download :\n",
    "    _URL = 'http://hck.re/kkBIfM'\n",
    "    path_to_zip = tf.keras.utils.get_file(base_url +'lunar_rock.zip' , origin=_URL, extract=True)\n",
    "    PATH = os.path.join(os.path.dirname(path_to_zip), 'lunar_rock')\n",
    "    print(\"Paths to the ZIP File : {}\".format(path_to_zip))\n",
    "\n",
    "else :\n",
    "    PATH='/content/drive/My Drive/personal_hackathons/DataSet/lunar_rock/'"
   ]
  },
  {
   "cell_type": "code",
   "execution_count": 7,
   "metadata": {
    "colab": {
     "base_uri": "https://localhost:8080/",
     "height": 34
    },
    "colab_type": "code",
    "executionInfo": {
     "elapsed": 964,
     "status": "ok",
     "timestamp": 1570597679513,
     "user": {
      "displayName": "Amit Agarwal",
      "photoUrl": "https://lh3.googleusercontent.com/a-/AAuE7mBt42SjR9APoAR-qVJSOkBpHyvvmw8o2Dw4mJpS=s64",
      "userId": "09342634691867414754"
     },
     "user_tz": -330
    },
    "id": "Nq_QG8VeWFD9",
    "outputId": "e463ccf1-97ff-4195-8f10-f5ab15300132"
   },
   "outputs": [
    {
     "name": "stdout",
     "output_type": "stream",
     "text": [
      "Paths to the Data File : /content/drive/My Drive/personal_hackathons/DataSet/lunar_rock/\n"
     ]
    }
   ],
   "source": [
    "print(\"Paths to the Data File : {}\".format(PATH))"
   ]
  },
  {
   "cell_type": "code",
   "execution_count": 0,
   "metadata": {
    "colab": {},
    "colab_type": "code",
    "id": "qgvFg4TSTkB8"
   },
   "outputs": [],
   "source": [
    "# Unzip Downloaded data if Downloading is required\n",
    "\n",
    "if download :\n",
    "\n",
    "    os.chdir(PATH)  #change dir\n",
    "    !mkdir train  #create a directory named train/\n",
    "    !mkdir test  #create a directory named test/\n",
    "    !unzip train.zip -d PATH  #unzip data in train/\n",
    "    !unzip  test.zip  -d PATH #unzip data in test/\n",
    "    !unzip sample_submission.csv.zip\n",
    "    !unzip train_labels.csv.zip"
   ]
  },
  {
   "cell_type": "code",
   "execution_count": 9,
   "metadata": {
    "colab": {
     "base_uri": "https://localhost:8080/",
     "height": 68
    },
    "colab_type": "code",
    "executionInfo": {
     "elapsed": 968,
     "status": "ok",
     "timestamp": 1570597694703,
     "user": {
      "displayName": "Amit Agarwal",
      "photoUrl": "https://lh3.googleusercontent.com/a-/AAuE7mBt42SjR9APoAR-qVJSOkBpHyvvmw8o2Dw4mJpS=s64",
      "userId": "09342634691867414754"
     },
     "user_tz": -330
    },
    "id": "dXK_J10YWWyV",
    "outputId": "7621f88b-d93e-4c97-d6c8-20a6178c2050"
   },
   "outputs": [
    {
     "name": "stdout",
     "output_type": "stream",
     "text": [
      "Paths  Train : /content/drive/My Drive/personal_hackathons/DataSet/lunar_rock/train \n",
      "Paths  Train Large : /content/drive/My Drive/personal_hackathons/DataSet/lunar_rock/train/Large \n",
      "Paths  Trai Small: /content/drive/My Drive/personal_hackathons/DataSet/lunar_rock/train/Small \n"
     ]
    }
   ],
   "source": [
    "train_dir = os.path.join(PATH, 'train')\n",
    "train_lg_dir = os.path.join(train_dir, 'Large')  # directory with our training Large Lunar rock pictures\n",
    "train_sm_dir = os.path.join(train_dir, 'Small')  # directory with our training Small Lunar rock pictures\n",
    "\n",
    "print(\"Paths  Train : {} \".format(train_dir))\n",
    "print(\"Paths  Train Large : {} \".format(train_lg_dir))\n",
    "print(\"Paths  Train Small: {} \".format(train_sm_dir))\n",
    "\n",
    "if validation : \n",
    "    validation_dir = os.path.join(PATH, 'validation')\n",
    "    validation_lg_dir = os.path.join(validation_dir, 'Large')  # directory with our Large Lunar rock pictures\n",
    "    validation_sm_dir = os.path.join(validation_dir, 'Small')  # directory with our Small Lunar rock pictures"
   ]
  },
  {
   "cell_type": "code",
   "execution_count": 0,
   "metadata": {
    "colab": {},
    "colab_type": "code",
    "id": "YxUGY83OXULl"
   },
   "outputs": [],
   "source": [
    "num_lg_tr = len(os.listdir(train_lg_dir))\n",
    "num_sm_tr = len(os.listdir(train_sm_dir))\n",
    "total_train = num_lg_tr + num_sm_tr\n",
    "\n",
    "if validation :\n",
    "    \n",
    "    num_lg_val = len(os.listdir(validation_lg_dir))\n",
    "    num_sm_val = len(os.listdir(validation_sm_dir))\n",
    "    total_val = num_cats_val + num_dogs_val"
   ]
  },
  {
   "cell_type": "code",
   "execution_count": 11,
   "metadata": {
    "colab": {
     "base_uri": "https://localhost:8080/",
     "height": 85
    },
    "colab_type": "code",
    "executionInfo": {
     "elapsed": 36780,
     "status": "ok",
     "timestamp": 1570597732520,
     "user": {
      "displayName": "Amit Agarwal",
      "photoUrl": "https://lh3.googleusercontent.com/a-/AAuE7mBt42SjR9APoAR-qVJSOkBpHyvvmw8o2Dw4mJpS=s64",
      "userId": "09342634691867414754"
     },
     "user_tz": -330
    },
    "id": "_OXOB5hvXVqG",
    "outputId": "45405a69-52d9-47b0-b543-9cff1ff7005b"
   },
   "outputs": [
    {
     "name": "stdout",
     "output_type": "stream",
     "text": [
      "total training Large images: 5999\n",
      "total training Small images: 5999\n",
      "Total training images: 11998\n",
      "--\n"
     ]
    }
   ],
   "source": [
    "print('total training Large images:', num_lg_tr)\n",
    "print('total training Small images:', num_sm_tr)\n",
    "print(\"Total training images:\", total_train)\n",
    "\n",
    "print(\"--\")\n",
    "\n",
    "if validation :\n",
    "    print('total validation Large images:', num_lg_val)\n",
    "    print('total validation Small images:', num_sm_val)\n",
    "    print(\"Total validation images:\", total_val)s"
   ]
  },
  {
   "cell_type": "code",
   "execution_count": 0,
   "metadata": {
    "colab": {},
    "colab_type": "code",
    "id": "4JPkNo634-qh"
   },
   "outputs": [],
   "source": [
    "batch_size = 128\n",
    "EPOCHS = 24\n",
    "IMG_HEIGHT = 480 # As the input image is 480 X 720\n",
    "IMG_WIDTH = 480 # As the input image is 480 X 720"
   ]
  },
  {
   "cell_type": "code",
   "execution_count": 0,
   "metadata": {
    "colab": {},
    "colab_type": "code",
    "id": "alUdFcucpswO"
   },
   "outputs": [],
   "source": [
    "# Evaluate baseline Model\n",
    "def evaluation(model,generator,data = \"Training\"):\n",
    "  print(\"--------------Evaluating {} Dataset--------------\".format(data))\n",
    "  results = model.evaluate_generator(generator=generator,verbose=1)\n",
    "  precision=0\n",
    "  recall=0\n",
    "  for name, value in zip(model.metrics_names, results):\n",
    "    print(name, ': ', value)\n",
    "\n",
    "    if name.strip() == 'precision':\n",
    "      precision = value\n",
    "\n",
    "    if name.strip() == 'recall':\n",
    "      recall = value\n",
    "\n",
    "  if precision !=0 and recall!=0 :\n",
    "    f1 = (2 * precision * recall)/(precision+recall)\n",
    "    print(\"f1 : \",f1)\n",
    "\n",
    "\n",
    "def plot_metrices(EPOCHS,history,if_val=True):\n",
    "  \n",
    "  epochs = range(EPOCHS)\n",
    "\n",
    "  plt.title('Accuracy')\n",
    "  plt.plot(epochs,  history.history['accuracy'], color='blue', label='Train')\n",
    "  if if_val:\n",
    "    plt.plot(epochs, history.history['val_accuracy'], color='orange', label='Val')\n",
    "  plt.xlabel('Epoch')\n",
    "  plt.ylabel('Accuracy')\n",
    "  plt.legend()\n",
    "\n",
    "  _ = plt.figure()\n",
    "  plt.title('Loss')\n",
    "  plt.plot(epochs, history.history['loss'], color='blue', label='Train')\n",
    "  if if_val:\n",
    "    plt.plot(epochs, history.history['val_loss'], color='orange', label='Val')\n",
    "  plt.xlabel('Epoch')\n",
    "  plt.ylabel('Loss')\n",
    "  plt.legend()\n",
    "\n",
    "  _ = plt.figure()\n",
    "  plt.title('False Negatives')\n",
    "  plt.plot(epochs, history.history['fn'], color='blue', label='Train')\n",
    "  if if_val:\n",
    "    plt.plot(epochs, history.history['val_fn'], color='orange', label='Val')\n",
    "  plt.xlabel('Epoch')\n",
    "  plt.ylabel('False Negatives')\n",
    "  plt.legend()\n",
    "\n",
    "def plot_confusion_matrix(predict,generator,threshold):\n",
    "  # Confusion Matrix\n",
    "\n",
    "  \n",
    "  labels = generator.classes\n",
    "  labels_pred = (predict[:,0] > threshold).astype(np.int)\n",
    "\n",
    "  cm = confusion_matrix(labels,labels_pred)\n",
    "\n",
    "  plt.matshow(cm, alpha=0)\n",
    "  plt.title('Confusion matrix')\n",
    "  plt.ylabel('Actual label')\n",
    "  plt.xlabel('Predicted label')\n",
    "\n",
    "  for (i, j), z in np.ndenumerate(cm):\n",
    "      plt.text(j, i, str(z), ha='center', va='center')\n",
    "\n",
    "  plt.show()\n",
    "\n",
    "  print('Legitimate Customers Detected (True Negatives): ', cm[0][0])\n",
    "  print('Legitimate Customers Incorrectly Detected (False Positives): ', cm[0][1])\n",
    "  print('Loan Deafulters  Missed (False Negatives): ', cm[1][0])\n",
    "  print('Loan Deafulters Detected (True Positives): ', cm[1][1])\n",
    "  print('Total Loan Deafulters Customers: ', np.sum(cm[1]))\n",
    "\n",
    "def submission_categorical(model,submission_csv = '/content/drive/My Drive/personal_hackathons/DataSet/lunar_rock/results_01.pickle'):\n",
    "\n",
    "  # Instantiate Generator\n",
    "  test_datagen = ImageDataGenerator(rescale=1./255)\n",
    "  test_dir = '/content/drive/My Drive/personal_hackathons/DataSet/lunar_rock/PATH/'\n",
    "\n",
    "  test_generator = test_datagen.flow_from_directory(\n",
    "          test_dir,\n",
    "          target_size=(IMG_HEIGHT, IMG_WIDTH),\n",
    "          # color_mode=\"rgb\",\n",
    "          shuffle = False,\n",
    "          class_mode='binary',\n",
    "          batch_size=batch_size)\n",
    "  \n",
    "  # Check test Files\n",
    "  filenames = test_generator.filenames\n",
    "  nb_samples = len(filenames)\n",
    "  print(\"Test Size : {}\".format(nb_samples))\n",
    "  # print(filenames)\n",
    "\n",
    "  # Model Prediction\n",
    "  test_generator.reset()\n",
    "  predict = model.predict_generator(test_generator,verbose=1)\n",
    "  print(\"Model Prediction Shape {}\".format(predict.shape))\n",
    "\n",
    "  labels = train_data_gen.class_indices\n",
    "  predicted_class_indices=np.argmax(predict,axis=1)\n",
    "\n",
    "    \n",
    "  print(\"Labels : {}\".format(labels) )\n",
    "  print(\"Class Indices {}\".format(predicted_class_indices))\n",
    "\n",
    "  labels = dict((v,k) for k,v in labels.items())\n",
    "  predictions = [labels[k] for k in predicted_class_indices]\n",
    "\n",
    "\n",
    "  results=pd.DataFrame({\"Image_File\":filenames,\n",
    "                        \"Class\":predictions})\n",
    "  print(\"Distribution : {} \".format(results['Class'].value_counts()))\n",
    "\n",
    "  # Write Sumission\n",
    "  with open(submission_name,'wb') as f :\n",
    "    pickle.dump(results,f)\n",
    "\n",
    "  return results\n",
    "\n",
    "def submission_binary(model,threshold =  0.4,\n",
    "                      submission_name='lunar01_m1.pickle'):\n",
    "  \n",
    "  # Instantiate Generator\n",
    "  test_datagen = ImageDataGenerator(rescale=1./255)\n",
    "  test_dir = '/content/drive/My Drive/personal_hackathons/DataSet/lunar_rock/PATH/'\n",
    "\n",
    "  test_generator = test_datagen.flow_from_directory(\n",
    "          test_dir,\n",
    "          target_size=(IMG_HEIGHT, IMG_WIDTH),\n",
    "          # color_mode=\"rgb\",\n",
    "          shuffle = False,\n",
    "          class_mode='binary',\n",
    "          batch_size=batch_size)\n",
    "  \n",
    "  # Check test Files\n",
    "  filenames = test_generator.filenames\n",
    "  nb_samples = len(filenames)\n",
    "  print(\"Test Size : {}\".format(nb_samples))\n",
    "  # print(filenames)\n",
    "\n",
    "  # Model Prediction\n",
    "  test_generator.reset()\n",
    "  predict = model.predict_generator(test_generator,verbose=1)\n",
    "  print(\"Model Prediction Shape {}\".format(predict.shape))\n",
    "\n",
    "  labels = train_data_gen.class_indices\n",
    "  print(\"Labels : {}\".format(labels) )\n",
    "\n",
    "  # Predicting Classes based on Threshold\n",
    "  predict_class = predict > threshold\n",
    "  predict_class = predict_class.reshape(1,-1)\n",
    "  predict_class = predict_class[0]\n",
    "\n",
    "  results=pd.DataFrame({\"Image_File\":filenames,\n",
    "                      \"Class\":predict_class})\n",
    "  \n",
    "  results['Image_File'] = results['Image_File'].apply(lambda x : x[12:])\n",
    "  results['Class'] = results['Class'].map({True: 'Small', False: \"Large\"})\n",
    "  \n",
    "  print(\"Distribution : {} \".format(results['Class'].value_counts()))\n",
    "\n",
    "  # Write Sumission\n",
    "  with open(submission_name,'wb') as f :\n",
    "    pickle.dump(results,f)\n",
    "\n",
    "  return results"
   ]
  },
  {
   "cell_type": "code",
   "execution_count": 15,
   "metadata": {
    "colab": {
     "base_uri": "https://localhost:8080/",
     "height": 34
    },
    "colab_type": "code",
    "executionInfo": {
     "elapsed": 972,
     "status": "ok",
     "timestamp": 1570597923306,
     "user": {
      "displayName": "Amit Agarwal",
      "photoUrl": "https://lh3.googleusercontent.com/a-/AAuE7mBt42SjR9APoAR-qVJSOkBpHyvvmw8o2Dw4mJpS=s64",
      "userId": "09342634691867414754"
     },
     "user_tz": -330
    },
    "id": "NowqhYiZXfiX",
    "outputId": "bdf385e7-24b5-4e67-84fc-2c2a8c8462a6"
   },
   "outputs": [
    {
     "name": "stdout",
     "output_type": "stream",
     "text": [
      "Found 11998 images belonging to 2 classes.\n"
     ]
    }
   ],
   "source": [
    "# When using whole dataset for training\n",
    "\n",
    "train_image_generator = ImageDataGenerator(validation_split=0.2,\n",
    "                                           rotation_range=45,                                           \n",
    "                                           horizontal_flip=True,\n",
    "                                           zoom_range=0.5,\n",
    "                                           rescale=1./255) # Generator for our training data\n",
    "\n",
    "train_data_gen = train_image_generator.flow_from_directory(batch_size=batch_size,\n",
    "                                                           directory=train_dir,\n",
    "                                                           shuffle=True,\n",
    "                                                           target_size=(IMG_HEIGHT, IMG_WIDTH),\n",
    "                                                           class_mode='binary',\n",
    "                                                           )\n",
    "\n",
    "# While Splitting into Train & Validation\n",
    "\n",
    "# train_image_generator = ImageDataGenerator(validation_split=0.2,\n",
    "#                                            rotation_range=45,                                           \n",
    "#                                            horizontal_flip=True,\n",
    "#                                            zoom_range=0.5,\n",
    "#                                            rescale=1./255) # Generator for our training data\n",
    "\n",
    "# train_data_gen = train_image_generator.flow_from_directory(batch_size=batch_size,\n",
    "#                                                            directory=train_dir,\n",
    "#                                                            shuffle=True,                                                           \n",
    "#                                                            target_size=(IMG_HEIGHT, IMG_WIDTH),\n",
    "#                                                            class_mode='binary',\n",
    "#                                                            subset='training')\n",
    "\n",
    "# val_data_gen = train_image_generator.flow_from_directory(batch_size=batch_size,\n",
    "#                                                               directory=train_dir,\n",
    "#                                                               shuffle=False,\n",
    "#                                                               target_size=(IMG_HEIGHT, IMG_WIDTH),\n",
    "#                                                               class_mode='binary',\n",
    "#                                                               subset='validation')"
   ]
  },
  {
   "cell_type": "code",
   "execution_count": 0,
   "metadata": {
    "colab": {},
    "colab_type": "code",
    "id": "Wlo2XAeGXioH"
   },
   "outputs": [],
   "source": [
    "# Only to be used When we have a different Validation Set \n",
    "\n",
    "if validation :\n",
    "    validation_image_generator = ImageDataGenerator(rescale=1./255) # Generator for our validation data\n",
    "    val_data_gen = validation_image_generator.flow_from_directory(batch_size=batch_size,\n",
    "                                                                  directory=validation_dir,\n",
    "                                                                  target_size=(IMG_HEIGHT, IMG_WIDTH),\n",
    "                                                                  class_mode='binary')"
   ]
  },
  {
   "cell_type": "code",
   "execution_count": 0,
   "metadata": {
    "colab": {},
    "colab_type": "code",
    "id": "1Y0z2qveXjY1"
   },
   "outputs": [],
   "source": [
    "sample_training_images, sample_training_labels = next(train_data_gen)\n",
    "sample_training_labels[:5]"
   ]
  },
  {
   "cell_type": "code",
   "execution_count": 18,
   "metadata": {
    "colab": {
     "base_uri": "https://localhost:8080/",
     "height": 301
    },
    "colab_type": "code",
    "executionInfo": {
     "elapsed": 49268,
     "status": "ok",
     "timestamp": 1570597981499,
     "user": {
      "displayName": "Amit Agarwal",
      "photoUrl": "https://lh3.googleusercontent.com/a-/AAuE7mBt42SjR9APoAR-qVJSOkBpHyvvmw8o2Dw4mJpS=s64",
      "userId": "09342634691867414754"
     },
     "user_tz": -330
    },
    "id": "SxlXXFmaXmA9",
    "outputId": "41fe1f65-43b0-47b8-ad0a-ac95b26c572a"
   },
   "outputs": [
    {
     "data": {
      "image/png": "[encoded data removed]",
      "text/plain": [
       "<Figure size 1440x1440 with 5 Axes>"
      ]
     },
     "metadata": {
      "tags": []
     },
     "output_type": "display_data"
    }
   ],
   "source": [
    "# This function will plot images in the form of a grid with 1 row and 5 columns where images are placed in each column.\n",
    "def plotImages(images_arr):\n",
    "    fig, axes = plt.subplots(1, 5, figsize=(20,20))\n",
    "    axes = axes.flatten()\n",
    "    for img, ax in zip( images_arr, axes):\n",
    "        ax.imshow(img)\n",
    "        ax.axis('off')\n",
    "    plt.tight_layout()\n",
    "    plt.show()\n",
    "\n",
    "plotImages(sample_training_images[:5])"
   ]
  },
  {
   "cell_type": "code",
   "execution_count": 0,
   "metadata": {
    "colab": {},
    "colab_type": "code",
    "id": "KxhkRvtEqWXz"
   },
   "outputs": [],
   "source": [
    "def model_metrics():\n",
    "  metrics = [\n",
    "    keras.metrics.Accuracy(name='accuracy'),\n",
    "    keras.metrics.TruePositives(name='tp'),\n",
    "    keras.metrics.FalsePositives(name='fp'),\n",
    "    keras.metrics.TrueNegatives(name='tn'),\n",
    "    keras.metrics.FalseNegatives(name='fn'),\n",
    "    keras.metrics.Precision(name='precision'),\n",
    "    keras.metrics.Recall(name='recall'),\n",
    "    keras.metrics.AUC(name='auc')\n",
    "  ]\n",
    "\n",
    "  return metrics\n",
    "\n",
    "metrics = model_metrics()"
   ]
  },
  {
   "cell_type": "code",
   "execution_count": 0,
   "metadata": {
    "colab": {},
    "colab_type": "code",
    "id": "3pjKH0xrXryZ"
   },
   "outputs": [],
   "source": [
    "def make_model1(metrics=metrics):\n",
    "\n",
    "  model = Sequential([\n",
    "      Conv2D(16, 3, padding='same', activation='relu', input_shape=(IMG_HEIGHT, IMG_WIDTH ,3)),\n",
    "      MaxPooling2D(),\n",
    "      Conv2D(32, 3, padding='same', activation='relu'),\n",
    "      MaxPooling2D(),\n",
    "      Conv2D(64, 3, padding='same', activation='relu'),\n",
    "      MaxPooling2D(),\n",
    "      Flatten(),\n",
    "      Dense(512, activation='relu'),\n",
    "      Dense(1, activation='sigmoid')\n",
    "  ])\n",
    "\n",
    "  model.compile(optimizer='adam',\n",
    "                loss='binary_crossentropy',\n",
    "                metrics=metrics)\n",
    "\n",
    "  model.summary()\n",
    "\n",
    "  return model"
   ]
  },
  {
   "cell_type": "code",
   "execution_count": 0,
   "metadata": {
    "colab": {},
    "colab_type": "code",
    "id": "T0t9VET-eFiR"
   },
   "outputs": [],
   "source": [
    "def make_model2(metrics=metrics):\n",
    "  model = Sequential([\n",
    "    Conv2D(16, 3, padding='same', activation='relu', \n",
    "           input_shape=(IMG_HEIGHT, IMG_WIDTH ,3)),\n",
    "    MaxPooling2D(),\n",
    "    Dropout(0.2),\n",
    "    Conv2D(32, 3, padding='same', activation='relu'),\n",
    "    MaxPooling2D(),\n",
    "    Conv2D(64, 3, padding='same', activation='relu'),\n",
    "    MaxPooling2D(),\n",
    "    Dropout(0.2),\n",
    "    Flatten(),\n",
    "    Dense(512, activation='relu'),\n",
    "    Dense(1, activation='sigmoid')\n",
    "])\n",
    "  model.compile(optimizer='adam',\n",
    "              loss='binary_crossentropy',\n",
    "              metrics=metrics)\n",
    "\n",
    "  model.summary()\n",
    "\n",
    "  return model\n"
   ]
  },
  {
   "cell_type": "code",
   "execution_count": 23,
   "metadata": {
    "colab": {
     "base_uri": "https://localhost:8080/",
     "height": 1000
    },
    "colab_type": "code",
    "executionInfo": {
     "elapsed": 3059375,
     "status": "ok",
     "timestamp": 1570606385232,
     "user": {
      "displayName": "Amit Agarwal",
      "photoUrl": "https://lh3.googleusercontent.com/a-/AAuE7mBt42SjR9APoAR-qVJSOkBpHyvvmw8o2Dw4mJpS=s64",
      "userId": "09342634691867414754"
     },
     "user_tz": -330
    },
    "id": "UOzk8Iz5Xwdl",
    "outputId": "ce0b8166-a3f6-4a15-a25c-fd406c67e21a"
   },
   "outputs": [
    {
     "name": "stdout",
     "output_type": "stream",
     "text": [
      "Model: \"sequential_1\"\n",
      "_________________________________________________________________\n",
      "Layer (type)                 Output Shape              Param #   \n",
      "=================================================================\n",
      "conv2d_3 (Conv2D)            (None, 480, 480, 16)      448       \n",
      "_________________________________________________________________\n",
      "max_pooling2d_3 (MaxPooling2 (None, 240, 240, 16)      0         \n",
      "_________________________________________________________________\n",
      "dropout_2 (Dropout)          (None, 240, 240, 16)      0         \n",
      "_________________________________________________________________\n",
      "conv2d_4 (Conv2D)            (None, 240, 240, 32)      4640      \n",
      "_________________________________________________________________\n",
      "max_pooling2d_4 (MaxPooling2 (None, 120, 120, 32)      0         \n",
      "_________________________________________________________________\n",
      "conv2d_5 (Conv2D)            (None, 120, 120, 64)      18496     \n",
      "_________________________________________________________________\n",
      "max_pooling2d_5 (MaxPooling2 (None, 60, 60, 64)        0         \n",
      "_________________________________________________________________\n",
      "dropout_3 (Dropout)          (None, 60, 60, 64)        0         \n",
      "_________________________________________________________________\n",
      "flatten_1 (Flatten)          (None, 230400)            0         \n",
      "_________________________________________________________________\n",
      "dense_2 (Dense)              (None, 512)               117965312 \n",
      "_________________________________________________________________\n",
      "dense_3 (Dense)              (None, 1)                 513       \n",
      "=================================================================\n",
      "Total params: 117,989,409\n",
      "Trainable params: 117,989,409\n",
      "Non-trainable params: 0\n",
      "_________________________________________________________________\n",
      "Epoch 1/24\n",
      "94/94 [==============================] - 3818s 41s/step - loss: 0.4410 - accuracy: 0.0681 - tp: 5086.0000 - fp: 599.0000 - tn: 5400.0000 - fn: 913.0000 - precision: 0.8946 - recall: 0.8478 - auc: 0.9321\n",
      "Epoch 2/24\n",
      "94/94 [==============================] - 197s 2s/step - loss: 0.0194 - accuracy: 0.3834 - tp: 5926.0000 - fp: 6.0000 - tn: 5993.0000 - fn: 73.0000 - precision: 0.9990 - recall: 0.9878 - auc: 0.9998\n",
      "Epoch 3/24\n",
      "94/94 [==============================] - 197s 2s/step - loss: 0.0074 - accuracy: 0.5032 - tp: 5983.0000 - fp: 6.0000 - tn: 5993.0000 - fn: 16.0000 - precision: 0.9990 - recall: 0.9973 - auc: 0.9999\n",
      "Epoch 4/24\n",
      "94/94 [==============================] - 197s 2s/step - loss: 0.0063 - accuracy: 0.4424 - tp: 5979.0000 - fp: 1.0000 - tn: 5998.0000 - fn: 20.0000 - precision: 0.9998 - recall: 0.9967 - auc: 1.0000\n",
      "Epoch 5/24\n",
      "94/94 [==============================] - 197s 2s/step - loss: 0.0019 - accuracy: 0.5015 - tp: 5994.0000 - fp: 0.0000e+00 - tn: 5999.0000 - fn: 5.0000 - precision: 1.0000 - recall: 0.9992 - auc: 1.0000\n",
      "Epoch 6/24\n",
      "94/94 [==============================] - 197s 2s/step - loss: 0.0015 - accuracy: 0.5528 - tp: 5993.0000 - fp: 1.0000 - tn: 5998.0000 - fn: 6.0000 - precision: 0.9998 - recall: 0.9990 - auc: 1.0000\n",
      "Epoch 7/24\n",
      "94/94 [==============================] - 196s 2s/step - loss: 0.0012 - accuracy: 0.6015 - tp: 5997.0000 - fp: 1.0000 - tn: 5998.0000 - fn: 2.0000 - precision: 0.9998 - recall: 0.9997 - auc: 1.0000\n",
      "Epoch 8/24\n",
      "94/94 [==============================] - 197s 2s/step - loss: 0.0011 - accuracy: 0.6319 - tp: 5996.0000 - fp: 2.0000 - tn: 5997.0000 - fn: 3.0000 - precision: 0.9997 - recall: 0.9995 - auc: 1.0000\n",
      "Epoch 9/24\n",
      "94/94 [==============================] - 197s 2s/step - loss: 9.8835e-04 - accuracy: 0.6174 - tp: 5997.0000 - fp: 1.0000 - tn: 5998.0000 - fn: 2.0000 - precision: 0.9998 - recall: 0.9997 - auc: 1.0000\n",
      "Epoch 10/24\n",
      "94/94 [==============================] - 199s 2s/step - loss: 8.4462e-04 - accuracy: 0.6696 - tp: 5997.0000 - fp: 2.0000 - tn: 5997.0000 - fn: 2.0000 - precision: 0.9997 - recall: 0.9997 - auc: 1.0000\n",
      "Epoch 11/24\n",
      "94/94 [==============================] - 200s 2s/step - loss: 5.5589e-04 - accuracy: 0.6658 - tp: 5997.0000 - fp: 0.0000e+00 - tn: 5999.0000 - fn: 2.0000 - precision: 1.0000 - recall: 0.9997 - auc: 1.0000\n",
      "Epoch 12/24\n",
      "94/94 [==============================] - 201s 2s/step - loss: 6.2125e-04 - accuracy: 0.6938 - tp: 5997.0000 - fp: 3.0000 - tn: 5996.0000 - fn: 2.0000 - precision: 0.9995 - recall: 0.9997 - auc: 1.0000\n",
      "Epoch 13/24\n",
      "94/94 [==============================] - 198s 2s/step - loss: 5.0674e-04 - accuracy: 0.6952 - tp: 5997.0000 - fp: 0.0000e+00 - tn: 5999.0000 - fn: 2.0000 - precision: 1.0000 - recall: 0.9997 - auc: 1.0000\n",
      "Epoch 14/24\n",
      "94/94 [==============================] - 197s 2s/step - loss: 5.3749e-04 - accuracy: 0.7337 - tp: 5997.0000 - fp: 0.0000e+00 - tn: 5999.0000 - fn: 2.0000 - precision: 1.0000 - recall: 0.9997 - auc: 1.0000\n",
      "Epoch 15/24\n",
      "94/94 [==============================] - 196s 2s/step - loss: 5.0400e-04 - accuracy: 0.7361 - tp: 5997.0000 - fp: 0.0000e+00 - tn: 5999.0000 - fn: 2.0000 - precision: 1.0000 - recall: 0.9997 - auc: 1.0000\n",
      "Epoch 16/24\n",
      "94/94 [==============================] - 196s 2s/step - loss: 4.3057e-04 - accuracy: 0.7433 - tp: 5997.0000 - fp: 0.0000e+00 - tn: 5999.0000 - fn: 2.0000 - precision: 1.0000 - recall: 0.9997 - auc: 1.0000\n",
      "Epoch 17/24\n",
      "94/94 [==============================] - 196s 2s/step - loss: 4.6602e-04 - accuracy: 0.7743 - tp: 5998.0000 - fp: 1.0000 - tn: 5998.0000 - fn: 1.0000 - precision: 0.9998 - recall: 0.9998 - auc: 1.0000\n",
      "Epoch 18/24\n",
      "94/94 [==============================] - 197s 2s/step - loss: 7.9791e-04 - accuracy: 0.8036 - tp: 5997.0000 - fp: 2.0000 - tn: 5997.0000 - fn: 2.0000 - precision: 0.9997 - recall: 0.9997 - auc: 1.0000\n",
      "Epoch 19/24\n",
      "94/94 [==============================] - 196s 2s/step - loss: 0.0038 - accuracy: 0.6467 - tp: 5995.0000 - fp: 5.0000 - tn: 5994.0000 - fn: 4.0000 - precision: 0.9992 - recall: 0.9993 - auc: 0.9998\n",
      "Epoch 20/24\n",
      "94/94 [==============================] - 198s 2s/step - loss: 0.0013 - accuracy: 0.7038 - tp: 5997.0000 - fp: 3.0000 - tn: 5996.0000 - fn: 2.0000 - precision: 0.9995 - recall: 0.9997 - auc: 1.0000\n",
      "Epoch 21/24\n",
      "94/94 [==============================] - 196s 2s/step - loss: 6.5732e-04 - accuracy: 0.8033 - tp: 5998.0000 - fp: 1.0000 - tn: 5998.0000 - fn: 1.0000 - precision: 0.9998 - recall: 0.9998 - auc: 1.0000\n",
      "Epoch 22/24\n",
      "94/94 [==============================] - 196s 2s/step - loss: 4.7316e-04 - accuracy: 0.7912 - tp: 5997.0000 - fp: 0.0000e+00 - tn: 5999.0000 - fn: 2.0000 - precision: 1.0000 - recall: 0.9997 - auc: 1.0000\n",
      "Epoch 23/24\n",
      "94/94 [==============================] - 196s 2s/step - loss: 5.2201e-04 - accuracy: 0.8626 - tp: 5997.0000 - fp: 1.0000 - tn: 5998.0000 - fn: 2.0000 - precision: 0.9998 - recall: 0.9997 - auc: 1.0000\n",
      "Epoch 24/24\n",
      "94/94 [==============================] - 196s 2s/step - loss: 4.6280e-04 - accuracy: 0.8530 - tp: 5997.0000 - fp: 0.0000e+00 - tn: 5999.0000 - fn: 2.0000 - precision: 1.0000 - recall: 0.9997 - auc: 1.0000\n"
     ]
    }
   ],
   "source": [
    "model = make_model2()\n",
    "history = model.fit_generator(\n",
    "    train_data_gen,\n",
    "    # steps_per_epoch=total_train // batch_size,\n",
    "    epochs=EPOCHS,\n",
    "    # validation_data=val_data_gen,\n",
    "    # validation_steps=total_val // batch_size\n",
    ")"
   ]
  },
  {
   "cell_type": "code",
   "execution_count": 0,
   "metadata": {
    "colab": {},
    "colab_type": "code",
    "id": "ZU6K-I5Ns1XY"
   },
   "outputs": [],
   "source": [
    "s# Save the entire model to a HDF5 file.\n",
    "# The '.h5' extension indicates that the model shuold be saved to HDF5.\n",
    "model.save(PATH+'my_model02_m2.h5') "
   ]
  },
  {
   "cell_type": "code",
   "execution_count": 24,
   "metadata": {
    "colab": {
     "base_uri": "https://localhost:8080/",
     "height": 221
    },
    "colab_type": "code",
    "executionInfo": {
     "elapsed": 179757,
     "status": "ok",
     "timestamp": 1570607022011,
     "user": {
      "displayName": "Amit Agarwal",
      "photoUrl": "https://lh3.googleusercontent.com/a-/AAuE7mBt42SjR9APoAR-qVJSOkBpHyvvmw8o2Dw4mJpS=s64",
      "userId": "09342634691867414754"
     },
     "user_tz": -330
    },
    "id": "MOx2dhVAZCFn",
    "outputId": "660d1d79-4daa-4261-dfbc-bd2d56e772fc"
   },
   "outputs": [
    {
     "name": "stdout",
     "output_type": "stream",
     "text": [
      "--------------Evaluating Training Dataset--------------\n",
      "94/94 [==============================] - 177s 2s/step - loss: 4.0114e-04 - accuracy: 0.8093 - tp: 5997.0000 - fp: 0.0000e+00 - tn: 5999.0000 - fn: 2.0000 - precision: 1.0000 - recall: 0.9997 - auc: 1.0000\n",
      "loss :  0.00040113908434825723\n",
      "accuracy :  0.80930156\n",
      "tp :  5997.0\n",
      "fp :  0.0\n",
      "tn :  5999.0\n",
      "fn :  2.0\n",
      "precision :  1.0\n",
      "recall :  0.99966663\n",
      "auc :  0.99999994\n",
      "f1 :  0.9998332580202475\n"
     ]
    }
   ],
   "source": [
    "evaluation(model,train_data_gen,data = \"Training\")\n",
    "# evaluation(model,val_data_gen,data = \"Validation\")"
   ]
  },
  {
   "cell_type": "code",
   "execution_count": 25,
   "metadata": {
    "colab": {
     "base_uri": "https://localhost:8080/",
     "height": 851
    },
    "colab_type": "code",
    "executionInfo": {
     "elapsed": 1812,
     "status": "ok",
     "timestamp": 1570607185017,
     "user": {
      "displayName": "Amit Agarwal",
      "photoUrl": "https://lh3.googleusercontent.com/a-/AAuE7mBt42SjR9APoAR-qVJSOkBpHyvvmw8o2Dw4mJpS=s64",
      "userId": "09342634691867414754"
     },
     "user_tz": -330
    },
    "id": "TkCoeyj7dtfH",
    "outputId": "3d8d0770-87fe-4207-94d4-648622c12927"
   },
   "outputs": [
    {
     "data": {
      "image/png": "[encoded data removed]",
      "text/plain": [
       "<Figure size 432x288 with 1 Axes>"
      ]
     },
     "metadata": {
      "tags": []
     },
     "output_type": "display_data"
    },
    {
     "data": {
      "image/png": "[encoded data removed]",
      "text/plain": [
       "<Figure size 432x288 with 1 Axes>"
      ]
     },
     "metadata": {
      "tags": []
     },
     "output_type": "display_data"
    },
    {
     "data": {
      "image/png": "[encoded data removed]",
      "text/plain": [
       "<Figure size 432x288 with 1 Axes>"
      ]
     },
     "metadata": {
      "tags": []
     },
     "output_type": "display_data"
    }
   ],
   "source": [
    "plot_metrices(EPOCHS,history,if_val=False)"
   ]
  },
  {
   "cell_type": "code",
   "execution_count": 0,
   "metadata": {
    "colab": {},
    "colab_type": "code",
    "id": "DQPmxSslZC_A"
   },
   "outputs": [],
   "source": [
    "generator = train_data_gen\n",
    "predict = model.predict_generator(train_data_gen,verbose=1)"
   ]
  },
  {
   "cell_type": "code",
   "execution_count": 0,
   "metadata": {
    "colab": {},
    "colab_type": "code",
    "id": "zglpcKxuZTd9"
   },
   "outputs": [],
   "source": [
    "plot_confusion_matrix(predict=predict,generator=train_data_gen,threshold=0.2)"
   ]
  },
  {
   "cell_type": "code",
   "execution_count": 0,
   "metadata": {
    "colab": {},
    "colab_type": "code",
    "id": "MGr_JuizZE08"
   },
   "outputs": [],
   "source": [
    "sub = submission_binary(model,threshold=0.4,submission_name=PATH+'lunar01_m2.pickle')"
   ]
  },
  {
   "cell_type": "markdown",
   "metadata": {},
   "source": [
    "## Evalaution Prediction to determine Threshold. \n",
    "\n",
    "submission_binary function is written in different cells below"
   ]
  },
  {
   "cell_type": "code",
   "execution_count": 0,
   "metadata": {
    "colab": {
     "base_uri": "https://localhost:8080/",
     "height": 68
    },
    "colab_type": "code",
    "executionInfo": {
     "elapsed": 721,
     "status": "ok",
     "timestamp": 1570276826111,
     "user": {
      "displayName": "Amit Agarwal",
      "photoUrl": "https://lh3.googleusercontent.com/a-/AAuE7mBt42SjR9APoAR-qVJSOkBpHyvvmw8o2Dw4mJpS=s64",
      "userId": "09342634691867414754"
     },
     "user_tz": -330
    },
    "id": "fIZa_iSC50fg",
    "outputId": "753776b4-14fa-406d-d9e1-a6d2c7cb412a"
   },
   "outputs": [
    {
     "data": {
      "text/plain": [
       "Small    3784\n",
       "Large    3750\n",
       "Name: Class, dtype: int64"
      ]
     },
     "execution_count": 182,
     "metadata": {
      "tags": []
     },
     "output_type": "execute_result"
    }
   ],
   "source": [
    "filenames=test_generator.filenames\n",
    "results=pd.DataFrame({\"Image_File\":filenames,\n",
    "                      \"Class\":predict_class})\n",
    "results['Image_File'] = results['Image_File'].apply(lambda x : x[12:])\n",
    "# # results['Class'] = results[results.Score == True ]\n",
    "results['Class'] = results['Class'].map({True: 'Small', False: \"Large\"})\n",
    "\n",
    "results['Class'].value_counts()"
   ]
  },
  {
   "cell_type": "code",
   "execution_count": 26,
   "metadata": {
    "colab": {
     "base_uri": "https://localhost:8080/",
     "height": 51
    },
    "colab_type": "code",
    "executionInfo": {
     "elapsed": 52578,
     "status": "ok",
     "timestamp": 1570607305529,
     "user": {
      "displayName": "Amit Agarwal",
      "photoUrl": "https://lh3.googleusercontent.com/a-/AAuE7mBt42SjR9APoAR-qVJSOkBpHyvvmw8o2Dw4mJpS=s64",
      "userId": "09342634691867414754"
     },
     "user_tz": -330
    },
    "id": "OHjBweu4e_zl",
    "outputId": "2bf3d4df-be29-4ba5-dc42-9d12566edfbe"
   },
   "outputs": [
    {
     "name": "stdout",
     "output_type": "stream",
     "text": [
      "Found 7534 images belonging to 1 classes.\n",
      "Test Size : 7534\n"
     ]
    }
   ],
   "source": [
    "# Instantiate Generator\n",
    "test_datagen = ImageDataGenerator(rescale=1./255)\n",
    "test_dir = '/content/drive/My Drive/personal_hackathons/DataSet/lunar_rock/PATH/'\n",
    "\n",
    "test_generator = test_datagen.flow_from_directory(\n",
    "      test_dir,\n",
    "      target_size=(IMG_HEIGHT, IMG_WIDTH),\n",
    "      # color_mode=\"rgb\",\n",
    "      shuffle = False,\n",
    "      class_mode='binary',\n",
    "      batch_size=batch_size)\n",
    "\n",
    "# Check test Files\n",
    "filenames = test_generator.filenames\n",
    "nb_samples = len(filenames)\n",
    "print(\"Test Size : {}\".format(nb_samples))\n",
    "# print(filenames)\n",
    "\n",
    " "
   ]
  },
  {
   "cell_type": "code",
   "execution_count": 27,
   "metadata": {
    "colab": {
     "base_uri": "https://localhost:8080/",
     "height": 51
    },
    "colab_type": "code",
    "executionInfo": {
     "elapsed": 161099,
     "status": "ok",
     "timestamp": 1570609680343,
     "user": {
      "displayName": "Amit Agarwal",
      "photoUrl": "https://lh3.googleusercontent.com/a-/AAuE7mBt42SjR9APoAR-qVJSOkBpHyvvmw8o2Dw4mJpS=s64",
      "userId": "09342634691867414754"
     },
     "user_tz": -330
    },
    "id": "1JaGsDrqe_2X",
    "outputId": "c0b7381a-fdd4-481b-ae75-43905e0a424d"
   },
   "outputs": [
    {
     "name": "stdout",
     "output_type": "stream",
     "text": [
      "58/59 [============================>.] - ETA: 37s Model Prediction Shape (7534, 1)\n",
      "Labels : {'Large': 0, 'Small': 1}\n"
     ]
    }
   ],
   "source": [
    "# Model Prediction\n",
    "test_generator.reset()\n",
    "predict = model.predict_generator(test_generator,verbose=1)\n",
    "print(\"Model Prediction Shape {}\".format(predict.shape))\n",
    "\n",
    "labels = train_data_gen.class_indices\n",
    "print(\"Labels : {}\".format(labels) )"
   ]
  },
  {
   "cell_type": "code",
   "execution_count": 0,
   "metadata": {
    "colab": {},
    "colab_type": "code",
    "id": "LXgkC8n7fIqK"
   },
   "outputs": [],
   "source": [
    "threshold = 0.8"
   ]
  },
  {
   "cell_type": "code",
   "execution_count": 49,
   "metadata": {
    "colab": {
     "base_uri": "https://localhost:8080/",
     "height": 68
    },
    "colab_type": "code",
    "executionInfo": {
     "elapsed": 4519,
     "status": "ok",
     "timestamp": 1570610248799,
     "user": {
      "displayName": "Amit Agarwal",
      "photoUrl": "https://lh3.googleusercontent.com/a-/AAuE7mBt42SjR9APoAR-qVJSOkBpHyvvmw8o2Dw4mJpS=s64",
      "userId": "09342634691867414754"
     },
     "user_tz": -330
    },
    "id": "pu2fvO2Ve_5A",
    "outputId": "589884b0-fde4-438f-cd23-ba1333c0e0d1"
   },
   "outputs": [
    {
     "name": "stdout",
     "output_type": "stream",
     "text": [
      "Distribution : Large    3772\n",
      "Small    3762\n",
      "Name: Class, dtype: int64 \n"
     ]
    }
   ],
   "source": [
    "# Predicting Classes based on Threshold\n",
    "predict_class = predict > threshold\n",
    "predict_class = predict_class.reshape(1,-1)\n",
    "predict_class = predict_class[0]\n",
    "\n",
    "results=pd.DataFrame({\"Image_File\":filenames,\n",
    "                  \"Class\":predict_class})\n",
    "\n",
    "results['Image_File'] = results['Image_File'].apply(lambda x : x[12:])\n",
    "results['Class'] = results['Class'].map({True: 'Small', False: \"Large\"})\n",
    "\n",
    "print(\"Distribution : {} \".format(results['Class'].value_counts()))\n",
    "\n",
    "# # Write Sumission\n",
    "# with open(submission_name,'wb') as f :\n",
    "#   pickle.dump(results,f)\n"
   ]
  },
  {
   "cell_type": "code",
   "execution_count": 0,
   "metadata": {
    "colab": {},
    "colab_type": "code",
    "id": "_vmghUMae_7d"
   },
   "outputs": [],
   "source": []
  },
  {
   "cell_type": "code",
   "execution_count": 0,
   "metadata": {
    "colab": {},
    "colab_type": "code",
    "id": "Gp-htCX_fAA8"
   },
   "outputs": [],
   "source": []
  },
  {
   "cell_type": "code",
   "execution_count": 0,
   "metadata": {
    "colab": {},
    "colab_type": "code",
    "id": "BlygSK21fAEP"
   },
   "outputs": [],
   "source": []
  }
 ],
 "metadata": {
  "accelerator": "GPU",
  "colab": {
   "collapsed_sections": [],
   "machine_shape": "hm",
   "name": "amit_02_image_augmentation.ipynb",
   "provenance": []
  },
  "kernelspec": {
   "display_name": "Python 3",
   "language": "python",
   "name": "python3"
  },
  "language_info": {
   "codemirror_mode": {
    "name": "ipython",
    "version": 3
   },
   "file_extension": ".py",
   "mimetype": "text/x-python",
   "name": "python",
   "nbconvert_exporter": "python",
   "pygments_lexer": "ipython3",
   "version": "3.6.8"
  }
 },
 "nbformat": 4,
 "nbformat_minor": 1
}
