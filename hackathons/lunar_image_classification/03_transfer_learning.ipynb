{
 "cells": [
  {
   "cell_type": "code",
   "execution_count": 1,
   "metadata": {
    "colab": {
     "base_uri": "https://localhost:8080/",
     "height": 374
    },
    "colab_type": "code",
    "collapsed": true,
    "executionInfo": {
     "elapsed": 6111,
     "status": "ok",
     "timestamp": 1570527567783,
     "user": {
      "displayName": "Amit Agarwal",
      "photoUrl": "https://lh3.googleusercontent.com/a-/AAuE7mBt42SjR9APoAR-qVJSOkBpHyvvmw8o2Dw4mJpS=s64",
      "userId": "09342634691867414754"
     },
     "user_tz": -330
    },
    "id": "cVV5Umv5Q6vY",
    "outputId": "bfb29677-0b12-4f1b-bc5b-6d7beefcba2c"
   },
   "outputs": [
    {
     "name": "stdout",
     "output_type": "stream",
     "text": [
      "Requirement already up-to-date: tensorflow-gpu in /usr/local/lib/python3.6/dist-packages (2.0.0)\n",
      "Requirement already satisfied, skipping upgrade: numpy<2.0,>=1.16.0 in /usr/local/lib/python3.6/dist-packages (from tensorflow-gpu) (1.16.5)\n",
      "Requirement already satisfied, skipping upgrade: six>=1.10.0 in /usr/local/lib/python3.6/dist-packages (from tensorflow-gpu) (1.12.0)\n",
      "Requirement already satisfied, skipping upgrade: astor>=0.6.0 in /usr/local/lib/python3.6/dist-packages (from tensorflow-gpu) (0.8.0)\n",
      "Requirement already satisfied, skipping upgrade: grpcio>=1.8.6 in /usr/local/lib/python3.6/dist-packages (from tensorflow-gpu) (1.15.0)\n",
      "Requirement already satisfied, skipping upgrade: protobuf>=3.6.1 in /usr/local/lib/python3.6/dist-packages (from tensorflow-gpu) (3.7.1)\n",
      "Requirement already satisfied, skipping upgrade: keras-preprocessing>=1.0.5 in /usr/local/lib/python3.6/dist-packages (from tensorflow-gpu) (1.1.0)\n",
      "Requirement already satisfied, skipping upgrade: wrapt>=1.11.1 in /usr/local/lib/python3.6/dist-packages (from tensorflow-gpu) (1.11.2)\n",
      "Requirement already satisfied, skipping upgrade: google-pasta>=0.1.6 in /usr/local/lib/python3.6/dist-packages (from tensorflow-gpu) (0.1.7)\n",
      "Requirement already satisfied, skipping upgrade: gast==0.2.2 in /usr/local/lib/python3.6/dist-packages (from tensorflow-gpu) (0.2.2)\n",
      "Requirement already satisfied, skipping upgrade: termcolor>=1.1.0 in /usr/local/lib/python3.6/dist-packages (from tensorflow-gpu) (1.1.0)\n",
      "Requirement already satisfied, skipping upgrade: wheel>=0.26 in /usr/local/lib/python3.6/dist-packages (from tensorflow-gpu) (0.33.6)\n",
      "Requirement already satisfied, skipping upgrade: tensorflow-estimator<2.1.0,>=2.0.0 in /usr/local/lib/python3.6/dist-packages (from tensorflow-gpu) (2.0.0)\n",
      "Requirement already satisfied, skipping upgrade: keras-applications>=1.0.8 in /usr/local/lib/python3.6/dist-packages (from tensorflow-gpu) (1.0.8)\n",
      "Requirement already satisfied, skipping upgrade: absl-py>=0.7.0 in /usr/local/lib/python3.6/dist-packages (from tensorflow-gpu) (0.8.0)\n",
      "Requirement already satisfied, skipping upgrade: tensorboard<2.1.0,>=2.0.0 in /usr/local/lib/python3.6/dist-packages (from tensorflow-gpu) (2.0.0)\n",
      "Requirement already satisfied, skipping upgrade: opt-einsum>=2.3.2 in /usr/local/lib/python3.6/dist-packages (from tensorflow-gpu) (3.0.1)\n",
      "Requirement already satisfied, skipping upgrade: setuptools in /usr/local/lib/python3.6/dist-packages (from protobuf>=3.6.1->tensorflow-gpu) (41.2.0)\n",
      "Requirement already satisfied, skipping upgrade: h5py in /usr/local/lib/python3.6/dist-packages (from keras-applications>=1.0.8->tensorflow-gpu) (2.8.0)\n",
      "Requirement already satisfied, skipping upgrade: markdown>=2.6.8 in /usr/local/lib/python3.6/dist-packages (from tensorboard<2.1.0,>=2.0.0->tensorflow-gpu) (3.1.1)\n",
      "Requirement already satisfied, skipping upgrade: werkzeug>=0.11.15 in /usr/local/lib/python3.6/dist-packages (from tensorboard<2.1.0,>=2.0.0->tensorflow-gpu) (0.16.0)\n"
     ]
    }
   ],
   "source": [
    "!pip install -U tensorflow-gpu"
   ]
  },
  {
   "cell_type": "code",
   "execution_count": 2,
   "metadata": {
    "colab": {
     "base_uri": "https://localhost:8080/",
     "height": 34
    },
    "colab_type": "code",
    "executionInfo": {
     "elapsed": 3604,
     "status": "ok",
     "timestamp": 1570527574766,
     "user": {
      "displayName": "Amit Agarwal",
      "photoUrl": "https://lh3.googleusercontent.com/a-/AAuE7mBt42SjR9APoAR-qVJSOkBpHyvvmw8o2Dw4mJpS=s64",
      "userId": "09342634691867414754"
     },
     "user_tz": -330
    },
    "id": "pvboHXXtRNNu",
    "outputId": "6efd7d00-8245-41ea-8219-920dd1816305"
   },
   "outputs": [
    {
     "name": "stdout",
     "output_type": "stream",
     "text": [
      "Mounted at /content/drive\n"
     ]
    }
   ],
   "source": [
    "from google.colab import drive\n",
    "drive.mount('/content/drive',force_remount=True)"
   ]
  },
  {
   "cell_type": "code",
   "execution_count": 0,
   "metadata": {
    "colab": {},
    "colab_type": "code",
    "id": "zR41p7iVRZAq"
   },
   "outputs": [],
   "source": [
    "import tensorflow as tf\n",
    "from tensorflow import keras\n",
    "from tensorflow.keras.models import Sequential\n",
    "from tensorflow.keras.layers import Dense, Conv2D, Flatten, Dropout, MaxPooling2D,Input\n",
    "from tensorflow.keras.preprocessing.image import ImageDataGenerator\n",
    "import pickle\n",
    "import os\n",
    "import numpy as np\n",
    "import pandas as pd\n",
    "import matplotlib.pyplot as plt\n",
    "from sklearn.metrics import confusion_matrix"
   ]
  },
  {
   "cell_type": "code",
   "execution_count": 1,
   "metadata": {},
   "outputs": [],
   "source": [
    "# Global Flags to control Data & Training/Valdiation\n",
    "download = False\n",
    "validation = False"
   ]
  },
  {
   "cell_type": "code",
   "execution_count": 0,
   "metadata": {
    "colab": {},
    "colab_type": "code",
    "id": "pyVnS6ZPTyFX"
   },
   "outputs": [],
   "source": [
    "# downloads and extracts, For Local/G-Drive\n",
    "base_url = '/content/drive/My Drive/personal_hackathons/DataSet/'\n",
    "\n",
    "\n",
    "if download :\n",
    "    _URL = 'http://hck.re/kkBIfM'\n",
    "    path_to_zip = tf.keras.utils.get_file(base_url +'lunar_rock.zip' , origin=_URL, extract=True)\n",
    "    PATH = os.path.join(os.path.dirname(path_to_zip), 'lunar_rock')\n",
    "    print(\"Paths to the ZIP File : {}\".format(path_to_zip))\n",
    "\n",
    "else :\n",
    "    PATH='/content/drive/My Drive/personal_hackathons/DataSet/lunar_rock/'"
   ]
  },
  {
   "cell_type": "code",
   "execution_count": 6,
   "metadata": {
    "colab": {
     "base_uri": "https://localhost:8080/",
     "height": 34
    },
    "colab_type": "code",
    "executionInfo": {
     "elapsed": 1152,
     "status": "ok",
     "timestamp": 1570527581609,
     "user": {
      "displayName": "Amit Agarwal",
      "photoUrl": "https://lh3.googleusercontent.com/a-/AAuE7mBt42SjR9APoAR-qVJSOkBpHyvvmw8o2Dw4mJpS=s64",
      "userId": "09342634691867414754"
     },
     "user_tz": -330
    },
    "id": "Nq_QG8VeWFD9",
    "outputId": "1c9e9ec2-71ad-4a3f-fbad-3a4eeedfc4e7"
   },
   "outputs": [
    {
     "name": "stdout",
     "output_type": "stream",
     "text": [
      "Paths to the Data File : /content/drive/My Drive/personal_hackathons/DataSet/lunar_rock/\n"
     ]
    }
   ],
   "source": [
    "print(\"Paths to the Data File : {}\".format(PATH))"
   ]
  },
  {
   "cell_type": "code",
   "execution_count": 0,
   "metadata": {
    "colab": {},
    "colab_type": "code",
    "id": "qgvFg4TSTkB8"
   },
   "outputs": [],
   "source": [
    "# Unzip Downloaded data if Downloading is required\n",
    "\n",
    "if download :\n",
    "\n",
    "    os.chdir(PATH)  #change dir\n",
    "    !mkdir train  #create a directory named train/\n",
    "    !mkdir test  #create a directory named test/\n",
    "    !unzip train.zip -d PATH  #unzip data in train/\n",
    "    !unzip  test.zip  -d PATH #unzip data in test/\n",
    "    !unzip sample_submission.csv.zip\n",
    "    !unzip train_labels.csv.zip"
   ]
  },
  {
   "cell_type": "code",
   "execution_count": 7,
   "metadata": {
    "colab": {
     "base_uri": "https://localhost:8080/",
     "height": 68
    },
    "colab_type": "code",
    "executionInfo": {
     "elapsed": 1173,
     "status": "ok",
     "timestamp": 1570527583665,
     "user": {
      "displayName": "Amit Agarwal",
      "photoUrl": "https://lh3.googleusercontent.com/a-/AAuE7mBt42SjR9APoAR-qVJSOkBpHyvvmw8o2Dw4mJpS=s64",
      "userId": "09342634691867414754"
     },
     "user_tz": -330
    },
    "id": "dXK_J10YWWyV",
    "outputId": "bc6204ff-a5b3-48d3-b7f5-70de112d51db"
   },
   "outputs": [
    {
     "name": "stdout",
     "output_type": "stream",
     "text": [
      "Paths  Train : /content/drive/My Drive/personal_hackathons/DataSet/lunar_rock/train \n",
      "Paths  Train Large : /content/drive/My Drive/personal_hackathons/DataSet/lunar_rock/train/Large \n",
      "Paths  Trai Small: /content/drive/My Drive/personal_hackathons/DataSet/lunar_rock/train/Small \n"
     ]
    }
   ],
   "source": [
    "train_dir = os.path.join(PATH, 'train')\n",
    "train_lg_dir = os.path.join(train_dir, 'Large')  # directory with our training Large Lunar rock pictures\n",
    "train_sm_dir = os.path.join(train_dir, 'Small')  # directory with our training Small Lunar rock pictures\n",
    "\n",
    "print(\"Paths  Train : {} \".format(train_dir))\n",
    "print(\"Paths  Train Large : {} \".format(train_lg_dir))\n",
    "print(\"Paths  Train Small: {} \".format(train_sm_dir))\n",
    "\n",
    "if validation : \n",
    "    validation_dir = os.path.join(PATH, 'validation')\n",
    "    validation_lg_dir = os.path.join(validation_dir, 'Large')  # directory with our Large Lunar rock pictures\n",
    "    validation_sm_dir = os.path.join(validation_dir, 'Small')  # directory with our Small Lunar rock pictures"
   ]
  },
  {
   "cell_type": "code",
   "execution_count": 0,
   "metadata": {
    "colab": {},
    "colab_type": "code",
    "id": "YxUGY83OXULl"
   },
   "outputs": [],
   "source": [
    "num_lg_tr = len(os.listdir(train_lg_dir))\n",
    "num_sm_tr = len(os.listdir(train_sm_dir))\n",
    "total_train = num_lg_tr + num_sm_tr\n",
    "\n",
    "if validation :\n",
    "    \n",
    "    num_lg_val = len(os.listdir(validation_lg_dir))\n",
    "    num_sm_val = len(os.listdir(validation_sm_dir))\n",
    "    total_val = num_cats_val + num_dogs_val"
   ]
  },
  {
   "cell_type": "code",
   "execution_count": 9,
   "metadata": {
    "colab": {
     "base_uri": "https://localhost:8080/",
     "height": 85
    },
    "colab_type": "code",
    "executionInfo": {
     "elapsed": 1733,
     "status": "ok",
     "timestamp": 1570527587960,
     "user": {
      "displayName": "Amit Agarwal",
      "photoUrl": "https://lh3.googleusercontent.com/a-/AAuE7mBt42SjR9APoAR-qVJSOkBpHyvvmw8o2Dw4mJpS=s64",
      "userId": "09342634691867414754"
     },
     "user_tz": -330
    },
    "id": "_OXOB5hvXVqG",
    "outputId": "6a6f39b6-6beb-46e6-f0e6-21abdd4b6a7e"
   },
   "outputs": [
    {
     "name": "stdout",
     "output_type": "stream",
     "text": [
      "total training Large images: 5999\n",
      "total training Small images: 5999\n",
      "Total training images: 11998\n",
      "--\n"
     ]
    }
   ],
   "source": [
    "print('total training Large images:', num_lg_tr)\n",
    "print('total training Small images:', num_sm_tr)\n",
    "print(\"Total training images:\", total_train)\n",
    "\n",
    "print(\"--\")\n",
    "\n",
    "if validation :\n",
    "    print('total validation Large images:', num_lg_val)\n",
    "    print('total validation Small images:', num_sm_val)\n",
    "    print(\"Total validation images:\", total_val)"
   ]
  },
  {
   "cell_type": "code",
   "execution_count": 0,
   "metadata": {
    "colab": {},
    "colab_type": "code",
    "id": "4JPkNo634-qh"
   },
   "outputs": [],
   "source": [
    "batch_size = 64\n",
    "EPOCHS = 15\n",
    "IMG_HEIGHT = 224 # As using VGG Net\n",
    "IMG_WIDTH = 224 # As using VGG Net"
   ]
  },
  {
   "cell_type": "code",
   "execution_count": 0,
   "metadata": {
    "colab": {},
    "colab_type": "code",
    "id": "alUdFcucpswO"
   },
   "outputs": [],
   "source": [
    "# Evaluate baseline Model\n",
    "def evaluation(model,generator,data = \"Training\"):\n",
    "  print(\"--------------Evaluating {} Dataset--------------\".format(data))\n",
    "  results = model.evaluate_generator(generator=generator,verbose=1)\n",
    "  precision=0\n",
    "  recall=0\n",
    "  for name, value in zip(model.metrics_names, results):\n",
    "    print(name, ': ', value)\n",
    "\n",
    "    if name.strip() == 'precision':\n",
    "      precision = value\n",
    "\n",
    "    if name.strip() == 'recall':\n",
    "      recall = value\n",
    "\n",
    "  if precision !=0 and recall!=0 :\n",
    "    f1 = (2 * precision * recall)/(precision+recall)\n",
    "    print(\"f1 : \",f1)\n",
    "\n",
    "\n",
    "def plot_metrices(EPOCHS,history,if_val=True):\n",
    "  \n",
    "  epochs = range(EPOCHS)\n",
    "\n",
    "  plt.title('Accuracy')\n",
    "  plt.plot(epochs,  history.history['accuracy'], color='blue', label='Train')\n",
    "  if if_val:\n",
    "    plt.plot(epochs, history.history['val_accuracy'], color='orange', label='Val')\n",
    "  plt.xlabel('Epoch')\n",
    "  plt.ylabel('Accuracy')\n",
    "  plt.legend()\n",
    "\n",
    "  _ = plt.figure()\n",
    "  plt.title('Loss')\n",
    "  plt.plot(epochs, history.history['loss'], color='blue', label='Train')\n",
    "  if if_val:\n",
    "    plt.plot(epochs, history.history['val_loss'], color='orange', label='Val')\n",
    "  plt.xlabel('Epoch')\n",
    "  plt.ylabel('Loss')\n",
    "  plt.legend()\n",
    "\n",
    "  _ = plt.figure()\n",
    "  plt.title('False Negatives')\n",
    "  plt.plot(epochs, history.history['fn'], color='blue', label='Train')\n",
    "  if if_val:\n",
    "    plt.plot(epochs, history.history['val_fn'], color='orange', label='Val')\n",
    "  plt.xlabel('Epoch')\n",
    "  plt.ylabel('False Negatives')\n",
    "  plt.legend()\n",
    "\n",
    "def plot_confusion_matrix(predict,generator,threshold):\n",
    "  # Confusion Matrix\n",
    "\n",
    "  \n",
    "  labels = generator.classes\n",
    "  labels_pred = (predict[:,0] > threshold).astype(np.int)\n",
    "\n",
    "  cm = confusion_matrix(labels,labels_pred)\n",
    "\n",
    "  plt.matshow(cm, alpha=0)\n",
    "  plt.title('Confusion matrix')\n",
    "  plt.ylabel('Actual label')\n",
    "  plt.xlabel('Predicted label')\n",
    "\n",
    "  for (i, j), z in np.ndenumerate(cm):\n",
    "      plt.text(j, i, str(z), ha='center', va='center')\n",
    "\n",
    "  plt.show()\n",
    "\n",
    "  print('Legitimate Customers Detected (True Negatives): ', cm[0][0])\n",
    "  print('Legitimate Customers Incorrectly Detected (False Positives): ', cm[0][1])\n",
    "  print('Loan Deafulters  Missed (False Negatives): ', cm[1][0])\n",
    "  print('Loan Deafulters Detected (True Positives): ', cm[1][1])\n",
    "  print('Total Loan Deafulters Customers: ', np.sum(cm[1]))\n",
    "\n",
    "def submission_categorical(model,submission_csv = '/content/drive/My Drive/personal_hackathons/DataSet/lunar_rock/results_01.pickle'):\n",
    "\n",
    "  # Instantiate Generator\n",
    "  test_datagen = ImageDataGenerator(rescale=1./255)\n",
    "  test_dir = '/content/drive/My Drive/personal_hackathons/DataSet/lunar_rock/PATH/'\n",
    "\n",
    "  test_generator = test_datagen.flow_from_directory(\n",
    "          test_dir,\n",
    "          target_size=(IMG_HEIGHT, IMG_WIDTH),\n",
    "          # color_mode=\"rgb\",\n",
    "          shuffle = False,\n",
    "          class_mode='binary',\n",
    "          batch_size=batch_size)\n",
    "  \n",
    "  # Check test Files\n",
    "  filenames = test_generator.filenames\n",
    "  nb_samples = len(filenames)\n",
    "  print(\"Test Size : {}\".format(nb_samples))\n",
    "  # print(filenames)\n",
    "\n",
    "  # Model Prediction\n",
    "  test_generator.reset()\n",
    "  predict = model.predict_generator(test_generator,verbose=1)\n",
    "  print(\"Model Prediction Shape {}\".format(predict.shape))\n",
    "\n",
    "  labels = train_data_gen.class_indices\n",
    "  predicted_class_indices=np.argmax(predict,axis=1)\n",
    "\n",
    "    \n",
    "  print(\"Labels : {}\".format(labels) )\n",
    "  print(\"Class Indices {}\".format(predicted_class_indices))\n",
    "\n",
    "  labels = dict((v,k) for k,v in labels.items())\n",
    "  predictions = [labels[k] for k in predicted_class_indices]\n",
    "\n",
    "\n",
    "  results=pd.DataFrame({\"Image_File\":filenames,\n",
    "                        \"Class\":predictions})\n",
    "  print(\"Distribution : {} \".format(results['Class'].value_counts()))\n",
    "\n",
    "  # Write Sumission\n",
    "  with open(submission_name,'wb') as f :\n",
    "    pickle.dump(results,f)\n",
    "\n",
    "  return results\n",
    "\n",
    "def submission_binary(model,threshold =  0.4,\n",
    "                      submission_name='lunar01_m1.pickle'):\n",
    "  \n",
    "  # Instantiate Generator\n",
    "  test_datagen = ImageDataGenerator(rescale=1./255)\n",
    "  test_dir = '/content/drive/My Drive/personal_hackathons/DataSet/lunar_rock/PATH/'\n",
    "\n",
    "  test_generator = test_datagen.flow_from_directory(\n",
    "          test_dir,\n",
    "          target_size=(IMG_HEIGHT, IMG_WIDTH),\n",
    "          # color_mode=\"rgb\",\n",
    "          shuffle = False,\n",
    "          class_mode='binary',\n",
    "          batch_size=batch_size)\n",
    "  \n",
    "  # Check test Files\n",
    "  filenames = test_generator.filenames\n",
    "  nb_samples = len(filenames)\n",
    "  print(\"Test Size : {}\".format(nb_samples))\n",
    "  # print(filenames)\n",
    "\n",
    "  # Model Prediction\n",
    "  test_generator.reset()\n",
    "  predict = model.predict_generator(test_generator,verbose=1)\n",
    "  print(\"Model Prediction Shape {}\".format(predict.shape))\n",
    "\n",
    "  labels = train_data_gen.class_indices\n",
    "  print(\"Labels : {}\".format(labels) )\n",
    "\n",
    "  # Predicting Classes based on Threshold\n",
    "  predict_class = predict > threshold\n",
    "  predict_class = predict_class.reshape(1,-1)\n",
    "  predict_class = predict_class[0]\n",
    "\n",
    "  results=pd.DataFrame({\"Image_File\":filenames,\n",
    "                      \"Class\":predict_class})\n",
    "  \n",
    "  results['Image_File'] = results['Image_File'].apply(lambda x : x[12:])\n",
    "  results['Class'] = results['Class'].map({True: 'Small', False: \"Large\"})\n",
    "  \n",
    "  print(\"Distribution : {} \".format(results['Class'].value_counts()))\n",
    "\n",
    "  # Write Sumission\n",
    "  with open(submission_name,'wb') as f :\n",
    "    pickle.dump(results,f)\n",
    "\n",
    "  return results"
   ]
  },
  {
   "cell_type": "code",
   "execution_count": 12,
   "metadata": {
    "colab": {
     "base_uri": "https://localhost:8080/",
     "height": 34
    },
    "colab_type": "code",
    "executionInfo": {
     "elapsed": 1444,
     "status": "ok",
     "timestamp": 1570527590785,
     "user": {
      "displayName": "Amit Agarwal",
      "photoUrl": "https://lh3.googleusercontent.com/a-/AAuE7mBt42SjR9APoAR-qVJSOkBpHyvvmw8o2Dw4mJpS=s64",
      "userId": "09342634691867414754"
     },
     "user_tz": -330
    },
    "id": "NowqhYiZXfiX",
    "outputId": "c56aaa18-ae7e-4fa3-94da-aa3b897cf799"
   },
   "outputs": [
    {
     "name": "stdout",
     "output_type": "stream",
     "text": [
      "Found 11998 images belonging to 2 classes.\n"
     ]
    }
   ],
   "source": [
    "# When using whole dataset for training\n",
    "\n",
    "train_image_generator = ImageDataGenerator(rescale=1./255) # Generator for our training data\n",
    "\n",
    "train_data_gen = train_image_generator.flow_from_directory(batch_size=batch_size,\n",
    "                                                           directory=train_dir,\n",
    "                                                           shuffle=True,\n",
    "                                                           target_size=(IMG_HEIGHT, IMG_WIDTH),\n",
    "                                                           class_mode='binary',\n",
    "                                                           )\n",
    "\n",
    "## While Splitting into Train & Validation\n",
    "\n",
    "# train_image_generator = ImageDataGenerator(validation_split=0.2,rescale=1./255) # Generator for our training data\n",
    "\n",
    "# train_data_gen = train_image_generator.flow_from_directory(batch_size=batch_size,\n",
    "#                                                            directory=train_dir,\n",
    "#                                                            shuffle=True,\n",
    "#                                                            target_size=(IMG_HEIGHT, IMG_WIDTH),\n",
    "#                                                            class_mode='binary',\n",
    "#                                                            subset='training')\n",
    "\n",
    "# val_data_gen = train_image_generator.flow_from_directory(batch_size=batch_size,\n",
    "#                                                               directory=train_dir,\n",
    "#                                                               shuffle=False,\n",
    "#                                                               target_size=(IMG_HEIGHT, IMG_WIDTH),\n",
    "#                                                               class_mode='binary',\n",
    "#                                                               subset='validation')"
   ]
  },
  {
   "cell_type": "code",
   "execution_count": 0,
   "metadata": {
    "colab": {},
    "colab_type": "code",
    "id": "Wlo2XAeGXioH"
   },
   "outputs": [],
   "source": [
    "# Only to be used When we have a different Validation Set \n",
    "\n",
    "if validation :\n",
    "    validation_image_generator = ImageDataGenerator(rescale=1./255) # Generator for our validation data\n",
    "    val_data_gen = validation_image_generator.flow_from_directory(batch_size=batch_size,\n",
    "                                                                  directory=validation_dir,\n",
    "                                                                  target_size=(IMG_HEIGHT, IMG_WIDTH),\n",
    "                                                                  class_mode='binary')"
   ]
  },
  {
   "cell_type": "code",
   "execution_count": 0,
   "metadata": {
    "colab": {
     "base_uri": "https://localhost:8080/",
     "height": 34
    },
    "colab_type": "code",
    "executionInfo": {
     "elapsed": 1563,
     "status": "ok",
     "timestamp": 1570266501264,
     "user": {
      "displayName": "Amit Agarwal",
      "photoUrl": "https://lh3.googleusercontent.com/a-/AAuE7mBt42SjR9APoAR-qVJSOkBpHyvvmw8o2Dw4mJpS=s64",
      "userId": "09342634691867414754"
     },
     "user_tz": -330
    },
    "id": "7gixLm0OyHkp",
    "outputId": "f37ec037-e68a-4ea5-8083-d31f57dd7403"
   },
   "outputs": [
    {
     "data": {
      "text/plain": [
       "array([0., 0., 0., 1., 1.], dtype=float32)"
      ]
     },
     "execution_count": 35,
     "metadata": {
      "tags": []
     },
     "output_type": "execute_result"
    }
   ],
   "source": [
    "sample_training_images, sample_training_labels = next(train_data_gen)\n",
    "sample_training_labels[:5]"
   ]
  },
  {
   "cell_type": "code",
   "execution_count": 0,
   "metadata": {
    "colab": {
     "base_uri": "https://localhost:8080/",
     "height": 301
    },
    "colab_type": "code",
    "executionInfo": {
     "elapsed": 1977,
     "status": "ok",
     "timestamp": 1570266506268,
     "user": {
      "displayName": "Amit Agarwal",
      "photoUrl": "https://lh3.googleusercontent.com/a-/AAuE7mBt42SjR9APoAR-qVJSOkBpHyvvmw8o2Dw4mJpS=s64",
      "userId": "09342634691867414754"
     },
     "user_tz": -330
    },
    "id": "SxlXXFmaXmA9",
    "outputId": "10d7c31e-1b60-4610-e473-f0cfa8336d17"
   },
   "outputs": [
    {
     "data": {
      "image/png": "[encoded data removed]",
      "text/plain": [
       "<Figure size 1440x1440 with 5 Axes>"
      ]
     },
     "metadata": {
      "tags": []
     },
     "output_type": "display_data"
    }
   ],
   "source": [
    "# This function will plot images in the form of a grid with 1 row and 5 columns where images are placed in each column.\n",
    "def plotImages(images_arr):\n",
    "    fig, axes = plt.subplots(1, 5, figsize=(20,20))\n",
    "    axes = axes.flatten()\n",
    "    for img, ax in zip( images_arr, axes):\n",
    "        ax.imshow(img)\n",
    "        ax.axis('off')\n",
    "    plt.tight_layout()\n",
    "    plt.show()\n",
    "\n",
    "plotImages(sample_training_images[:5])"
   ]
  },
  {
   "cell_type": "code",
   "execution_count": 0,
   "metadata": {
    "colab": {},
    "colab_type": "code",
    "id": "KxhkRvtEqWXz"
   },
   "outputs": [],
   "source": [
    "def model_metrics():\n",
    "  metrics = [\n",
    "    keras.metrics.Accuracy(name='accuracy'),\n",
    "    keras.metrics.TruePositives(name='tp'),\n",
    "    keras.metrics.FalsePositives(name='fp'),\n",
    "    keras.metrics.TrueNegatives(name='tn'),\n",
    "    keras.metrics.FalseNegatives(name='fn'),\n",
    "    keras.metrics.Precision(name='precision'),\n",
    "    keras.metrics.Recall(name='recall'),\n",
    "    keras.metrics.AUC(name='auc')\n",
    "  ]\n",
    "\n",
    "  return metrics\n",
    "\n",
    "metrics = model_metrics()"
   ]
  },
  {
   "cell_type": "code",
   "execution_count": 0,
   "metadata": {
    "colab": {},
    "colab_type": "code",
    "id": "3pjKH0xrXryZ"
   },
   "outputs": [],
   "source": [
    "def make_model1(metrics=metrics):\n",
    "\n",
    "  vgg16_model = keras.applications.vgg16.VGG16(weights='imagenet', include_top=False, input_tensor=Input(shape=(224,224,3)))\n",
    "\n",
    "  # Train Last 4 Layers\n",
    "  for layer in vgg16_model.layers:\n",
    "    layer.trainable = False\n",
    "\n",
    "  model = Sequential([\n",
    "      vgg16_model,\n",
    "      Flatten(),\n",
    "      Dense(1024, activation='relu'),\n",
    "      Dropout(0.2),\n",
    "      Dense(512, activation='relu'),\n",
    "      Dense(1, activation='sigmoid')\n",
    "  ])\n",
    "\n",
    "  model.compile(optimizer='adam',\n",
    "                loss='binary_crossentropy',\n",
    "                metrics=metrics)\n",
    "\n",
    "  model.summary()\n",
    "\n",
    "  return model"
   ]
  },
  {
   "cell_type": "code",
   "execution_count": 0,
   "metadata": {
    "colab": {},
    "colab_type": "code",
    "id": "T0t9VET-eFiR"
   },
   "outputs": [],
   "source": [
    "def make_model2(metrics=metrics):\n",
    "  model = Sequential([\n",
    "    Conv2D(16, 3, padding='same', activation='relu', \n",
    "           input_shape=(IMG_HEIGHT, IMG_WIDTH ,3)),\n",
    "    MaxPooling2D(),\n",
    "    Dropout(0.2),\n",
    "    Conv2D(32, 3, padding='same', activation='relu'),\n",
    "    MaxPooling2D(),\n",
    "    Conv2D(64, 3, padding='same', activation='relu'),\n",
    "    MaxPooling2D(),\n",
    "    Dropout(0.2),\n",
    "    Flatten(),\n",
    "    Dense(512, activation='relu'),\n",
    "    Dense(1, activation='sigmoid')\n",
    "])\n",
    "  model.compile(optimizer='adam',\n",
    "              loss='binary_crossentropy',\n",
    "              metrics=metrics)\n",
    "\n",
    "  model.summary()\n",
    "\n",
    "  return model\n"
   ]
  },
  {
   "cell_type": "code",
   "execution_count": 16,
   "metadata": {
    "colab": {
     "base_uri": "https://localhost:8080/",
     "height": 867
    },
    "colab_type": "code",
    "executionInfo": {
     "elapsed": 6441762,
     "status": "ok",
     "timestamp": 1570534338078,
     "user": {
      "displayName": "Amit Agarwal",
      "photoUrl": "https://lh3.googleusercontent.com/a-/AAuE7mBt42SjR9APoAR-qVJSOkBpHyvvmw8o2Dw4mJpS=s64",
      "userId": "09342634691867414754"
     },
     "user_tz": -330
    },
    "id": "UOzk8Iz5Xwdl",
    "outputId": "e9bc990f-885c-4f8d-85d8-211ea6b0b59f"
   },
   "outputs": [
    {
     "name": "stdout",
     "output_type": "stream",
     "text": [
      "Model: \"sequential\"\n",
      "_________________________________________________________________\n",
      "Layer (type)                 Output Shape              Param #   \n",
      "=================================================================\n",
      "vgg16 (Model)                (None, 7, 7, 512)         14714688  \n",
      "_________________________________________________________________\n",
      "flatten (Flatten)            (None, 25088)             0         \n",
      "_________________________________________________________________\n",
      "dense (Dense)                (None, 1024)              25691136  \n",
      "_________________________________________________________________\n",
      "dropout (Dropout)            (None, 1024)              0         \n",
      "_________________________________________________________________\n",
      "dense_1 (Dense)              (None, 512)               524800    \n",
      "_________________________________________________________________\n",
      "dense_2 (Dense)              (None, 1)                 513       \n",
      "=================================================================\n",
      "Total params: 40,931,137\n",
      "Trainable params: 26,216,449\n",
      "Non-trainable params: 14,714,688\n",
      "_________________________________________________________________\n",
      "Epoch 1/15\n",
      "188/188 [==============================] - 474s 3s/step - loss: 0.3052 - accuracy: 0.0122 - tp: 5508.0000 - fp: 390.0000 - tn: 5609.0000 - fn: 491.0000 - precision: 0.9339 - recall: 0.9182 - auc: 0.9656\n",
      "Epoch 2/15\n",
      "188/188 [==============================] - 451s 2s/step - loss: 0.0483 - accuracy: 0.0913 - tp: 5860.0000 - fp: 69.0000 - tn: 5930.0000 - fn: 139.0000 - precision: 0.9884 - recall: 0.9768 - auc: 0.9978\n",
      "Epoch 3/15\n",
      "188/188 [==============================] - 451s 2s/step - loss: 0.0431 - accuracy: 0.1477 - tp: 5871.0000 - fp: 67.0000 - tn: 5932.0000 - fn: 128.0000 - precision: 0.9887 - recall: 0.9787 - auc: 0.9982\n",
      "Epoch 4/15\n",
      "188/188 [==============================] - 449s 2s/step - loss: 0.0326 - accuracy: 0.2659 - tp: 5904.0000 - fp: 47.0000 - tn: 5952.0000 - fn: 95.0000 - precision: 0.9921 - recall: 0.9842 - auc: 0.9989\n",
      "Epoch 5/15\n",
      "188/188 [==============================] - 448s 2s/step - loss: 0.0303 - accuracy: 0.3556 - tp: 5914.0000 - fp: 43.0000 - tn: 5956.0000 - fn: 85.0000 - precision: 0.9928 - recall: 0.9858 - auc: 0.9991\n",
      "Epoch 6/15\n",
      "188/188 [==============================] - 447s 2s/step - loss: 0.0286 - accuracy: 0.3764 - tp: 5914.0000 - fp: 45.0000 - tn: 5954.0000 - fn: 85.0000 - precision: 0.9924 - recall: 0.9858 - auc: 0.9992\n",
      "Epoch 7/15\n",
      "188/188 [==============================] - 447s 2s/step - loss: 0.0233 - accuracy: 0.3560 - tp: 5933.0000 - fp: 35.0000 - tn: 5964.0000 - fn: 66.0000 - precision: 0.9941 - recall: 0.9890 - auc: 0.9995\n",
      "Epoch 8/15\n",
      "188/188 [==============================] - 447s 2s/step - loss: 0.0262 - accuracy: 0.3821 - tp: 5918.0000 - fp: 38.0000 - tn: 5961.0000 - fn: 81.0000 - precision: 0.9936 - recall: 0.9865 - auc: 0.9994\n",
      "Epoch 9/15\n",
      "188/188 [==============================] - 447s 2s/step - loss: 0.0291 - accuracy: 0.3945 - tp: 5918.0000 - fp: 45.0000 - tn: 5954.0000 - fn: 81.0000 - precision: 0.9925 - recall: 0.9865 - auc: 0.9992\n",
      "Epoch 10/15\n",
      "188/188 [==============================] - 447s 2s/step - loss: 0.0223 - accuracy: 0.4251 - tp: 5931.0000 - fp: 33.0000 - tn: 5966.0000 - fn: 68.0000 - precision: 0.9945 - recall: 0.9887 - auc: 0.9993\n",
      "Epoch 11/15\n",
      "188/188 [==============================] - 446s 2s/step - loss: 0.0209 - accuracy: 0.4667 - tp: 5937.0000 - fp: 32.0000 - tn: 5967.0000 - fn: 62.0000 - precision: 0.9946 - recall: 0.9897 - auc: 0.9996\n",
      "Epoch 12/15\n",
      "188/188 [==============================] - 446s 2s/step - loss: 0.0210 - accuracy: 0.4794 - tp: 5933.0000 - fp: 26.0000 - tn: 5973.0000 - fn: 66.0000 - precision: 0.9956 - recall: 0.9890 - auc: 0.9996\n",
      "Epoch 13/15\n",
      "188/188 [==============================] - 446s 2s/step - loss: 0.0216 - accuracy: 0.5215 - tp: 5930.0000 - fp: 23.0000 - tn: 5976.0000 - fn: 69.0000 - precision: 0.9961 - recall: 0.9885 - auc: 0.9994\n",
      "Epoch 14/15\n",
      "188/188 [==============================] - 445s 2s/step - loss: 0.0151 - accuracy: 0.5594 - tp: 5950.0000 - fp: 16.0000 - tn: 5983.0000 - fn: 49.0000 - precision: 0.9973 - recall: 0.9918 - auc: 0.9997\n",
      "Epoch 15/15\n",
      "188/188 [==============================] - 446s 2s/step - loss: 0.0210 - accuracy: 0.4853 - tp: 5935.0000 - fp: 23.0000 - tn: 5976.0000 - fn: 64.0000 - precision: 0.9961 - recall: 0.9893 - auc: 0.9994\n"
     ]
    }
   ],
   "source": [
    "model = make_model1()\n",
    "history = model.fit_generator(\n",
    "    train_data_gen,\n",
    "    epochs=EPOCHS,\n",
    "    # validation_data=val_data_gen,\n",
    ")"
   ]
  },
  {
   "cell_type": "code",
   "execution_count": 0,
   "metadata": {
    "colab": {},
    "colab_type": "code",
    "id": "ZU6K-I5Ns1XY"
   },
   "outputs": [],
   "source": [
    " # Save the entire model to a HDF5 file.\n",
    "# The '.h5' extension indicates that the model shuold be saved to HDF5.\n",
    "model.save(PATH+'my_model01_m2.h5') "
   ]
  },
  {
   "cell_type": "code",
   "execution_count": 0,
   "metadata": {
    "colab": {
     "base_uri": "https://localhost:8080/",
     "height": 851
    },
    "colab_type": "code",
    "executionInfo": {
     "elapsed": 1629,
     "status": "ok",
     "timestamp": 1570283822117,
     "user": {
      "displayName": "Amit Agarwal",
      "photoUrl": "https://lh3.googleusercontent.com/a-/AAuE7mBt42SjR9APoAR-qVJSOkBpHyvvmw8o2Dw4mJpS=s64",
      "userId": "09342634691867414754"
     },
     "user_tz": -330
    },
    "id": "Uu9kGSK-LxNw",
    "outputId": "4f10423f-6006-4f40-e1dd-c8a1e1746e67"
   },
   "outputs": [
    {
     "data": {
      "image/png": "[encoded data removed]",
      "text/plain": [
       "<Figure size 432x288 with 1 Axes>"
      ]
     },
     "metadata": {
      "tags": []
     },
     "output_type": "display_data"
    },
    {
     "data": {
      "image/png": "[encoded data removed]",
      "text/plain": [
       "<Figure size 432x288 with 1 Axes>"
      ]
     },
     "metadata": {
      "tags": []
     },
     "output_type": "display_data"
    },
    {
     "data": {
      "image/png": "[encoded data removed]",
      "text/plain": [
       "<Figure size 432x288 with 1 Axes>"
      ]
     },
     "metadata": {
      "tags": []
     },
     "output_type": "display_data"
    }
   ],
   "source": [
    "plot_metrices(EPOCHS,history,if_val=False)"
   ]
  },
  {
   "cell_type": "code",
   "execution_count": 0,
   "metadata": {
    "colab": {
     "base_uri": "https://localhost:8080/",
     "height": 221
    },
    "colab_type": "code",
    "executionInfo": {
     "elapsed": 191888,
     "status": "ok",
     "timestamp": 1570284027255,
     "user": {
      "displayName": "Amit Agarwal",
      "photoUrl": "https://lh3.googleusercontent.com/a-/AAuE7mBt42SjR9APoAR-qVJSOkBpHyvvmw8o2Dw4mJpS=s64",
      "userId": "09342634691867414754"
     },
     "user_tz": -330
    },
    "id": "-m6g-U4WLxax",
    "outputId": "016a0cf2-0a35-4e0e-d4a4-c9eea52637bc"
   },
   "outputs": [
    {
     "name": "stdout",
     "output_type": "stream",
     "text": [
      "--------------Evaluating Training Dataset--------------\n",
      "94/94 [==============================] - 191s 2s/step - loss: 0.0013 - accuracy: 0.6333 - tp: 5995.0000 - fp: 0.0000e+00 - tn: 5999.0000 - fn: 4.0000 - precision: 1.0000 - recall: 0.9993 - auc: 1.0000\n",
      "loss :  0.00125052198111123\n",
      "accuracy :  0.63327223\n",
      "tp :  5995.0\n",
      "fp :  0.0\n",
      "tn :  5999.0\n",
      "fn :  4.0\n",
      "precision :  1.0\n",
      "recall :  0.9993332\n",
      "auc :  0.9999997\n",
      "f1 :  0.9996665200300842\n"
     ]
    }
   ],
   "source": [
    "evaluation(model,train_data_gen,data = \"Training\")\n",
    "# evaluation(model,val_data_gen,data = \"Validation\")"
   ]
  },
  {
   "cell_type": "code",
   "execution_count": 0,
   "metadata": {
    "colab": {
     "base_uri": "https://localhost:8080/",
     "height": 34
    },
    "colab_type": "code",
    "executionInfo": {
     "elapsed": 181618,
     "status": "ok",
     "timestamp": 1570284260069,
     "user": {
      "displayName": "Amit Agarwal",
      "photoUrl": "https://lh3.googleusercontent.com/a-/AAuE7mBt42SjR9APoAR-qVJSOkBpHyvvmw8o2Dw4mJpS=s64",
      "userId": "09342634691867414754"
     },
     "user_tz": -330
    },
    "id": "Mmks26_6Lxiz",
    "outputId": "f95df8b6-3d72-4c1b-878e-e02e47a9f735"
   },
   "outputs": [
    {
     "name": "stdout",
     "output_type": "stream",
     "text": [
      "94/94 [==============================] - 181s 2s/step\n"
     ]
    }
   ],
   "source": [
    "generator = train_data_gen\n",
    "predict = model.predict_generator(train_data_gen,verbose=1)"
   ]
  },
  {
   "cell_type": "code",
   "execution_count": 0,
   "metadata": {
    "colab": {
     "base_uri": "https://localhost:8080/",
     "height": 380
    },
    "colab_type": "code",
    "executionInfo": {
     "elapsed": 922,
     "status": "ok",
     "timestamp": 1570284450343,
     "user": {
      "displayName": "Amit Agarwal",
      "photoUrl": "https://lh3.googleusercontent.com/a-/AAuE7mBt42SjR9APoAR-qVJSOkBpHyvvmw8o2Dw4mJpS=s64",
      "userId": "09342634691867414754"
     },
     "user_tz": -330
    },
    "id": "c6LTkElnN6IW",
    "outputId": "fc5f35ac-2d7b-4349-9d5c-2aa32df485be"
   },
   "outputs": [
    {
     "data": {
      "image/png": "[encoded data removed]",
      "text/plain": [
       "<Figure size 288x288 with 1 Axes>"
      ]
     },
     "metadata": {
      "tags": []
     },
     "output_type": "display_data"
    },
    {
     "name": "stdout",
     "output_type": "stream",
     "text": [
      "Legitimate Customers Detected (True Negatives):  3011\n",
      "Legitimate Customers Incorrectly Detected (False Positives):  2988\n",
      "Loan Deafulters  Missed (False Negatives):  2982\n",
      "Loan Deafulters Detected (True Positives):  3017\n",
      "Total Loan Deafulters Customers:  5999\n"
     ]
    }
   ],
   "source": [
    "plot_confusion_matrix(predict=predict,generator=train_data_gen,threshold=0.2)"
   ]
  },
  {
   "cell_type": "code",
   "execution_count": 0,
   "metadata": {
    "colab": {
     "base_uri": "https://localhost:8080/",
     "height": 1000
    },
    "colab_type": "code",
    "collapsed": true,
    "executionInfo": {
     "elapsed": 109473,
     "status": "ok",
     "timestamp": 1570286143674,
     "user": {
      "displayName": "Amit Agarwal",
      "photoUrl": "https://lh3.googleusercontent.com/a-/AAuE7mBt42SjR9APoAR-qVJSOkBpHyvvmw8o2Dw4mJpS=s64",
      "userId": "09342634691867414754"
     },
     "user_tz": -330
    },
    "id": "CdjwZZr-dji_",
    "outputId": "9dce1b25-e98f-4cb7-efe2-3162755e7e44"
   },
   "outputs": [
    {
     "name": "stdout",
     "output_type": "stream",
     "text": [
      "Found 7534 images belonging to 1 classes.\n",
      "Test Size : 7534\n",
      "59/59 [==============================] - 108s 2s/step\n",
      "Model Prediction Shape (7534, 1)\n",
      "Labels : {'Large': 0, 'Small': 1}\n",
      "Distribution : Large    3782\n",
      "Small    3752\n",
      "Name: Class, dtype: int64 \n"
     ]
    },
    {
     "data": {
      "text/html": [
       "<div>\n",
       "<style scoped>\n",
       "    .dataframe tbody tr th:only-of-type {\n",
       "        vertical-align: middle;\n",
       "    }\n",
       "\n",
       "    .dataframe tbody tr th {\n",
       "        vertical-align: top;\n",
       "    }\n",
       "\n",
       "    .dataframe thead th {\n",
       "        text-align: right;\n",
       "    }\n",
       "</style>\n",
       "<table border=\"1\" class=\"dataframe\">\n",
       "  <thead>\n",
       "    <tr style=\"text-align: right;\">\n",
       "      <th></th>\n",
       "      <th>Image_File</th>\n",
       "      <th>Class</th>\n",
       "    </tr>\n",
       "  </thead>\n",
       "  <tbody>\n",
       "    <tr>\n",
       "      <th>0</th>\n",
       "      <td>lg 988 (1).png</td>\n",
       "      <td>Small</td>\n",
       "    </tr>\n",
       "    <tr>\n",
       "      <th>1</th>\n",
       "      <td>lg 988 (10).png</td>\n",
       "      <td>Small</td>\n",
       "    </tr>\n",
       "    <tr>\n",
       "      <th>2</th>\n",
       "      <td>lg 988 (100).png</td>\n",
       "      <td>Small</td>\n",
       "    </tr>\n",
       "    <tr>\n",
       "      <th>3</th>\n",
       "      <td>lg 988 (101).png</td>\n",
       "      <td>Small</td>\n",
       "    </tr>\n",
       "    <tr>\n",
       "      <th>4</th>\n",
       "      <td>lg 988 (102).png</td>\n",
       "      <td>Small</td>\n",
       "    </tr>\n",
       "    <tr>\n",
       "      <th>5</th>\n",
       "      <td>lg 988 (103).png</td>\n",
       "      <td>Small</td>\n",
       "    </tr>\n",
       "    <tr>\n",
       "      <th>6</th>\n",
       "      <td>lg 988 (104).png</td>\n",
       "      <td>Small</td>\n",
       "    </tr>\n",
       "    <tr>\n",
       "      <th>7</th>\n",
       "      <td>lg 988 (105).png</td>\n",
       "      <td>Small</td>\n",
       "    </tr>\n",
       "    <tr>\n",
       "      <th>8</th>\n",
       "      <td>lg 988 (106).png</td>\n",
       "      <td>Small</td>\n",
       "    </tr>\n",
       "    <tr>\n",
       "      <th>9</th>\n",
       "      <td>lg 988 (107).png</td>\n",
       "      <td>Small</td>\n",
       "    </tr>\n",
       "    <tr>\n",
       "      <th>10</th>\n",
       "      <td>lg 988 (108).png</td>\n",
       "      <td>Small</td>\n",
       "    </tr>\n",
       "    <tr>\n",
       "      <th>11</th>\n",
       "      <td>lg 988 (109).png</td>\n",
       "      <td>Small</td>\n",
       "    </tr>\n",
       "    <tr>\n",
       "      <th>12</th>\n",
       "      <td>lg 988 (11).png</td>\n",
       "      <td>Small</td>\n",
       "    </tr>\n",
       "    <tr>\n",
       "      <th>13</th>\n",
       "      <td>lg 988 (110).png</td>\n",
       "      <td>Small</td>\n",
       "    </tr>\n",
       "    <tr>\n",
       "      <th>14</th>\n",
       "      <td>lg 988 (111).png</td>\n",
       "      <td>Small</td>\n",
       "    </tr>\n",
       "    <tr>\n",
       "      <th>15</th>\n",
       "      <td>lg 988 (112).png</td>\n",
       "      <td>Small</td>\n",
       "    </tr>\n",
       "    <tr>\n",
       "      <th>16</th>\n",
       "      <td>lg 988 (113).png</td>\n",
       "      <td>Small</td>\n",
       "    </tr>\n",
       "    <tr>\n",
       "      <th>17</th>\n",
       "      <td>lg 988 (114).png</td>\n",
       "      <td>Small</td>\n",
       "    </tr>\n",
       "    <tr>\n",
       "      <th>18</th>\n",
       "      <td>lg 988 (115).png</td>\n",
       "      <td>Small</td>\n",
       "    </tr>\n",
       "    <tr>\n",
       "      <th>19</th>\n",
       "      <td>lg 988 (116).png</td>\n",
       "      <td>Small</td>\n",
       "    </tr>\n",
       "    <tr>\n",
       "      <th>20</th>\n",
       "      <td>lg 988 (117).png</td>\n",
       "      <td>Small</td>\n",
       "    </tr>\n",
       "    <tr>\n",
       "      <th>21</th>\n",
       "      <td>lg 988 (118).png</td>\n",
       "      <td>Small</td>\n",
       "    </tr>\n",
       "    <tr>\n",
       "      <th>22</th>\n",
       "      <td>lg 988 (119).png</td>\n",
       "      <td>Small</td>\n",
       "    </tr>\n",
       "    <tr>\n",
       "      <th>23</th>\n",
       "      <td>lg 988 (12).png</td>\n",
       "      <td>Small</td>\n",
       "    </tr>\n",
       "    <tr>\n",
       "      <th>24</th>\n",
       "      <td>lg 988 (120).png</td>\n",
       "      <td>Small</td>\n",
       "    </tr>\n",
       "    <tr>\n",
       "      <th>25</th>\n",
       "      <td>lg 988 (121).png</td>\n",
       "      <td>Small</td>\n",
       "    </tr>\n",
       "    <tr>\n",
       "      <th>26</th>\n",
       "      <td>lg 988 (122).png</td>\n",
       "      <td>Small</td>\n",
       "    </tr>\n",
       "    <tr>\n",
       "      <th>27</th>\n",
       "      <td>lg 988 (123).png</td>\n",
       "      <td>Small</td>\n",
       "    </tr>\n",
       "    <tr>\n",
       "      <th>28</th>\n",
       "      <td>lg 988 (124).png</td>\n",
       "      <td>Small</td>\n",
       "    </tr>\n",
       "    <tr>\n",
       "      <th>29</th>\n",
       "      <td>lg 988 (125).png</td>\n",
       "      <td>Small</td>\n",
       "    </tr>\n",
       "    <tr>\n",
       "      <th>...</th>\n",
       "      <td>...</td>\n",
       "      <td>...</td>\n",
       "    </tr>\n",
       "    <tr>\n",
       "      <th>7504</th>\n",
       "      <td>lgl85 (72).png</td>\n",
       "      <td>Small</td>\n",
       "    </tr>\n",
       "    <tr>\n",
       "      <th>7505</th>\n",
       "      <td>lgl85 (73).png</td>\n",
       "      <td>Small</td>\n",
       "    </tr>\n",
       "    <tr>\n",
       "      <th>7506</th>\n",
       "      <td>lgl85 (74).png</td>\n",
       "      <td>Small</td>\n",
       "    </tr>\n",
       "    <tr>\n",
       "      <th>7507</th>\n",
       "      <td>lgl85 (75).png</td>\n",
       "      <td>Small</td>\n",
       "    </tr>\n",
       "    <tr>\n",
       "      <th>7508</th>\n",
       "      <td>lgl85 (76).png</td>\n",
       "      <td>Small</td>\n",
       "    </tr>\n",
       "    <tr>\n",
       "      <th>7509</th>\n",
       "      <td>lgl85 (77).png</td>\n",
       "      <td>Small</td>\n",
       "    </tr>\n",
       "    <tr>\n",
       "      <th>7510</th>\n",
       "      <td>lgl85 (78).png</td>\n",
       "      <td>Small</td>\n",
       "    </tr>\n",
       "    <tr>\n",
       "      <th>7511</th>\n",
       "      <td>lgl85 (79).png</td>\n",
       "      <td>Small</td>\n",
       "    </tr>\n",
       "    <tr>\n",
       "      <th>7512</th>\n",
       "      <td>lgl85 (8).png</td>\n",
       "      <td>Small</td>\n",
       "    </tr>\n",
       "    <tr>\n",
       "      <th>7513</th>\n",
       "      <td>lgl85 (80).png</td>\n",
       "      <td>Small</td>\n",
       "    </tr>\n",
       "    <tr>\n",
       "      <th>7514</th>\n",
       "      <td>lgl85 (81).png</td>\n",
       "      <td>Small</td>\n",
       "    </tr>\n",
       "    <tr>\n",
       "      <th>7515</th>\n",
       "      <td>lgl85 (82).png</td>\n",
       "      <td>Small</td>\n",
       "    </tr>\n",
       "    <tr>\n",
       "      <th>7516</th>\n",
       "      <td>lgl85 (83).png</td>\n",
       "      <td>Small</td>\n",
       "    </tr>\n",
       "    <tr>\n",
       "      <th>7517</th>\n",
       "      <td>lgl85 (84).png</td>\n",
       "      <td>Small</td>\n",
       "    </tr>\n",
       "    <tr>\n",
       "      <th>7518</th>\n",
       "      <td>lgl85 (85).png</td>\n",
       "      <td>Small</td>\n",
       "    </tr>\n",
       "    <tr>\n",
       "      <th>7519</th>\n",
       "      <td>lgl85 (86).png</td>\n",
       "      <td>Small</td>\n",
       "    </tr>\n",
       "    <tr>\n",
       "      <th>7520</th>\n",
       "      <td>lgl85 (87).png</td>\n",
       "      <td>Small</td>\n",
       "    </tr>\n",
       "    <tr>\n",
       "      <th>7521</th>\n",
       "      <td>lgl85 (88).png</td>\n",
       "      <td>Small</td>\n",
       "    </tr>\n",
       "    <tr>\n",
       "      <th>7522</th>\n",
       "      <td>lgl85 (89).png</td>\n",
       "      <td>Small</td>\n",
       "    </tr>\n",
       "    <tr>\n",
       "      <th>7523</th>\n",
       "      <td>lgl85 (9).png</td>\n",
       "      <td>Small</td>\n",
       "    </tr>\n",
       "    <tr>\n",
       "      <th>7524</th>\n",
       "      <td>lgl85 (90).png</td>\n",
       "      <td>Small</td>\n",
       "    </tr>\n",
       "    <tr>\n",
       "      <th>7525</th>\n",
       "      <td>lgl85 (91).png</td>\n",
       "      <td>Small</td>\n",
       "    </tr>\n",
       "    <tr>\n",
       "      <th>7526</th>\n",
       "      <td>lgl85 (92).png</td>\n",
       "      <td>Small</td>\n",
       "    </tr>\n",
       "    <tr>\n",
       "      <th>7527</th>\n",
       "      <td>lgl85 (93).png</td>\n",
       "      <td>Small</td>\n",
       "    </tr>\n",
       "    <tr>\n",
       "      <th>7528</th>\n",
       "      <td>lgl85 (94).png</td>\n",
       "      <td>Small</td>\n",
       "    </tr>\n",
       "    <tr>\n",
       "      <th>7529</th>\n",
       "      <td>lgl85 (95).png</td>\n",
       "      <td>Small</td>\n",
       "    </tr>\n",
       "    <tr>\n",
       "      <th>7530</th>\n",
       "      <td>lgl85 (96).png</td>\n",
       "      <td>Small</td>\n",
       "    </tr>\n",
       "    <tr>\n",
       "      <th>7531</th>\n",
       "      <td>lgl85 (97).png</td>\n",
       "      <td>Small</td>\n",
       "    </tr>\n",
       "    <tr>\n",
       "      <th>7532</th>\n",
       "      <td>lgl85 (98).png</td>\n",
       "      <td>Small</td>\n",
       "    </tr>\n",
       "    <tr>\n",
       "      <th>7533</th>\n",
       "      <td>lgl85 (99).png</td>\n",
       "      <td>Small</td>\n",
       "    </tr>\n",
       "  </tbody>\n",
       "</table>\n",
       "<p>7534 rows × 2 columns</p>\n",
       "</div>"
      ],
      "text/plain": [
       "            Image_File  Class\n",
       "0       lg 988 (1).png  Small\n",
       "1      lg 988 (10).png  Small\n",
       "2     lg 988 (100).png  Small\n",
       "3     lg 988 (101).png  Small\n",
       "4     lg 988 (102).png  Small\n",
       "5     lg 988 (103).png  Small\n",
       "6     lg 988 (104).png  Small\n",
       "7     lg 988 (105).png  Small\n",
       "8     lg 988 (106).png  Small\n",
       "9     lg 988 (107).png  Small\n",
       "10    lg 988 (108).png  Small\n",
       "11    lg 988 (109).png  Small\n",
       "12     lg 988 (11).png  Small\n",
       "13    lg 988 (110).png  Small\n",
       "14    lg 988 (111).png  Small\n",
       "15    lg 988 (112).png  Small\n",
       "16    lg 988 (113).png  Small\n",
       "17    lg 988 (114).png  Small\n",
       "18    lg 988 (115).png  Small\n",
       "19    lg 988 (116).png  Small\n",
       "20    lg 988 (117).png  Small\n",
       "21    lg 988 (118).png  Small\n",
       "22    lg 988 (119).png  Small\n",
       "23     lg 988 (12).png  Small\n",
       "24    lg 988 (120).png  Small\n",
       "25    lg 988 (121).png  Small\n",
       "26    lg 988 (122).png  Small\n",
       "27    lg 988 (123).png  Small\n",
       "28    lg 988 (124).png  Small\n",
       "29    lg 988 (125).png  Small\n",
       "...                ...    ...\n",
       "7504    lgl85 (72).png  Small\n",
       "7505    lgl85 (73).png  Small\n",
       "7506    lgl85 (74).png  Small\n",
       "7507    lgl85 (75).png  Small\n",
       "7508    lgl85 (76).png  Small\n",
       "7509    lgl85 (77).png  Small\n",
       "7510    lgl85 (78).png  Small\n",
       "7511    lgl85 (79).png  Small\n",
       "7512     lgl85 (8).png  Small\n",
       "7513    lgl85 (80).png  Small\n",
       "7514    lgl85 (81).png  Small\n",
       "7515    lgl85 (82).png  Small\n",
       "7516    lgl85 (83).png  Small\n",
       "7517    lgl85 (84).png  Small\n",
       "7518    lgl85 (85).png  Small\n",
       "7519    lgl85 (86).png  Small\n",
       "7520    lgl85 (87).png  Small\n",
       "7521    lgl85 (88).png  Small\n",
       "7522    lgl85 (89).png  Small\n",
       "7523     lgl85 (9).png  Small\n",
       "7524    lgl85 (90).png  Small\n",
       "7525    lgl85 (91).png  Small\n",
       "7526    lgl85 (92).png  Small\n",
       "7527    lgl85 (93).png  Small\n",
       "7528    lgl85 (94).png  Small\n",
       "7529    lgl85 (95).png  Small\n",
       "7530    lgl85 (96).png  Small\n",
       "7531    lgl85 (97).png  Small\n",
       "7532    lgl85 (98).png  Small\n",
       "7533    lgl85 (99).png  Small\n",
       "\n",
       "[7534 rows x 2 columns]"
      ]
     },
     "execution_count": 37,
     "metadata": {
      "tags": []
     },
     "output_type": "execute_result"
    }
   ],
   "source": [
    "sub = submission_binary(model,threshold=0.4,submission_name=PATH+'lunar01_m2.pickle')"
   ]
  },
  {
   "cell_type": "markdown",
   "metadata": {},
   "source": [
    "## Evalaution Prediction to determine Threshold. \n",
    "\n",
    "submission_binary function is written in different cells below"
   ]
  },
  {
   "cell_type": "code",
   "execution_count": 0,
   "metadata": {
    "colab": {
     "base_uri": "https://localhost:8080/",
     "height": 102
    },
    "colab_type": "code",
    "executionInfo": {
     "elapsed": 109611,
     "status": "ok",
     "timestamp": 1570290563208,
     "user": {
      "displayName": "Amit Agarwal",
      "photoUrl": "https://lh3.googleusercontent.com/a-/AAuE7mBt42SjR9APoAR-qVJSOkBpHyvvmw8o2Dw4mJpS=s64",
      "userId": "09342634691867414754"
     },
     "user_tz": -330
    },
    "id": "YBeeYQO2mhSz",
    "outputId": "13066c8f-4165-4e5b-e065-a4b706282575"
   },
   "outputs": [
    {
     "name": "stdout",
     "output_type": "stream",
     "text": [
      "Found 7534 images belonging to 1 classes.\n",
      "Test Size : 7534\n",
      "59/59 [==============================] - 108s 2s/step\n",
      "Model Prediction Shape (7534, 1)\n",
      "Labels : {'Large': 0, 'Small': 1}\n"
     ]
    }
   ],
   "source": [
    "# Instantiate Generator\n",
    "test_datagen = ImageDataGenerator(rescale=1./255)\n",
    "test_dir = '/content/drive/My Drive/personal_hackathons/DataSet/lunar_rock/PATH/'\n",
    "\n",
    "test_generator = test_datagen.flow_from_directory(\n",
    "        test_dir,\n",
    "        target_size=(IMG_HEIGHT, IMG_WIDTH),\n",
    "        # color_mode=\"rgb\",\n",
    "        shuffle = False,\n",
    "        class_mode='binary',\n",
    "        batch_size=batch_size)\n",
    "\n",
    "# Check test Files\n",
    "filenames = test_generator.filenames\n",
    "nb_samples = len(filenames)\n",
    "print(\"Test Size : {}\".format(nb_samples))\n",
    "# print(filenames)\n",
    "\n",
    "# Model Prediction\n",
    "test_generator.reset()\n",
    "predict = model.predict_generator(test_generator,verbose=1)\n",
    "print(\"Model Prediction Shape {}\".format(predict.shape))\n",
    "\n",
    "labels = train_data_gen.class_indices\n",
    "print(\"Labels : {}\".format(labels) )\n",
    "\n",
    "  "
   ]
  },
  {
   "cell_type": "code",
   "execution_count": 0,
   "metadata": {
    "colab": {},
    "colab_type": "code",
    "id": "fDTbY768mlkD"
   },
   "outputs": [],
   "source": [
    "threshold = 0.3\n",
    "submission_name=PATH+'lunar01_m2.pickle'"
   ]
  },
  {
   "cell_type": "code",
   "execution_count": 0,
   "metadata": {
    "colab": {
     "base_uri": "https://localhost:8080/",
     "height": 68
    },
    "colab_type": "code",
    "executionInfo": {
     "elapsed": 590,
     "status": "ok",
     "timestamp": 1570290810340,
     "user": {
      "displayName": "Amit Agarwal",
      "photoUrl": "https://lh3.googleusercontent.com/a-/AAuE7mBt42SjR9APoAR-qVJSOkBpHyvvmw8o2Dw4mJpS=s64",
      "userId": "09342634691867414754"
     },
     "user_tz": -330
    },
    "id": "lwjEnKucmhWl",
    "outputId": "8c4b5681-fcc0-42c4-9597-56c3c38fd420"
   },
   "outputs": [
    {
     "name": "stdout",
     "output_type": "stream",
     "text": [
      "Distribution : Large    3778\n",
      "Small    3756\n",
      "Name: Class, dtype: int64 \n"
     ]
    }
   ],
   "source": [
    "# Predicting Classes based on Threshold\n",
    "predict_class = predict > threshold\n",
    "predict_class = predict_class.reshape(1,-1)\n",
    "predict_class = predict_class[0]\n",
    "\n",
    "results=pd.DataFrame({\"Image_File\":filenames,\n",
    "                    \"Class\":predict_class})\n",
    "\n",
    "results['Image_File'] = results['Image_File'].apply(lambda x : x[12:])\n",
    "results['Class'] = results['Class'].map({True: 'Small', False: \"Large\"})\n",
    "\n",
    "print(\"Distribution : {} \".format(results['Class'].value_counts()))\n",
    "\n",
    "# Write Sumission\n",
    "with open(submission_name,'wb') as f :\n",
    "  pickle.dump(results,f)"
   ]
  }
 ],
 "metadata": {
  "accelerator": "GPU",
  "colab": {
   "collapsed_sections": [],
   "machine_shape": "hm",
   "name": "amit_03_transfer_learning.ipynb",
   "provenance": []
  },
  "kernelspec": {
   "display_name": "Python 3",
   "language": "python",
   "name": "python3"
  },
  "language_info": {
   "codemirror_mode": {
    "name": "ipython",
    "version": 3
   },
   "file_extension": ".py",
   "mimetype": "text/x-python",
   "name": "python",
   "nbconvert_exporter": "python",
   "pygments_lexer": "ipython3",
   "version": "3.6.8"
  }
 },
 "nbformat": 4,
 "nbformat_minor": 1
}
