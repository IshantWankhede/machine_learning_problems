{
 "cells": [
  {
   "cell_type": "markdown",
   "metadata": {},
   "source": [
    "# Medical Compliance Forecasting"
   ]
  },
  {
   "cell_type": "markdown",
   "metadata": {},
   "source": [
    "## Objective: To predict patients likelihood of adherence to a prescribed regimen\n",
    "\n",
    "###  ** Data: ** \n",
    "Data has Patient details such as Age, Gender, Diabetes along with the target variable 'Adherence' Yes: If patient has adhered to regimen, No: Not adhered to regimen. Data is split in training and test datasets.\n",
    "\n",
    "### ** Evaluation: ** For each patient id in test set, we must predict if patient is going to adhere to the prescribed regimen. The model will be evaluated on precision and recall for both the outcomes. \n",
    "\n",
    "### ** Approach: ** \n",
    "**1. Data Preparation:**\n",
    "\n",
    "   a. Label encoding for string variables\n",
    "   \n",
    "   b. Check for and handle missing values\n",
    "   \n",
    "   c. Check for and handle outliers\n",
    "   \n",
    "   d. Check for and handle duplicates\n",
    "\n",
    "\n",
    "**2. Exploring the Data:**\n",
    "\n",
    "   a. Relationship between target and predictor variables\n",
    "   \n",
    "   b. Checking normality\n",
    "   \n",
    "   c. Checking correlation\n",
    "   \n",
    "   d. Checking class balance\n",
    "   \n",
    "**3. Data Preprocessing:**\n",
    "\n",
    "   a. Normalising\n",
    "   \n",
    "   b. Feature Selection - Reduction\n",
    "   \n",
    "   c. Split train-validate-test\n",
    "   \n",
    "**4. Training the Model: Learning & Evaluation:**\n",
    "\n",
    "   a. Logistic Regression\n",
    "   \n",
    "   b. Decision Trees\n",
    "   \n",
    "   c. Random Forest\n",
    "   \n",
    "   d. SVM\n",
    "   \n",
    "**5. Prediction:**\n",
    "\n",
    "   a. Best Model Fit\n",
    "   \n",
    "   b. Output desired csv"
   ]
  },
  {
   "cell_type": "markdown",
   "metadata": {},
   "source": [
    "# 1. Data Preparation"
   ]
  },
  {
   "cell_type": "code",
   "execution_count": 1,
   "metadata": {},
   "outputs": [],
   "source": [
    "#Import packages\n",
    "import pandas as pd\n",
    "from numpy import *\n",
    "import numpy as np\n",
    "import datetime as dt\n",
    "import matplotlib.pyplot as plt\n",
    "\n",
    "import scipy\n",
    "import scipy.stats as stats\n",
    "import pylab as pl\n",
    "import seaborn as sns\n",
    "sns.set(style = \"whitegrid\", color_codes = True)\n",
    "#np.random.seed(sum(map(ord, \"palettes\")))\n",
    "\n",
    "# special matplotlib argument for improved plots\n",
    "from matplotlib import rcParams\n",
    "sns.set_context(\"poster\")"
   ]
  },
  {
   "cell_type": "code",
   "execution_count": 2,
   "metadata": {},
   "outputs": [],
   "source": [
    "# Grabbing the data\n",
    "data = pd.read_csv(\"Training Data.csv\", encoding ='latin1')\n",
    "test_data = pd.read_csv(\"Test Data.csv\", encoding ='latin1')\n",
    "data_copy = data.copy()"
   ]
  },
  {
   "cell_type": "code",
   "execution_count": 3,
   "metadata": {},
   "outputs": [
    {
     "data": {
      "text/html": [
       "<div>\n",
       "<table border=\"1\" class=\"dataframe\">\n",
       "  <thead>\n",
       "    <tr style=\"text-align: right;\">\n",
       "      <th></th>\n",
       "      <th>patient_id</th>\n",
       "      <th>Age</th>\n",
       "      <th>Gender</th>\n",
       "      <th>Prescription_period</th>\n",
       "      <th>Diabetes</th>\n",
       "      <th>Alcoholism</th>\n",
       "      <th>HyperTension</th>\n",
       "      <th>Smokes</th>\n",
       "      <th>Tuberculosis</th>\n",
       "      <th>Sms_Reminder</th>\n",
       "      <th>Adherence</th>\n",
       "    </tr>\n",
       "  </thead>\n",
       "  <tbody>\n",
       "    <tr>\n",
       "      <th>0</th>\n",
       "      <td>1</td>\n",
       "      <td>19</td>\n",
       "      <td>M</td>\n",
       "      <td>7</td>\n",
       "      <td>0</td>\n",
       "      <td>0</td>\n",
       "      <td>0</td>\n",
       "      <td>0</td>\n",
       "      <td>0</td>\n",
       "      <td>0</td>\n",
       "      <td>No</td>\n",
       "    </tr>\n",
       "    <tr>\n",
       "      <th>1</th>\n",
       "      <td>2</td>\n",
       "      <td>24</td>\n",
       "      <td>F</td>\n",
       "      <td>59</td>\n",
       "      <td>0</td>\n",
       "      <td>0</td>\n",
       "      <td>0</td>\n",
       "      <td>0</td>\n",
       "      <td>0</td>\n",
       "      <td>0</td>\n",
       "      <td>No</td>\n",
       "    </tr>\n",
       "    <tr>\n",
       "      <th>2</th>\n",
       "      <td>3</td>\n",
       "      <td>4</td>\n",
       "      <td>F</td>\n",
       "      <td>43</td>\n",
       "      <td>0</td>\n",
       "      <td>0</td>\n",
       "      <td>0</td>\n",
       "      <td>0</td>\n",
       "      <td>0</td>\n",
       "      <td>0</td>\n",
       "      <td>No</td>\n",
       "    </tr>\n",
       "    <tr>\n",
       "      <th>3</th>\n",
       "      <td>4</td>\n",
       "      <td>38</td>\n",
       "      <td>M</td>\n",
       "      <td>66</td>\n",
       "      <td>0</td>\n",
       "      <td>0</td>\n",
       "      <td>0</td>\n",
       "      <td>0</td>\n",
       "      <td>0</td>\n",
       "      <td>1</td>\n",
       "      <td>No</td>\n",
       "    </tr>\n",
       "    <tr>\n",
       "      <th>4</th>\n",
       "      <td>5</td>\n",
       "      <td>46</td>\n",
       "      <td>F</td>\n",
       "      <td>98</td>\n",
       "      <td>0</td>\n",
       "      <td>0</td>\n",
       "      <td>0</td>\n",
       "      <td>0</td>\n",
       "      <td>0</td>\n",
       "      <td>1</td>\n",
       "      <td>No</td>\n",
       "    </tr>\n",
       "  </tbody>\n",
       "</table>\n",
       "</div>"
      ],
      "text/plain": [
       "   patient_id  Age Gender  Prescription_period  Diabetes  Alcoholism  \\\n",
       "0           1   19      M                    7         0           0   \n",
       "1           2   24      F                   59         0           0   \n",
       "2           3    4      F                   43         0           0   \n",
       "3           4   38      M                   66         0           0   \n",
       "4           5   46      F                   98         0           0   \n",
       "\n",
       "   HyperTension  Smokes  Tuberculosis  Sms_Reminder Adherence  \n",
       "0             0       0             0             0        No  \n",
       "1             0       0             0             0        No  \n",
       "2             0       0             0             0        No  \n",
       "3             0       0             0             1        No  \n",
       "4             0       0             0             1        No  "
      ]
     },
     "execution_count": 3,
     "metadata": {},
     "output_type": "execute_result"
    }
   ],
   "source": [
    "# Snapshot of training data\n",
    "data.head()"
   ]
  },
  {
   "cell_type": "code",
   "execution_count": 4,
   "metadata": {},
   "outputs": [
    {
     "data": {
      "text/html": [
       "<div>\n",
       "<table border=\"1\" class=\"dataframe\">\n",
       "  <thead>\n",
       "    <tr style=\"text-align: right;\">\n",
       "      <th></th>\n",
       "      <th>patient_id</th>\n",
       "      <th>Age</th>\n",
       "      <th>Gender</th>\n",
       "      <th>Prescription_period</th>\n",
       "      <th>Diabetes</th>\n",
       "      <th>Alcoholism</th>\n",
       "      <th>HyperTension</th>\n",
       "      <th>Smokes</th>\n",
       "      <th>Tuberculosis</th>\n",
       "      <th>Sms_Reminder</th>\n",
       "    </tr>\n",
       "  </thead>\n",
       "  <tbody>\n",
       "    <tr>\n",
       "      <th>0</th>\n",
       "      <td>1</td>\n",
       "      <td>5</td>\n",
       "      <td>M</td>\n",
       "      <td>28</td>\n",
       "      <td>0</td>\n",
       "      <td>0</td>\n",
       "      <td>0</td>\n",
       "      <td>0</td>\n",
       "      <td>0</td>\n",
       "      <td>1</td>\n",
       "    </tr>\n",
       "    <tr>\n",
       "      <th>1</th>\n",
       "      <td>2</td>\n",
       "      <td>62</td>\n",
       "      <td>F</td>\n",
       "      <td>9</td>\n",
       "      <td>1</td>\n",
       "      <td>0</td>\n",
       "      <td>1</td>\n",
       "      <td>0</td>\n",
       "      <td>0</td>\n",
       "      <td>0</td>\n",
       "    </tr>\n",
       "    <tr>\n",
       "      <th>2</th>\n",
       "      <td>3</td>\n",
       "      <td>4</td>\n",
       "      <td>F</td>\n",
       "      <td>73</td>\n",
       "      <td>0</td>\n",
       "      <td>0</td>\n",
       "      <td>0</td>\n",
       "      <td>0</td>\n",
       "      <td>0</td>\n",
       "      <td>1</td>\n",
       "    </tr>\n",
       "    <tr>\n",
       "      <th>3</th>\n",
       "      <td>4</td>\n",
       "      <td>33</td>\n",
       "      <td>M</td>\n",
       "      <td>117</td>\n",
       "      <td>0</td>\n",
       "      <td>0</td>\n",
       "      <td>0</td>\n",
       "      <td>0</td>\n",
       "      <td>0</td>\n",
       "      <td>0</td>\n",
       "    </tr>\n",
       "    <tr>\n",
       "      <th>4</th>\n",
       "      <td>5</td>\n",
       "      <td>38</td>\n",
       "      <td>M</td>\n",
       "      <td>8</td>\n",
       "      <td>0</td>\n",
       "      <td>0</td>\n",
       "      <td>0</td>\n",
       "      <td>0</td>\n",
       "      <td>0</td>\n",
       "      <td>1</td>\n",
       "    </tr>\n",
       "  </tbody>\n",
       "</table>\n",
       "</div>"
      ],
      "text/plain": [
       "   patient_id  Age Gender  Prescription_period  Diabetes  Alcoholism  \\\n",
       "0           1    5      M                   28         0           0   \n",
       "1           2   62      F                    9         1           0   \n",
       "2           3    4      F                   73         0           0   \n",
       "3           4   33      M                  117         0           0   \n",
       "4           5   38      M                    8         0           0   \n",
       "\n",
       "   HyperTension  Smokes  Tuberculosis  Sms_Reminder  \n",
       "0             0       0             0             1  \n",
       "1             1       0             0             0  \n",
       "2             0       0             0             1  \n",
       "3             0       0             0             0  \n",
       "4             0       0             0             1  "
      ]
     },
     "execution_count": 4,
     "metadata": {},
     "output_type": "execute_result"
    }
   ],
   "source": [
    "#Snapshot of testing data\n",
    "test_data.head()"
   ]
  },
  {
   "cell_type": "markdown",
   "metadata": {},
   "source": [
    "** Note how there are few categorical fields which are strings, we will need to encode them to numeric. Also, the 'Adherence' field is missing from Test Data **"
   ]
  },
  {
   "cell_type": "code",
   "execution_count": 5,
   "metadata": {},
   "outputs": [
    {
     "data": {
      "text/plain": [
       "Adherence                                                      [No, Yes]\n",
       "Age                    [19, 24, 4, 38, 46, 20, 51, 58, 73, 48, 64, 5,...\n",
       "Alcoholism                                                        [0, 1]\n",
       "Diabetes                                                          [0, 1]\n",
       "Gender                                                            [M, F]\n",
       "HyperTension                                                      [0, 1]\n",
       "Prescription_period    [7, 59, 43, 66, 98, 73, 102, 96, 89, 97, 77, 1...\n",
       "Smokes                                                            [0, 1]\n",
       "Sms_Reminder                                                   [0, 1, 2]\n",
       "Tuberculosis                                                      [0, 1]\n",
       "patient_id             [1, 2, 3, 4, 5, 6, 7, 8, 9, 10, 11, 12, 13, 14...\n",
       "dtype: object"
      ]
     },
     "execution_count": 5,
     "metadata": {},
     "output_type": "execute_result"
    }
   ],
   "source": [
    "#Checking out unique values in each field\n",
    "pd.Series({c: data[c].unique() for c in data})"
   ]
  },
  {
   "cell_type": "markdown",
   "metadata": {},
   "source": [
    "### ** 1.a Label encoding for string variables **"
   ]
  },
  {
   "cell_type": "code",
   "execution_count": 6,
   "metadata": {
    "collapsed": true
   },
   "outputs": [],
   "source": [
    "#Training\n",
    "# Only replace for the two string value variables\n",
    "data['Adherence'] = np.where(data['Adherence'] == 'No',0, 1)\n",
    "data['Gender'] = np.where(data['Gender'] == 'M',0,1)"
   ]
  },
  {
   "cell_type": "code",
   "execution_count": 7,
   "metadata": {},
   "outputs": [],
   "source": [
    "#Test\n",
    "# Only replace for the two string value variables\n",
    "test_data['Gender'] = np.where(test_data['Gender'] == 'M',0,1)"
   ]
  },
  {
   "cell_type": "code",
   "execution_count": 8,
   "metadata": {},
   "outputs": [
    {
     "name": "stdout",
     "output_type": "stream",
     "text": [
      "<class 'pandas.core.frame.DataFrame'>\n",
      "RangeIndex: 180212 entries, 0 to 180211\n",
      "Data columns (total 11 columns):\n",
      "patient_id             180212 non-null int64\n",
      "Age                    180212 non-null int64\n",
      "Gender                 180212 non-null int64\n",
      "Prescription_period    180212 non-null int64\n",
      "Diabetes               180212 non-null int64\n",
      "Alcoholism             180212 non-null int64\n",
      "HyperTension           180212 non-null int64\n",
      "Smokes                 180212 non-null int64\n",
      "Tuberculosis           180212 non-null int64\n",
      "Sms_Reminder           180212 non-null int64\n",
      "Adherence              180212 non-null int64\n",
      "dtypes: int64(11)\n",
      "memory usage: 15.1 MB\n"
     ]
    }
   ],
   "source": [
    "data.info()"
   ]
  },
  {
   "cell_type": "markdown",
   "metadata": {},
   "source": [
    "### 1.b Missing Values"
   ]
  },
  {
   "cell_type": "code",
   "execution_count": 9,
   "metadata": {},
   "outputs": [
    {
     "data": {
      "text/plain": [
       "False"
      ]
     },
     "execution_count": 9,
     "metadata": {},
     "output_type": "execute_result"
    }
   ],
   "source": [
    "#training\n",
    "data.isnull().values.any()"
   ]
  },
  {
   "cell_type": "code",
   "execution_count": 10,
   "metadata": {},
   "outputs": [
    {
     "data": {
      "text/plain": [
       "False"
      ]
     },
     "execution_count": 10,
     "metadata": {},
     "output_type": "execute_result"
    }
   ],
   "source": [
    "#test\n",
    "test_data.isnull().values.any()"
   ]
  },
  {
   "cell_type": "markdown",
   "metadata": {},
   "source": [
    "There are no missing values"
   ]
  },
  {
   "cell_type": "markdown",
   "metadata": {},
   "source": [
    "### ** 1.c  Outliers **"
   ]
  },
  {
   "cell_type": "markdown",
   "metadata": {},
   "source": [
    "Since there are only two continious fields we will check these for outliers only"
   ]
  },
  {
   "cell_type": "code",
   "execution_count": 11,
   "metadata": {},
   "outputs": [
    {
     "name": "stdout",
     "output_type": "stream",
     "text": [
      "Rows in data: 180212\n",
      "Rows in df2: 180209\n",
      "Outliers removed 0.00166470601292\n"
     ]
    }
   ],
   "source": [
    "#In Age\n",
    "df2 = data.copy()\n",
    "df2 = df2[((df2.Age - df2.Age.mean()) / df2.Age.std()).abs() < 3]\n",
    "print(\"Rows in data:\", data.patient_id.count())\n",
    "print(\"Rows in df2:\", df2.patient_id.count())\n",
    "print(\"Outliers removed\", 100.00-((df2.patient_id.count()/data.patient_id.count())*100))\n",
    "del df2"
   ]
  },
  {
   "cell_type": "code",
   "execution_count": 12,
   "metadata": {},
   "outputs": [
    {
     "name": "stdout",
     "output_type": "stream",
     "text": [
      "Rows in data: 180212\n",
      "Rows in df2: 180212\n",
      "Outliers removed 0.0\n"
     ]
    }
   ],
   "source": [
    "# In Prescription Perion\n",
    "df2 = data.copy()\n",
    "df2 = df2[((df2.Prescription_period - df2.Prescription_period.mean()) / df2.Prescription_period.std()).abs() < 3]\n",
    "print(\"Rows in data:\", data.patient_id.count())\n",
    "print(\"Rows in df2:\", df2.patient_id.count())\n",
    "print(\"Outliers removed\", 100.00-((df2.patient_id.count()/data.patient_id.count())*100))\n",
    "del df2"
   ]
  },
  {
   "cell_type": "code",
   "execution_count": 13,
   "metadata": {},
   "outputs": [
    {
     "data": {
      "text/plain": [
       "180209"
      ]
     },
     "execution_count": 13,
     "metadata": {},
     "output_type": "execute_result"
    }
   ],
   "source": [
    "#Outliers are only existing in Age variable\n",
    "#Since outliers are less than 1% we continue with the clean data\n",
    "data = data[((data.Age - data.Age.mean()) / data.Age.std()).abs() < 3]\n",
    "len(data)"
   ]
  },
  {
   "cell_type": "markdown",
   "metadata": {},
   "source": [
    "### ** 1.d  Duplicates **"
   ]
  },
  {
   "cell_type": "code",
   "execution_count": 14,
   "metadata": {},
   "outputs": [
    {
     "data": {
      "text/plain": [
       "False"
      ]
     },
     "execution_count": 14,
     "metadata": {},
     "output_type": "execute_result"
    }
   ],
   "source": [
    "data.duplicated().any()"
   ]
  },
  {
   "cell_type": "code",
   "execution_count": 15,
   "metadata": {},
   "outputs": [
    {
     "data": {
      "text/plain": [
       "False"
      ]
     },
     "execution_count": 15,
     "metadata": {},
     "output_type": "execute_result"
    }
   ],
   "source": [
    "test_data.duplicated().any()"
   ]
  },
  {
   "cell_type": "markdown",
   "metadata": {},
   "source": [
    "There are no duplicates in the data"
   ]
  },
  {
   "cell_type": "markdown",
   "metadata": {},
   "source": [
    "# 2. Exploring the Data"
   ]
  },
  {
   "cell_type": "code",
   "execution_count": 16,
   "metadata": {},
   "outputs": [
    {
     "data": {
      "text/html": [
       "<div>\n",
       "<table border=\"1\" class=\"dataframe\">\n",
       "  <thead>\n",
       "    <tr style=\"text-align: right;\">\n",
       "      <th></th>\n",
       "      <th>patient_id</th>\n",
       "      <th>Age</th>\n",
       "      <th>Gender</th>\n",
       "      <th>Prescription_period</th>\n",
       "      <th>Diabetes</th>\n",
       "      <th>Alcoholism</th>\n",
       "      <th>HyperTension</th>\n",
       "      <th>Smokes</th>\n",
       "      <th>Tuberculosis</th>\n",
       "      <th>Sms_Reminder</th>\n",
       "      <th>Adherence</th>\n",
       "    </tr>\n",
       "  </thead>\n",
       "  <tbody>\n",
       "    <tr>\n",
       "      <th>count</th>\n",
       "      <td>180209.000000</td>\n",
       "      <td>180209.000000</td>\n",
       "      <td>180209.000000</td>\n",
       "      <td>180209.000000</td>\n",
       "      <td>180209.000000</td>\n",
       "      <td>180209.000000</td>\n",
       "      <td>180209.000000</td>\n",
       "      <td>180209.000000</td>\n",
       "      <td>180209.000000</td>\n",
       "      <td>180209.000000</td>\n",
       "      <td>180209.000000</td>\n",
       "    </tr>\n",
       "    <tr>\n",
       "      <th>mean</th>\n",
       "      <td>90105.769135</td>\n",
       "      <td>37.794139</td>\n",
       "      <td>0.668307</td>\n",
       "      <td>54.668485</td>\n",
       "      <td>0.078525</td>\n",
       "      <td>0.025043</td>\n",
       "      <td>0.216510</td>\n",
       "      <td>0.052561</td>\n",
       "      <td>0.000338</td>\n",
       "      <td>0.573972</td>\n",
       "      <td>0.301811</td>\n",
       "    </tr>\n",
       "    <tr>\n",
       "      <th>std</th>\n",
       "      <td>52022.823660</td>\n",
       "      <td>22.850290</td>\n",
       "      <td>0.470823</td>\n",
       "      <td>35.752590</td>\n",
       "      <td>0.268997</td>\n",
       "      <td>0.156257</td>\n",
       "      <td>0.411867</td>\n",
       "      <td>0.223156</td>\n",
       "      <td>0.018395</td>\n",
       "      <td>0.499823</td>\n",
       "      <td>0.459045</td>\n",
       "    </tr>\n",
       "    <tr>\n",
       "      <th>min</th>\n",
       "      <td>1.000000</td>\n",
       "      <td>0.000000</td>\n",
       "      <td>0.000000</td>\n",
       "      <td>1.000000</td>\n",
       "      <td>0.000000</td>\n",
       "      <td>0.000000</td>\n",
       "      <td>0.000000</td>\n",
       "      <td>0.000000</td>\n",
       "      <td>0.000000</td>\n",
       "      <td>0.000000</td>\n",
       "      <td>0.000000</td>\n",
       "    </tr>\n",
       "    <tr>\n",
       "      <th>25%</th>\n",
       "      <td>45053.000000</td>\n",
       "      <td>19.000000</td>\n",
       "      <td>0.000000</td>\n",
       "      <td>22.000000</td>\n",
       "      <td>0.000000</td>\n",
       "      <td>0.000000</td>\n",
       "      <td>0.000000</td>\n",
       "      <td>0.000000</td>\n",
       "      <td>0.000000</td>\n",
       "      <td>0.000000</td>\n",
       "      <td>0.000000</td>\n",
       "    </tr>\n",
       "    <tr>\n",
       "      <th>50%</th>\n",
       "      <td>90106.000000</td>\n",
       "      <td>38.000000</td>\n",
       "      <td>1.000000</td>\n",
       "      <td>51.000000</td>\n",
       "      <td>0.000000</td>\n",
       "      <td>0.000000</td>\n",
       "      <td>0.000000</td>\n",
       "      <td>0.000000</td>\n",
       "      <td>0.000000</td>\n",
       "      <td>1.000000</td>\n",
       "      <td>0.000000</td>\n",
       "    </tr>\n",
       "    <tr>\n",
       "      <th>75%</th>\n",
       "      <td>135158.000000</td>\n",
       "      <td>56.000000</td>\n",
       "      <td>1.000000</td>\n",
       "      <td>86.000000</td>\n",
       "      <td>0.000000</td>\n",
       "      <td>0.000000</td>\n",
       "      <td>0.000000</td>\n",
       "      <td>0.000000</td>\n",
       "      <td>0.000000</td>\n",
       "      <td>1.000000</td>\n",
       "      <td>1.000000</td>\n",
       "    </tr>\n",
       "    <tr>\n",
       "      <th>max</th>\n",
       "      <td>180212.000000</td>\n",
       "      <td>104.000000</td>\n",
       "      <td>1.000000</td>\n",
       "      <td>120.000000</td>\n",
       "      <td>1.000000</td>\n",
       "      <td>1.000000</td>\n",
       "      <td>1.000000</td>\n",
       "      <td>1.000000</td>\n",
       "      <td>1.000000</td>\n",
       "      <td>2.000000</td>\n",
       "      <td>1.000000</td>\n",
       "    </tr>\n",
       "  </tbody>\n",
       "</table>\n",
       "</div>"
      ],
      "text/plain": [
       "          patient_id            Age         Gender  Prescription_period  \\\n",
       "count  180209.000000  180209.000000  180209.000000        180209.000000   \n",
       "mean    90105.769135      37.794139       0.668307            54.668485   \n",
       "std     52022.823660      22.850290       0.470823            35.752590   \n",
       "min         1.000000       0.000000       0.000000             1.000000   \n",
       "25%     45053.000000      19.000000       0.000000            22.000000   \n",
       "50%     90106.000000      38.000000       1.000000            51.000000   \n",
       "75%    135158.000000      56.000000       1.000000            86.000000   \n",
       "max    180212.000000     104.000000       1.000000           120.000000   \n",
       "\n",
       "            Diabetes     Alcoholism   HyperTension         Smokes  \\\n",
       "count  180209.000000  180209.000000  180209.000000  180209.000000   \n",
       "mean        0.078525       0.025043       0.216510       0.052561   \n",
       "std         0.268997       0.156257       0.411867       0.223156   \n",
       "min         0.000000       0.000000       0.000000       0.000000   \n",
       "25%         0.000000       0.000000       0.000000       0.000000   \n",
       "50%         0.000000       0.000000       0.000000       0.000000   \n",
       "75%         0.000000       0.000000       0.000000       0.000000   \n",
       "max         1.000000       1.000000       1.000000       1.000000   \n",
       "\n",
       "        Tuberculosis   Sms_Reminder      Adherence  \n",
       "count  180209.000000  180209.000000  180209.000000  \n",
       "mean        0.000338       0.573972       0.301811  \n",
       "std         0.018395       0.499823       0.459045  \n",
       "min         0.000000       0.000000       0.000000  \n",
       "25%         0.000000       0.000000       0.000000  \n",
       "50%         0.000000       1.000000       0.000000  \n",
       "75%         0.000000       1.000000       1.000000  \n",
       "max         1.000000       2.000000       1.000000  "
      ]
     },
     "execution_count": 16,
     "metadata": {},
     "output_type": "execute_result"
    }
   ],
   "source": [
    "data.describe()"
   ]
  },
  {
   "cell_type": "markdown",
   "metadata": {},
   "source": [
    "### 2.a Relationship between target and predictor variables"
   ]
  },
  {
   "cell_type": "code",
   "execution_count": 17,
   "metadata": {},
   "outputs": [
    {
     "data": {
      "text/html": [
       "<div>\n",
       "<table border=\"1\" class=\"dataframe\">\n",
       "  <thead>\n",
       "    <tr style=\"text-align: right;\">\n",
       "      <th></th>\n",
       "      <th>patient_id</th>\n",
       "      <th>Age</th>\n",
       "      <th>Gender</th>\n",
       "      <th>Prescription_period</th>\n",
       "      <th>Diabetes</th>\n",
       "      <th>Alcoholism</th>\n",
       "      <th>HyperTension</th>\n",
       "      <th>Smokes</th>\n",
       "      <th>Tuberculosis</th>\n",
       "      <th>Sms_Reminder</th>\n",
       "      <th>Adherence</th>\n",
       "    </tr>\n",
       "  </thead>\n",
       "  <tbody>\n",
       "    <tr>\n",
       "      <th>0</th>\n",
       "      <td>1</td>\n",
       "      <td>19</td>\n",
       "      <td>0</td>\n",
       "      <td>7</td>\n",
       "      <td>0</td>\n",
       "      <td>0</td>\n",
       "      <td>0</td>\n",
       "      <td>0</td>\n",
       "      <td>0</td>\n",
       "      <td>0</td>\n",
       "      <td>0</td>\n",
       "    </tr>\n",
       "    <tr>\n",
       "      <th>1</th>\n",
       "      <td>2</td>\n",
       "      <td>24</td>\n",
       "      <td>1</td>\n",
       "      <td>59</td>\n",
       "      <td>0</td>\n",
       "      <td>0</td>\n",
       "      <td>0</td>\n",
       "      <td>0</td>\n",
       "      <td>0</td>\n",
       "      <td>0</td>\n",
       "      <td>0</td>\n",
       "    </tr>\n",
       "    <tr>\n",
       "      <th>2</th>\n",
       "      <td>3</td>\n",
       "      <td>4</td>\n",
       "      <td>1</td>\n",
       "      <td>43</td>\n",
       "      <td>0</td>\n",
       "      <td>0</td>\n",
       "      <td>0</td>\n",
       "      <td>0</td>\n",
       "      <td>0</td>\n",
       "      <td>0</td>\n",
       "      <td>0</td>\n",
       "    </tr>\n",
       "    <tr>\n",
       "      <th>3</th>\n",
       "      <td>4</td>\n",
       "      <td>38</td>\n",
       "      <td>0</td>\n",
       "      <td>66</td>\n",
       "      <td>0</td>\n",
       "      <td>0</td>\n",
       "      <td>0</td>\n",
       "      <td>0</td>\n",
       "      <td>0</td>\n",
       "      <td>1</td>\n",
       "      <td>0</td>\n",
       "    </tr>\n",
       "    <tr>\n",
       "      <th>4</th>\n",
       "      <td>5</td>\n",
       "      <td>46</td>\n",
       "      <td>1</td>\n",
       "      <td>98</td>\n",
       "      <td>0</td>\n",
       "      <td>0</td>\n",
       "      <td>0</td>\n",
       "      <td>0</td>\n",
       "      <td>0</td>\n",
       "      <td>1</td>\n",
       "      <td>0</td>\n",
       "    </tr>\n",
       "  </tbody>\n",
       "</table>\n",
       "</div>"
      ],
      "text/plain": [
       "   patient_id  Age  Gender  Prescription_period  Diabetes  Alcoholism  \\\n",
       "0           1   19       0                    7         0           0   \n",
       "1           2   24       1                   59         0           0   \n",
       "2           3    4       1                   43         0           0   \n",
       "3           4   38       0                   66         0           0   \n",
       "4           5   46       1                   98         0           0   \n",
       "\n",
       "   HyperTension  Smokes  Tuberculosis  Sms_Reminder  Adherence  \n",
       "0             0       0             0             0          0  \n",
       "1             0       0             0             0          0  \n",
       "2             0       0             0             0          0  \n",
       "3             0       0             0             1          0  \n",
       "4             0       0             0             1          0  "
      ]
     },
     "execution_count": 17,
     "metadata": {},
     "output_type": "execute_result"
    }
   ],
   "source": [
    "data.head()"
   ]
  },
  {
   "cell_type": "code",
   "execution_count": 18,
   "metadata": {},
   "outputs": [
    {
     "data": {
      "image/png": "[encoded data removed]",
      "text/plain": [
       "<matplotlib.figure.Figure at 0x1a14a1e9e8>"
      ]
     },
     "metadata": {},
     "output_type": "display_data"
    }
   ],
   "source": [
    "\n",
    "# distribution of age# distri \n",
    "facet = sns.FacetGrid(data, hue=\"Adherence\",aspect=4)\n",
    "facet.map(sns.kdeplot,'Age',shade= True)\n",
    "facet.set(xlim=(0, data['Age'].max()))\n",
    "facet.add_legend()\n",
    "plt.show()"
   ]
  },
  {
   "cell_type": "code",
   "execution_count": 19,
   "metadata": {},
   "outputs": [
    {
     "name": "stdout",
     "output_type": "stream",
     "text": [
      "Gender\n",
      "0     59774\n",
      "1    120435\n",
      "dtype: int64 Females are: 33.17 %\n",
      "Diabetes\n",
      "0    166058\n",
      "1     14151\n",
      "dtype: int64 Diabetes patients are: 7.85 %\n",
      "Alcoholism\n",
      "0    175696\n",
      "1      4513\n",
      "dtype: int64 Alcoholics are: 2.5 %\n",
      "HyperTension\n",
      "0    141192\n",
      "1     39017\n",
      "dtype: int64 HyperTension patients are: 21.65 %\n",
      "Smokes\n",
      "0    170737\n",
      "1      9472\n",
      "dtype: int64 Smokers are: 5.26 %\n",
      "Tuberculosis\n",
      "0    180148\n",
      "1        61\n",
      "dtype: int64 Tuberculosis patients are: 0.03 %\n"
     ]
    }
   ],
   "source": [
    "# Checking out the size in groups for binary predictors\n",
    "dlen = len(data)\n",
    "\n",
    "print(data.groupby('Gender').size(), \"Females are:\", round((len(data[data['Gender'] == 0])/dlen)*100,2),\"%\" )\n",
    "print(data.groupby('Diabetes').size(), \"Diabetes patients are:\", round((len(data[data['Diabetes'] == 1])/dlen)*100,2) ,\"%\")\n",
    "print(data.groupby('Alcoholism').size(), \"Alcoholics are:\", round((len(data[data['Alcoholism'] == 1])/dlen)*100,2),\"%\" )\n",
    "print(data.groupby('HyperTension').size(), \"HyperTension patients are:\", round((len(data[data['HyperTension'] == 1])/dlen)*100,2),\"%\" )\n",
    "print(data.groupby('Smokes').size(), \"Smokers are:\", round((len(data[data['Smokes'] == 1])/dlen)*100,2),\"%\" )\n",
    "print(data.groupby('Tuberculosis').size(), \"Tuberculosis patients are:\", round((len(data[data['Tuberculosis'] == 1])/dlen)*100,2),\"%\" )"
   ]
  },
  {
   "cell_type": "markdown",
   "metadata": {},
   "source": [
    "There are very few Tuberculosis patients and alcoholics"
   ]
  },
  {
   "cell_type": "markdown",
   "metadata": {},
   "source": [
    "### 2.a Checking normality"
   ]
  },
  {
   "cell_type": "code",
   "execution_count": 20,
   "metadata": {},
   "outputs": [
    {
     "name": "stderr",
     "output_type": "stream",
     "text": [
      "/Users/ruhama.ahale/anaconda/lib/python3.6/site-packages/IPython/core/interactiveshell.py:2881: FutureWarning: \n",
      "mpl_style had been deprecated and will be removed in a future version.\n",
      "Use `matplotlib.pyplot.style.use` instead.\n",
      "\n",
      "  exec(code_obj, self.user_global_ns, self.user_ns)\n"
     ]
    },
    {
     "data": {
      "text/plain": [
       "<matplotlib.axes._subplots.AxesSubplot at 0x106dfe780>"
      ]
     },
     "execution_count": 20,
     "metadata": {},
     "output_type": "execute_result"
    },
    {
     "data": {
      "image/png": "[encoded data removed]",
      "text/plain": [
       "<matplotlib.figure.Figure at 0x1a14b125c0>"
      ]
     },
     "metadata": {},
     "output_type": "display_data"
    }
   ],
   "source": [
    "pd.options.display.mpl_style = 'default'\n",
    "#cols =['Age','Prescription_period']\n",
    "features = ['Age','Gender','Prescription_period','Diabetes','Alcoholism','HyperTension','Smokes','Tuberculosis','Sms_Reminder','Adherence'] \n",
    "data_var = data[features]\n",
    "data_var.boxplot()"
   ]
  },
  {
   "cell_type": "code",
   "execution_count": 21,
   "metadata": {},
   "outputs": [
    {
     "data": {
      "text/plain": [
       "NormaltestResult(statistic=masked_array(data = [32375.641677179745 293716.19887388445 --],\n",
       "             mask = [False False  True],\n",
       "       fill_value = 1e+20)\n",
       ", pvalue=array([ 0.,  0.,  0.]))"
      ]
     },
     "execution_count": 21,
     "metadata": {},
     "output_type": "execute_result"
    }
   ],
   "source": [
    "#Create a subset of data with only features to show coorrelation between features\n",
    "features = data[['Age','Prescription_period','Sms_Reminder']]\n",
    "series = features.values\n",
    "scipy.stats.mstats.normaltest(series)"
   ]
  },
  {
   "cell_type": "markdown",
   "metadata": {},
   "source": [
    "Hence, we will need to normalize the data"
   ]
  },
  {
   "cell_type": "code",
   "execution_count": 22,
   "metadata": {},
   "outputs": [
    {
     "data": {
      "image/png": "[encoded data removed]",
      "text/plain": [
       "<matplotlib.figure.Figure at 0x106e258d0>"
      ]
     },
     "metadata": {},
     "output_type": "display_data"
    }
   ],
   "source": [
    "\n",
    "h = sorted(data['Age'])  #sorted\n",
    "\n",
    "fit = stats.norm.pdf(h, np.mean(h), np.std(h))  #this is a fitting indeed\n",
    "\n",
    "pl.plot(h,fit,'-o')\n",
    "\n",
    "pl.hist(h,normed=True)      #use this to draw histogram of your data\n",
    "\n",
    "pl.show()     "
   ]
  },
  {
   "cell_type": "markdown",
   "metadata": {},
   "source": [
    "### 2.a Checking correlation"
   ]
  },
  {
   "cell_type": "code",
   "execution_count": 23,
   "metadata": {},
   "outputs": [
    {
     "data": {
      "image/png": "[encoded data removed]",
      "text/plain": [
       "<matplotlib.figure.Figure at 0x1a15130390>"
      ]
     },
     "metadata": {},
     "output_type": "display_data"
    }
   ],
   "source": [
    "sns.heatmap(data.corr())\n",
    "plt.show()"
   ]
  },
  {
   "cell_type": "markdown",
   "metadata": {},
   "source": [
    "As we can see, there is some multicollinearity between Age-Hypertension, Diabetes-Age/Hypertension, Alcoholism-Smokes and such"
   ]
  },
  {
   "cell_type": "markdown",
   "metadata": {},
   "source": [
    "### 2.a Checking class balance"
   ]
  },
  {
   "cell_type": "code",
   "execution_count": 24,
   "metadata": {},
   "outputs": [
    {
     "name": "stdout",
     "output_type": "stream",
     "text": [
      "(180209, 11)\n",
      "(119788, 10)\n"
     ]
    }
   ],
   "source": [
    "print(data.shape)\n",
    "print(test_data.shape)"
   ]
  },
  {
   "cell_type": "code",
   "execution_count": 25,
   "metadata": {},
   "outputs": [
    {
     "name": "stdout",
     "output_type": "stream",
     "text": [
      "Adherence\n",
      "0    125820\n",
      "1     54389\n",
      "dtype: int64\n"
     ]
    }
   ],
   "source": [
    "print(data.groupby('Adherence').size())"
   ]
  },
  {
   "cell_type": "code",
   "execution_count": 26,
   "metadata": {},
   "outputs": [
    {
     "data": {
      "image/png": "[encoded data removed]",
      "text/plain": [
       "<matplotlib.figure.Figure at 0x1a1ab3dcc0>"
      ]
     },
     "metadata": {},
     "output_type": "display_data"
    }
   ],
   "source": [
    "#import seaborn as sns\n",
    "sns.countplot(data['Adherence'],label=\"Count\")\n",
    "plt.show()"
   ]
  },
  {
   "cell_type": "code",
   "execution_count": 27,
   "metadata": {},
   "outputs": [
    {
     "name": "stdout",
     "output_type": "stream",
     "text": [
      "Proportion of 0: 69.82\n",
      "Proportion of 1: 30.18\n"
     ]
    }
   ],
   "source": [
    "#Do we need to balance the data?\n",
    "print(\"Proportion of 0:\", round((125820/dlen)*100,2))\n",
    "print(\"Proportion of 1:\", round((54389/dlen)*100,2))"
   ]
  },
  {
   "cell_type": "markdown",
   "metadata": {},
   "source": [
    "Here we can see that 30.18% of the data has Adhered to the prescription, this is a good enough amount of data for us to model on, so we will not consider the data inbalanced."
   ]
  },
  {
   "cell_type": "markdown",
   "metadata": {},
   "source": [
    "# 3. Data Preprocessing"
   ]
  },
  {
   "cell_type": "markdown",
   "metadata": {},
   "source": [
    "### 3.a Normalising"
   ]
  },
  {
   "cell_type": "markdown",
   "metadata": {},
   "source": [
    "** Training **"
   ]
  },
  {
   "cell_type": "code",
   "execution_count": 28,
   "metadata": {},
   "outputs": [
    {
     "name": "stdout",
     "output_type": "stream",
     "text": [
      "180209\n"
     ]
    },
    {
     "data": {
      "text/html": [
       "<div>\n",
       "<table border=\"1\" class=\"dataframe\">\n",
       "  <thead>\n",
       "    <tr style=\"text-align: right;\">\n",
       "      <th></th>\n",
       "      <th>patient_id</th>\n",
       "      <th>Age</th>\n",
       "      <th>Gender</th>\n",
       "      <th>Prescription_period</th>\n",
       "      <th>Diabetes</th>\n",
       "      <th>Alcoholism</th>\n",
       "      <th>HyperTension</th>\n",
       "      <th>Smokes</th>\n",
       "      <th>Tuberculosis</th>\n",
       "      <th>Sms_Reminder</th>\n",
       "      <th>Adherence</th>\n",
       "    </tr>\n",
       "  </thead>\n",
       "  <tbody>\n",
       "    <tr>\n",
       "      <th>0</th>\n",
       "      <td>1</td>\n",
       "      <td>0.182692</td>\n",
       "      <td>0.0</td>\n",
       "      <td>0.050420</td>\n",
       "      <td>0.0</td>\n",
       "      <td>0.0</td>\n",
       "      <td>0.0</td>\n",
       "      <td>0.0</td>\n",
       "      <td>0.0</td>\n",
       "      <td>0.0</td>\n",
       "      <td>0</td>\n",
       "    </tr>\n",
       "    <tr>\n",
       "      <th>1</th>\n",
       "      <td>2</td>\n",
       "      <td>0.230769</td>\n",
       "      <td>1.0</td>\n",
       "      <td>0.487395</td>\n",
       "      <td>0.0</td>\n",
       "      <td>0.0</td>\n",
       "      <td>0.0</td>\n",
       "      <td>0.0</td>\n",
       "      <td>0.0</td>\n",
       "      <td>0.0</td>\n",
       "      <td>0</td>\n",
       "    </tr>\n",
       "    <tr>\n",
       "      <th>2</th>\n",
       "      <td>3</td>\n",
       "      <td>0.038462</td>\n",
       "      <td>1.0</td>\n",
       "      <td>0.352941</td>\n",
       "      <td>0.0</td>\n",
       "      <td>0.0</td>\n",
       "      <td>0.0</td>\n",
       "      <td>0.0</td>\n",
       "      <td>0.0</td>\n",
       "      <td>0.0</td>\n",
       "      <td>0</td>\n",
       "    </tr>\n",
       "    <tr>\n",
       "      <th>3</th>\n",
       "      <td>4</td>\n",
       "      <td>0.365385</td>\n",
       "      <td>0.0</td>\n",
       "      <td>0.546218</td>\n",
       "      <td>0.0</td>\n",
       "      <td>0.0</td>\n",
       "      <td>0.0</td>\n",
       "      <td>0.0</td>\n",
       "      <td>0.0</td>\n",
       "      <td>0.5</td>\n",
       "      <td>0</td>\n",
       "    </tr>\n",
       "    <tr>\n",
       "      <th>4</th>\n",
       "      <td>5</td>\n",
       "      <td>0.442308</td>\n",
       "      <td>1.0</td>\n",
       "      <td>0.815126</td>\n",
       "      <td>0.0</td>\n",
       "      <td>0.0</td>\n",
       "      <td>0.0</td>\n",
       "      <td>0.0</td>\n",
       "      <td>0.0</td>\n",
       "      <td>0.5</td>\n",
       "      <td>0</td>\n",
       "    </tr>\n",
       "  </tbody>\n",
       "</table>\n",
       "</div>"
      ],
      "text/plain": [
       "   patient_id       Age  Gender  Prescription_period  Diabetes  Alcoholism  \\\n",
       "0           1  0.182692     0.0             0.050420       0.0         0.0   \n",
       "1           2  0.230769     1.0             0.487395       0.0         0.0   \n",
       "2           3  0.038462     1.0             0.352941       0.0         0.0   \n",
       "3           4  0.365385     0.0             0.546218       0.0         0.0   \n",
       "4           5  0.442308     1.0             0.815126       0.0         0.0   \n",
       "\n",
       "   HyperTension  Smokes  Tuberculosis  Sms_Reminder  Adherence  \n",
       "0           0.0     0.0           0.0           0.0          0  \n",
       "1           0.0     0.0           0.0           0.0          0  \n",
       "2           0.0     0.0           0.0           0.0          0  \n",
       "3           0.0     0.0           0.0           0.5          0  \n",
       "4           0.0     0.0           0.0           0.5          0  "
      ]
     },
     "execution_count": 28,
     "metadata": {},
     "output_type": "execute_result"
    }
   ],
   "source": [
    "data.Gender = data.Gender.astype(float)\n",
    "data.Diabetes = data.Diabetes.astype(float)\n",
    "data.Alcoholism = data.Alcoholism.astype(float)\n",
    "data.HyperTension = data.HyperTension.astype(float)\n",
    "data.Smokes = data.Smokes.astype(float)\n",
    "data.Tuberculosis = data.Tuberculosis.astype(float)\n",
    "\n",
    "\n",
    "for item in data: #converts everything to floats\n",
    "    data[item] = pd.to_numeric(data[item])\n",
    "\n",
    "def normalize(data, toNormalize): #normalizes \n",
    "    result = data.copy()\n",
    "    for item in data.columns:\n",
    "        if (item in toNormalize):\n",
    "            max_value = data[item].max()\n",
    "            min_value = data[item].min()\n",
    "            result[item] = (data[item] - min_value) / (max_value - min_value)\n",
    "    return result\n",
    "toNormalize = ['Age', 'Prescription_period', 'Sms_Reminder'] #columns to normalize\n",
    "data = normalize(data, toNormalize)\n",
    "#data = data.dropna()\n",
    "print(len(data))\n",
    "data.head()"
   ]
  },
  {
   "cell_type": "code",
   "execution_count": 29,
   "metadata": {},
   "outputs": [
    {
     "name": "stderr",
     "output_type": "stream",
     "text": [
      "/Users/ruhama.ahale/anaconda/lib/python3.6/site-packages/IPython/core/interactiveshell.py:2881: FutureWarning: \n",
      "mpl_style had been deprecated and will be removed in a future version.\n",
      "Use `matplotlib.pyplot.style.use` instead.\n",
      "\n",
      "  exec(code_obj, self.user_global_ns, self.user_ns)\n"
     ]
    },
    {
     "data": {
      "text/plain": [
       "<matplotlib.axes._subplots.AxesSubplot at 0x1a1cb8ea20>"
      ]
     },
     "execution_count": 29,
     "metadata": {},
     "output_type": "execute_result"
    },
    {
     "data": {
      "image/png": "[encoded data removed]",
      "text/plain": [
       "<matplotlib.figure.Figure at 0x1a1cb8e2e8>"
      ]
     },
     "metadata": {},
     "output_type": "display_data"
    }
   ],
   "source": [
    "pd.options.display.mpl_style = 'default'\n",
    "#cols =['Age','Prescription_period']\n",
    "features = ['Age','Gender','Prescription_period','Diabetes','Alcoholism','HyperTension','Smokes','Tuberculosis','Sms_Reminder','Adherence'] \n",
    "data_var = data[features]\n",
    "data_var.boxplot()"
   ]
  },
  {
   "cell_type": "markdown",
   "metadata": {},
   "source": [
    "** Testing **"
   ]
  },
  {
   "cell_type": "code",
   "execution_count": 30,
   "metadata": {},
   "outputs": [
    {
     "name": "stdout",
     "output_type": "stream",
     "text": [
      "119788\n"
     ]
    },
    {
     "data": {
      "text/html": [
       "<div>\n",
       "<table border=\"1\" class=\"dataframe\">\n",
       "  <thead>\n",
       "    <tr style=\"text-align: right;\">\n",
       "      <th></th>\n",
       "      <th>patient_id</th>\n",
       "      <th>Age</th>\n",
       "      <th>Gender</th>\n",
       "      <th>Prescription_period</th>\n",
       "      <th>Diabetes</th>\n",
       "      <th>Alcoholism</th>\n",
       "      <th>HyperTension</th>\n",
       "      <th>Smokes</th>\n",
       "      <th>Tuberculosis</th>\n",
       "      <th>Sms_Reminder</th>\n",
       "    </tr>\n",
       "  </thead>\n",
       "  <tbody>\n",
       "    <tr>\n",
       "      <th>0</th>\n",
       "      <td>1</td>\n",
       "      <td>0.044248</td>\n",
       "      <td>0.0</td>\n",
       "      <td>0.226891</td>\n",
       "      <td>0.0</td>\n",
       "      <td>0.0</td>\n",
       "      <td>0.0</td>\n",
       "      <td>0.0</td>\n",
       "      <td>0.0</td>\n",
       "      <td>0.5</td>\n",
       "    </tr>\n",
       "    <tr>\n",
       "      <th>1</th>\n",
       "      <td>2</td>\n",
       "      <td>0.548673</td>\n",
       "      <td>1.0</td>\n",
       "      <td>0.067227</td>\n",
       "      <td>1.0</td>\n",
       "      <td>0.0</td>\n",
       "      <td>1.0</td>\n",
       "      <td>0.0</td>\n",
       "      <td>0.0</td>\n",
       "      <td>0.0</td>\n",
       "    </tr>\n",
       "    <tr>\n",
       "      <th>2</th>\n",
       "      <td>3</td>\n",
       "      <td>0.035398</td>\n",
       "      <td>1.0</td>\n",
       "      <td>0.605042</td>\n",
       "      <td>0.0</td>\n",
       "      <td>0.0</td>\n",
       "      <td>0.0</td>\n",
       "      <td>0.0</td>\n",
       "      <td>0.0</td>\n",
       "      <td>0.5</td>\n",
       "    </tr>\n",
       "    <tr>\n",
       "      <th>3</th>\n",
       "      <td>4</td>\n",
       "      <td>0.292035</td>\n",
       "      <td>0.0</td>\n",
       "      <td>0.974790</td>\n",
       "      <td>0.0</td>\n",
       "      <td>0.0</td>\n",
       "      <td>0.0</td>\n",
       "      <td>0.0</td>\n",
       "      <td>0.0</td>\n",
       "      <td>0.0</td>\n",
       "    </tr>\n",
       "    <tr>\n",
       "      <th>4</th>\n",
       "      <td>5</td>\n",
       "      <td>0.336283</td>\n",
       "      <td>0.0</td>\n",
       "      <td>0.058824</td>\n",
       "      <td>0.0</td>\n",
       "      <td>0.0</td>\n",
       "      <td>0.0</td>\n",
       "      <td>0.0</td>\n",
       "      <td>0.0</td>\n",
       "      <td>0.5</td>\n",
       "    </tr>\n",
       "  </tbody>\n",
       "</table>\n",
       "</div>"
      ],
      "text/plain": [
       "   patient_id       Age  Gender  Prescription_period  Diabetes  Alcoholism  \\\n",
       "0           1  0.044248     0.0             0.226891       0.0         0.0   \n",
       "1           2  0.548673     1.0             0.067227       1.0         0.0   \n",
       "2           3  0.035398     1.0             0.605042       0.0         0.0   \n",
       "3           4  0.292035     0.0             0.974790       0.0         0.0   \n",
       "4           5  0.336283     0.0             0.058824       0.0         0.0   \n",
       "\n",
       "   HyperTension  Smokes  Tuberculosis  Sms_Reminder  \n",
       "0           0.0     0.0           0.0           0.5  \n",
       "1           1.0     0.0           0.0           0.0  \n",
       "2           0.0     0.0           0.0           0.5  \n",
       "3           0.0     0.0           0.0           0.0  \n",
       "4           0.0     0.0           0.0           0.5  "
      ]
     },
     "execution_count": 30,
     "metadata": {},
     "output_type": "execute_result"
    }
   ],
   "source": [
    "test_data.Gender = test_data.Gender.astype(float)\n",
    "test_data.Diabetes = test_data.Diabetes.astype(float)\n",
    "test_data.Alcoholism = test_data.Alcoholism.astype(float)\n",
    "test_data.HyperTension = test_data.HyperTension.astype(float)\n",
    "test_data.Smokes = test_data.Smokes.astype(float)\n",
    "test_data.Tuberculosis = test_data.Tuberculosis.astype(float)\n",
    "\n",
    "\n",
    "for item in test_data: #converts everything to floats\n",
    "    test_data[item] = pd.to_numeric(test_data[item])\n",
    "\n",
    "def normalize(data, toNormalize): #normalizes \n",
    "    result = data.copy()\n",
    "    for item in data.columns:\n",
    "        if (item in toNormalize):\n",
    "            max_value = data[item].max()\n",
    "            min_value = data[item].min()\n",
    "            result[item] = (data[item] - min_value) / (max_value - min_value)\n",
    "    return result\n",
    "toNormalize = ['Age', 'Prescription_period', 'Sms_Reminder'] #columns to normalize\n",
    "test_data = normalize(test_data, toNormalize)\n",
    "#data = data.dropna()\n",
    "print(len(test_data))\n",
    "test_data.head()"
   ]
  },
  {
   "cell_type": "code",
   "execution_count": 31,
   "metadata": {},
   "outputs": [
    {
     "name": "stderr",
     "output_type": "stream",
     "text": [
      "/Users/ruhama.ahale/anaconda/lib/python3.6/site-packages/IPython/core/interactiveshell.py:2881: FutureWarning: \n",
      "mpl_style had been deprecated and will be removed in a future version.\n",
      "Use `matplotlib.pyplot.style.use` instead.\n",
      "\n",
      "  exec(code_obj, self.user_global_ns, self.user_ns)\n"
     ]
    },
    {
     "data": {
      "text/plain": [
       "<matplotlib.axes._subplots.AxesSubplot at 0x1a1cb8e550>"
      ]
     },
     "execution_count": 31,
     "metadata": {},
     "output_type": "execute_result"
    },
    {
     "data": {
      "image/png": "[encoded data removed]",
      "text/plain": [
       "<matplotlib.figure.Figure at 0x1a1cbc0ef0>"
      ]
     },
     "metadata": {},
     "output_type": "display_data"
    }
   ],
   "source": [
    "pd.options.display.mpl_style = 'default'\n",
    "#cols =['Age','Prescription_period']\n",
    "features = ['Age','Gender','Prescription_period','Diabetes','Alcoholism','HyperTension','Smokes','Tuberculosis','Sms_Reminder'] \n",
    "data_var = test_data[features]\n",
    "data_var.boxplot()"
   ]
  },
  {
   "cell_type": "code",
   "execution_count": 32,
   "metadata": {
    "collapsed": true
   },
   "outputs": [],
   "source": [
    "fixed_train = data.copy()\n",
    "fixed_test = test_data.copy()"
   ]
  },
  {
   "cell_type": "markdown",
   "metadata": {},
   "source": [
    "### ** 3.b Feature Selection**"
   ]
  },
  {
   "cell_type": "markdown",
   "metadata": {},
   "source": [
    "Since there are only 10 predictors in the variable, we do not want to exclude any features as that could lead to loss of information. Instead, we will try to handle this in the model"
   ]
  },
  {
   "cell_type": "markdown",
   "metadata": {},
   "source": [
    "### ** 3.c Split Train-Validation-Test**"
   ]
  },
  {
   "cell_type": "code",
   "execution_count": 33,
   "metadata": {},
   "outputs": [
    {
     "name": "stderr",
     "output_type": "stream",
     "text": [
      "/Users/ruhama.ahale/anaconda/lib/python3.6/site-packages/sklearn/cross_validation.py:41: DeprecationWarning: This module was deprecated in version 0.18 in favor of the model_selection module into which all the refactored classes and functions are moved. Also note that the interface of the new CV iterators are different from that of this module. This module will be removed in 0.20.\n",
      "  \"This module will be removed in 0.20.\", DeprecationWarning)\n",
      "/Users/ruhama.ahale/anaconda/lib/python3.6/site-packages/sklearn/grid_search.py:42: DeprecationWarning: This module was deprecated in version 0.18 in favor of the model_selection module into which all the refactored classes and functions are moved. This module will be removed in 0.20.\n",
      "  DeprecationWarning)\n"
     ]
    }
   ],
   "source": [
    "#logistic\n",
    "from sklearn.model_selection import train_test_split\n",
    "from sklearn.linear_model import LogisticRegression\n",
    "from sklearn.metrics import accuracy_score\n",
    "from sklearn.metrics import classification_report\n",
    "from sklearn.metrics import confusion_matrix\n",
    "from sklearn.metrics import classification_report\n",
    "\n",
    "# Decision tree\n",
    "from sklearn.neighbors import KNeighborsClassifier # KNN classifier\n",
    "from sklearn import svm # for suport vector machine algorithm\n",
    "from sklearn import metrics # for checking the model accuracy\n",
    "from sklearn.tree import DecisionTreeClassifier # for using DTA\n",
    "\n",
    "from sklearn.metrics import roc_auc_score\n",
    "from sklearn.metrics import roc_curve\n",
    "\n",
    "from sklearn.grid_search import GridSearchCV"
   ]
  },
  {
   "cell_type": "code",
   "execution_count": 34,
   "metadata": {},
   "outputs": [
    {
     "data": {
      "text/html": [
       "<div>\n",
       "<table border=\"1\" class=\"dataframe\">\n",
       "  <thead>\n",
       "    <tr style=\"text-align: right;\">\n",
       "      <th></th>\n",
       "      <th>Age</th>\n",
       "      <th>Gender</th>\n",
       "      <th>Prescription_period</th>\n",
       "      <th>Diabetes</th>\n",
       "      <th>Alcoholism</th>\n",
       "      <th>HyperTension</th>\n",
       "      <th>Smokes</th>\n",
       "      <th>Tuberculosis</th>\n",
       "      <th>Sms_Reminder</th>\n",
       "      <th>Adherence</th>\n",
       "    </tr>\n",
       "  </thead>\n",
       "  <tbody>\n",
       "    <tr>\n",
       "      <th>0</th>\n",
       "      <td>0.182692</td>\n",
       "      <td>0.0</td>\n",
       "      <td>0.050420</td>\n",
       "      <td>0.0</td>\n",
       "      <td>0.0</td>\n",
       "      <td>0.0</td>\n",
       "      <td>0.0</td>\n",
       "      <td>0.0</td>\n",
       "      <td>0.0</td>\n",
       "      <td>0</td>\n",
       "    </tr>\n",
       "    <tr>\n",
       "      <th>1</th>\n",
       "      <td>0.230769</td>\n",
       "      <td>1.0</td>\n",
       "      <td>0.487395</td>\n",
       "      <td>0.0</td>\n",
       "      <td>0.0</td>\n",
       "      <td>0.0</td>\n",
       "      <td>0.0</td>\n",
       "      <td>0.0</td>\n",
       "      <td>0.0</td>\n",
       "      <td>0</td>\n",
       "    </tr>\n",
       "    <tr>\n",
       "      <th>2</th>\n",
       "      <td>0.038462</td>\n",
       "      <td>1.0</td>\n",
       "      <td>0.352941</td>\n",
       "      <td>0.0</td>\n",
       "      <td>0.0</td>\n",
       "      <td>0.0</td>\n",
       "      <td>0.0</td>\n",
       "      <td>0.0</td>\n",
       "      <td>0.0</td>\n",
       "      <td>0</td>\n",
       "    </tr>\n",
       "    <tr>\n",
       "      <th>3</th>\n",
       "      <td>0.365385</td>\n",
       "      <td>0.0</td>\n",
       "      <td>0.546218</td>\n",
       "      <td>0.0</td>\n",
       "      <td>0.0</td>\n",
       "      <td>0.0</td>\n",
       "      <td>0.0</td>\n",
       "      <td>0.0</td>\n",
       "      <td>0.5</td>\n",
       "      <td>0</td>\n",
       "    </tr>\n",
       "    <tr>\n",
       "      <th>4</th>\n",
       "      <td>0.442308</td>\n",
       "      <td>1.0</td>\n",
       "      <td>0.815126</td>\n",
       "      <td>0.0</td>\n",
       "      <td>0.0</td>\n",
       "      <td>0.0</td>\n",
       "      <td>0.0</td>\n",
       "      <td>0.0</td>\n",
       "      <td>0.5</td>\n",
       "      <td>0</td>\n",
       "    </tr>\n",
       "  </tbody>\n",
       "</table>\n",
       "</div>"
      ],
      "text/plain": [
       "        Age  Gender  Prescription_period  Diabetes  Alcoholism  HyperTension  \\\n",
       "0  0.182692     0.0             0.050420       0.0         0.0           0.0   \n",
       "1  0.230769     1.0             0.487395       0.0         0.0           0.0   \n",
       "2  0.038462     1.0             0.352941       0.0         0.0           0.0   \n",
       "3  0.365385     0.0             0.546218       0.0         0.0           0.0   \n",
       "4  0.442308     1.0             0.815126       0.0         0.0           0.0   \n",
       "\n",
       "   Smokes  Tuberculosis  Sms_Reminder  Adherence  \n",
       "0     0.0           0.0           0.0          0  \n",
       "1     0.0           0.0           0.0          0  \n",
       "2     0.0           0.0           0.0          0  \n",
       "3     0.0           0.0           0.5          0  \n",
       "4     0.0           0.0           0.5          0  "
      ]
     },
     "execution_count": 34,
     "metadata": {},
     "output_type": "execute_result"
    }
   ],
   "source": [
    "df = data.copy()\n",
    "df.drop(df.columns[0], axis=1, inplace=True)\n",
    "df.head()"
   ]
  },
  {
   "cell_type": "code",
   "execution_count": 35,
   "metadata": {},
   "outputs": [
    {
     "data": {
      "text/html": [
       "<div>\n",
       "<table border=\"1\" class=\"dataframe\">\n",
       "  <thead>\n",
       "    <tr style=\"text-align: right;\">\n",
       "      <th></th>\n",
       "      <th>Age</th>\n",
       "      <th>Gender</th>\n",
       "      <th>Prescription_period</th>\n",
       "      <th>Diabetes</th>\n",
       "      <th>Alcoholism</th>\n",
       "      <th>HyperTension</th>\n",
       "      <th>Smokes</th>\n",
       "      <th>Tuberculosis</th>\n",
       "      <th>Sms_Reminder</th>\n",
       "    </tr>\n",
       "  </thead>\n",
       "  <tbody>\n",
       "    <tr>\n",
       "      <th>0</th>\n",
       "      <td>0.044248</td>\n",
       "      <td>0.0</td>\n",
       "      <td>0.226891</td>\n",
       "      <td>0.0</td>\n",
       "      <td>0.0</td>\n",
       "      <td>0.0</td>\n",
       "      <td>0.0</td>\n",
       "      <td>0.0</td>\n",
       "      <td>0.5</td>\n",
       "    </tr>\n",
       "    <tr>\n",
       "      <th>1</th>\n",
       "      <td>0.548673</td>\n",
       "      <td>1.0</td>\n",
       "      <td>0.067227</td>\n",
       "      <td>1.0</td>\n",
       "      <td>0.0</td>\n",
       "      <td>1.0</td>\n",
       "      <td>0.0</td>\n",
       "      <td>0.0</td>\n",
       "      <td>0.0</td>\n",
       "    </tr>\n",
       "    <tr>\n",
       "      <th>2</th>\n",
       "      <td>0.035398</td>\n",
       "      <td>1.0</td>\n",
       "      <td>0.605042</td>\n",
       "      <td>0.0</td>\n",
       "      <td>0.0</td>\n",
       "      <td>0.0</td>\n",
       "      <td>0.0</td>\n",
       "      <td>0.0</td>\n",
       "      <td>0.5</td>\n",
       "    </tr>\n",
       "    <tr>\n",
       "      <th>3</th>\n",
       "      <td>0.292035</td>\n",
       "      <td>0.0</td>\n",
       "      <td>0.974790</td>\n",
       "      <td>0.0</td>\n",
       "      <td>0.0</td>\n",
       "      <td>0.0</td>\n",
       "      <td>0.0</td>\n",
       "      <td>0.0</td>\n",
       "      <td>0.0</td>\n",
       "    </tr>\n",
       "    <tr>\n",
       "      <th>4</th>\n",
       "      <td>0.336283</td>\n",
       "      <td>0.0</td>\n",
       "      <td>0.058824</td>\n",
       "      <td>0.0</td>\n",
       "      <td>0.0</td>\n",
       "      <td>0.0</td>\n",
       "      <td>0.0</td>\n",
       "      <td>0.0</td>\n",
       "      <td>0.5</td>\n",
       "    </tr>\n",
       "  </tbody>\n",
       "</table>\n",
       "</div>"
      ],
      "text/plain": [
       "        Age  Gender  Prescription_period  Diabetes  Alcoholism  HyperTension  \\\n",
       "0  0.044248     0.0             0.226891       0.0         0.0           0.0   \n",
       "1  0.548673     1.0             0.067227       1.0         0.0           1.0   \n",
       "2  0.035398     1.0             0.605042       0.0         0.0           0.0   \n",
       "3  0.292035     0.0             0.974790       0.0         0.0           0.0   \n",
       "4  0.336283     0.0             0.058824       0.0         0.0           0.0   \n",
       "\n",
       "   Smokes  Tuberculosis  Sms_Reminder  \n",
       "0     0.0           0.0           0.5  \n",
       "1     0.0           0.0           0.0  \n",
       "2     0.0           0.0           0.5  \n",
       "3     0.0           0.0           0.0  \n",
       "4     0.0           0.0           0.5  "
      ]
     },
     "execution_count": 35,
     "metadata": {},
     "output_type": "execute_result"
    }
   ],
   "source": [
    "test_df = test_data.copy()\n",
    "test_df.drop(test_df.columns[0], axis=1, inplace=True)\n",
    "test_df.head()"
   ]
  },
  {
   "cell_type": "code",
   "execution_count": 36,
   "metadata": {},
   "outputs": [],
   "source": [
    "train, val = train_test_split(df, test_size=0.2)\n",
    "X_train = train.ix[:,0:9]\n",
    "y_train = train.ix[:,-1]\n",
    "y_train_df = pd.DataFrame(y_train)\n",
    "X_val = val.ix[:,0:9]\n",
    "y_val = val.ix[:,-1]\n",
    "y_val_df = pd.DataFrame(y_val)\n"
   ]
  },
  {
   "cell_type": "code",
   "execution_count": 37,
   "metadata": {},
   "outputs": [
    {
     "name": "stdout",
     "output_type": "stream",
     "text": [
      "36042\n",
      "(144167, 9)\n",
      "(36042, 9)\n",
      "(144167,)\n",
      "(36042,)\n"
     ]
    }
   ],
   "source": [
    "val_len = len(X_val)\n",
    "print(val_len)\n",
    "print(X_train.shape)\n",
    "print(X_val.shape)\n",
    "print(y_train.shape)\n",
    "print(y_val.shape)"
   ]
  },
  {
   "cell_type": "code",
   "execution_count": 38,
   "metadata": {},
   "outputs": [
    {
     "data": {
      "text/plain": [
       "(119788, 9)"
      ]
     },
     "execution_count": 38,
     "metadata": {},
     "output_type": "execute_result"
    }
   ],
   "source": [
    "test_df.shape"
   ]
  },
  {
   "cell_type": "code",
   "execution_count": 39,
   "metadata": {},
   "outputs": [
    {
     "data": {
      "text/plain": [
       "(144167, 10)"
      ]
     },
     "execution_count": 39,
     "metadata": {},
     "output_type": "execute_result"
    }
   ],
   "source": [
    "train.shape"
   ]
  },
  {
   "cell_type": "markdown",
   "metadata": {},
   "source": [
    "# 4. Training and Evaluating the model"
   ]
  },
  {
   "cell_type": "code",
   "execution_count": 40,
   "metadata": {
    "collapsed": true
   },
   "outputs": [],
   "source": [
    "#defining the function to calculate precision recall\n",
    "def precision_recall(TP, FP, FN, TN, c):\n",
    "    if c == 'PY':\n",
    "        score = TP/(TP+FP)\n",
    "    elif c == 'RY':\n",
    "        score = TP/(TP+FN)\n",
    "    elif c == 'PN':\n",
    "        score = TN/(TN+FN)\n",
    "    elif c == 'RN':\n",
    "        score = TN/(TN+FP)\n",
    "    return(score)"
   ]
  },
  {
   "cell_type": "markdown",
   "metadata": {},
   "source": [
    "### ** 4.a Logistic Regression **"
   ]
  },
  {
   "cell_type": "code",
   "execution_count": 41,
   "metadata": {},
   "outputs": [
    {
     "name": "stdout",
     "output_type": "stream",
     "text": [
      "The accuracy of Logistic Regression is:  87.77 %\n",
      "             precision    recall  f1-score   support\n",
      "\n",
      "          0       0.92      0.90      0.91     25128\n",
      "          1       0.79      0.82      0.80     10914\n",
      "\n",
      "avg / total       0.88      0.88      0.88     36042\n",
      "\n",
      "[[22717  2411]\n",
      " [ 1996  8918]]\n",
      "Precision for Yes is : 90.41 %\n",
      "Recall for Yes is : 91.92 %\n",
      "Precision for No is : 81.71 %\n",
      "Recall for No is : 78.72 %\n",
      "The result is telling us that we have 31635 ( 87.77 %) correct predictions and 4407 ( 12.23 %) incorrect predictions.\n"
     ]
    }
   ],
   "source": [
    "\n",
    "logreg = LogisticRegression()\n",
    "logreg.fit(X_train, y_train.values)\n",
    "\n",
    "\n",
    "prediction = logreg.predict(X_val)\n",
    "print('The accuracy of Logistic Regression is: ', round(accuracy_score(y_val, prediction)*100,2),\"%\")\n",
    "\n",
    "print(classification_report(y_val.values, prediction))\n",
    "cm = confusion_matrix(y_val.values, prediction)\n",
    "print(cm)\n",
    "\n",
    "\n",
    "TP = cm[0][0]\n",
    "FP = cm[0][1]\n",
    "FN = cm[1][0]\n",
    "TN = cm[1][1]\n",
    "\n",
    "\n",
    "print(\"Precision for Yes is :\", round(precision_recall(TP, FP, FN, TN, 'PY')*100,2), \"%\")\n",
    "print(\"Recall for Yes is :\", round(precision_recall(TP, FP, FN, TN, 'RY')*100,2), \"%\")\n",
    "print(\"Precision for No is :\", round(precision_recall(TP, FP, FN, TN, 'PN')*100,2), \"%\")\n",
    "print(\"Recall for No is :\", round(precision_recall(TP, FP, FN, TN, 'RN')*100,2), \"%\")\n",
    "\n",
    "print(\"The result is telling us that we have\", TP+TN, \"(\", round(((TP+TN)/val_len)*100,2),\"%)\", \"correct predictions and\", FP+FN ,  \"(\", round(((FP+FN)/val_len)*100,2),\"%)\", \"incorrect predictions.\")  \n",
    "\n"
   ]
  },
  {
   "cell_type": "code",
   "execution_count": 42,
   "metadata": {},
   "outputs": [
    {
     "data": {
      "image/png": "[encoded data removed]",
      "text/plain": [
       "<matplotlib.figure.Figure at 0x1a1743cda0>"
      ]
     },
     "metadata": {},
     "output_type": "display_data"
    }
   ],
   "source": [
    "#roc curve\n",
    "\n",
    "logit_roc_auc = roc_auc_score(y_val, logreg.predict(X_val))\n",
    "fpr, tpr, thresholds = roc_curve(y_val, logreg.predict_proba(X_val)[:,1])\n",
    "plt.figure()\n",
    "plt.plot(fpr, tpr, label='Logistic Regression (area = %0.2f)' % logit_roc_auc)\n",
    "plt.plot([0, 1], [0, 1],'r--')\n",
    "plt.xlim([0.0, 1.0])\n",
    "plt.ylim([0.0, 1.05])\n",
    "plt.xlabel('False Positive Rate')\n",
    "plt.ylabel('True Positive Rate')\n",
    "plt.title('Receiver operating characteristic')\n",
    "plt.legend(loc=\"lower right\")\n",
    "plt.savefig('Log_ROC')\n",
    "plt.show()"
   ]
  },
  {
   "cell_type": "markdown",
   "metadata": {},
   "source": [
    "## ** For Logistic regression, the f-score is 88% **"
   ]
  },
  {
   "cell_type": "markdown",
   "metadata": {},
   "source": [
    "### 4.b. Decision Trees"
   ]
  },
  {
   "cell_type": "code",
   "execution_count": 43,
   "metadata": {},
   "outputs": [
    {
     "name": "stdout",
     "output_type": "stream",
     "text": [
      "The accuracy of Decision Tree is:  85.32 %\n",
      "             precision    recall  f1-score   support\n",
      "\n",
      "          0       0.89      0.90      0.89     25128\n",
      "          1       0.76      0.75      0.76     10914\n",
      "\n",
      "avg / total       0.85      0.85      0.85     36042\n",
      "\n",
      "[[22540  2588]\n",
      " [ 2704  8210]]\n",
      "Precision for Yes is : 89.7 %\n",
      "Recall for Yes is : 89.29 %\n",
      "Precision for No is : 75.22 %\n",
      "Recall for No is : 76.03 %\n",
      "The result is telling us that we have 30750 ( 85.32 %) correct predictions and 5292 ( 14.68 %) incorrect predictions.\n"
     ]
    }
   ],
   "source": [
    "model = DecisionTreeClassifier()\n",
    "model.fit(X_train, y_train.values)\n",
    "prediction = model.predict(X_val)\n",
    "print('The accuracy of Decision Tree is: ', round(accuracy_score(y_val, prediction)*100,2), \"%\") \n",
    "\n",
    "print(classification_report(y_val.values, prediction))\n",
    "cm = confusion_matrix(y_val.values, prediction)\n",
    "print(cm)\n",
    "\n",
    "\n",
    "TP = cm[0][0]\n",
    "FP = cm[0][1]\n",
    "FN = cm[1][0]\n",
    "TN = cm[1][1]\n",
    "\n",
    "\n",
    "print(\"Precision for Yes is :\", round(precision_recall(TP, FP, FN, TN, 'PY')*100,2), \"%\")\n",
    "print(\"Recall for Yes is :\", round(precision_recall(TP, FP, FN, TN, 'RY')*100,2), \"%\")\n",
    "print(\"Precision for No is :\", round(precision_recall(TP, FP, FN, TN, 'PN')*100,2), \"%\")\n",
    "print(\"Recall for No is :\", round(precision_recall(TP, FP, FN, TN, 'RN')*100,2), \"%\")\n",
    "\n",
    "print(\"The result is telling us that we have\", TP+TN, \"(\", round(((TP+TN)/val_len)*100,2),\"%)\", \"correct predictions and\", FP+FN ,  \"(\", round(((FP+FN)/val_len)*100,2),\"%)\", \"incorrect predictions.\")"
   ]
  },
  {
   "cell_type": "code",
   "execution_count": 44,
   "metadata": {
    "scrolled": true
   },
   "outputs": [
    {
     "name": "stdout",
     "output_type": "stream",
     "text": [
      "             precision    recall  f1-score   support\n",
      "\n",
      "          0       0.95      0.89      0.92     25128\n",
      "          1       0.78      0.89      0.83     10914\n",
      "\n",
      "avg / total       0.90      0.89      0.89     36042\n",
      "\n",
      "[[22435  2693]\n",
      " [ 1230  9684]]\n",
      "Precision for Yes is : 89.28 %\n",
      "Recall for Yes is : 94.8 %\n",
      "Precision for No is : 88.73 %\n",
      "Recall for No is : 78.24 %\n",
      "The result is telling us that we have 32119 ( 89.12 %) correct predictions and 3923 ( 10.88 %) incorrect predictions.\n"
     ]
    }
   ],
   "source": [
    "parameters={'min_samples_split' : list(range(10,500,20)),'max_depth': list(range(1,20,2))}\n",
    "clf_t = DecisionTreeClassifier()\n",
    "clf = GridSearchCV(clf_t,parameters)\n",
    "clf.fit(X_train, y_train)\n",
    "prediction = clf.predict(X_val)\n",
    "\n",
    "print(classification_report(y_val.values, prediction))\n",
    "cm = confusion_matrix(y_val, prediction)\n",
    "print(cm)\n",
    "\n",
    "\n",
    "TP = cm[0][0]\n",
    "FP = cm[0][1]\n",
    "FN = cm[1][0]\n",
    "TN = cm[1][1]\n",
    "\n",
    "\n",
    "print(\"Precision for Yes is :\", round(precision_recall(TP, FP, FN, TN, 'PY')*100,2), \"%\")\n",
    "print(\"Recall for Yes is :\", round(precision_recall(TP, FP, FN, TN, 'RY')*100,2), \"%\")\n",
    "print(\"Precision for No is :\", round(precision_recall(TP, FP, FN, TN, 'PN')*100,2), \"%\")\n",
    "print(\"Recall for No is :\", round(precision_recall(TP, FP, FN, TN, 'RN')*100,2), \"%\")\n",
    "\n",
    "print(\"The result is telling us that we have\", TP+TN, \"(\", round(((TP+TN)/val_len)*100,2),\"%)\", \"correct predictions and\", FP+FN ,  \"(\", round(((FP+FN)/val_len)*100,2),\"%)\", \"incorrect predictions.\")  \n",
    "\n"
   ]
  },
  {
   "cell_type": "markdown",
   "metadata": {},
   "source": [
    "## ** For Decision Tree, the f-score is 89% **"
   ]
  },
  {
   "cell_type": "markdown",
   "metadata": {},
   "source": [
    "### 4.c Random Forest"
   ]
  },
  {
   "cell_type": "code",
   "execution_count": 45,
   "metadata": {
    "collapsed": true
   },
   "outputs": [],
   "source": [
    "# Load scikit's random forest classifier library\n",
    "from sklearn.datasets import make_classification\n",
    "from sklearn.ensemble import RandomForestClassifier"
   ]
  },
  {
   "cell_type": "markdown",
   "metadata": {},
   "source": [
    "\n",
    "#took too long to run, didnt identify best params\n",
    "rfc = RandomForestClassifier(n_jobs=-1, oob_score = True) \n",
    "\n",
    "param_grid = { \n",
    "    'n_estimators': [200, 700],\n",
    "    'max_features': ['auto', 'sqrt', 'log2']\n",
    "}\n",
    "\n",
    "CV_rfc = GridSearchCV(estimator=rfc, param_grid=param_grid, cv= 5)\n",
    "CV_rfc.fit(X_train, y_train)\n",
    "print(CV_rfc.best_params_)"
   ]
  },
  {
   "cell_type": "code",
   "execution_count": 46,
   "metadata": {},
   "outputs": [
    {
     "name": "stdout",
     "output_type": "stream",
     "text": [
      "The accuracy of RF classifier is:  0.86521280728\n",
      "             precision    recall  f1-score   support\n",
      "\n",
      "          0       0.91      0.90      0.90     25128\n",
      "          1       0.77      0.80      0.78     10914\n",
      "\n",
      "avg / total       0.87      0.87      0.87     36042\n",
      "\n",
      "[[22492  2636]\n",
      " [ 2222  8692]]\n",
      "Precision for Yes is : 89.51 %\n",
      "Recall for Yes is : 91.01 %\n",
      "Precision for No is : 79.64 %\n",
      "Recall for No is : 76.73 %\n",
      "The result is telling us that we have 31184 ( 86.52 %) correct predictions and 4858 ( 13.48 %) incorrect predictions.\n"
     ]
    }
   ],
   "source": [
    "# Create a random forest Classifier. By convention, model\n",
    "\n",
    "\n",
    "model = RandomForestClassifier(n_jobs=-1, random_state=0)\n",
    "model.fit(X_train, y_train.values)\n",
    "prediction = model.predict(X_val)\n",
    "print('The accuracy of RF classifier is: ', accuracy_score(y_val, prediction))\n",
    "\n",
    "print(classification_report(y_val.values, prediction))\n",
    "cm = confusion_matrix(y_val.values, prediction)\n",
    "print(cm)\n",
    "\n",
    "\n",
    "TP = cm[0][0]\n",
    "FP = cm[0][1]\n",
    "FN = cm[1][0]\n",
    "TN = cm[1][1]\n",
    "\n",
    "\n",
    "print(\"Precision for Yes is :\", round(precision_recall(TP, FP, FN, TN, 'PY')*100,2), \"%\")\n",
    "print(\"Recall for Yes is :\", round(precision_recall(TP, FP, FN, TN, 'RY')*100,2), \"%\")\n",
    "print(\"Precision for No is :\", round(precision_recall(TP, FP, FN, TN, 'PN')*100,2), \"%\")\n",
    "print(\"Recall for No is :\", round(precision_recall(TP, FP, FN, TN, 'RN')*100,2), \"%\")\n",
    "\n",
    "print(\"The result is telling us that we have\", TP+TN, \"(\", round(((TP+TN)/val_len)*100,2),\"%)\", \"correct predictions and\", FP+FN ,  \"(\", round(((FP+FN)/val_len)*100,2),\"%)\", \"incorrect predictions.\")  \n",
    "\n",
    "\n"
   ]
  },
  {
   "cell_type": "markdown",
   "metadata": {},
   "source": [
    "## ** The f-score for random forest is 87% **"
   ]
  },
  {
   "cell_type": "markdown",
   "metadata": {},
   "source": [
    "### 4.d. SVM"
   ]
  },
  {
   "cell_type": "code",
   "execution_count": 47,
   "metadata": {},
   "outputs": [
    {
     "name": "stdout",
     "output_type": "stream",
     "text": [
      "The accuracy of the SVM is: 0.878475112369\n",
      "             precision    recall  f1-score   support\n",
      "\n",
      "          0       0.91      0.91      0.91     25128\n",
      "          1       0.80      0.81      0.80     10914\n",
      "\n",
      "avg / total       0.88      0.88      0.88     36042\n",
      "\n",
      "[[22873  2255]\n",
      " [ 2125  8789]]\n"
     ]
    }
   ],
   "source": [
    "model=svm.SVC() #probability=True,cache_size=7000\n",
    "model.fit(X_train,y_train) \n",
    "prediction=model.predict(X_val) \n",
    "print('The accuracy of the SVM is:',metrics.accuracy_score(y_val,prediction))\n",
    "\n",
    "\n",
    "print(classification_report(y_val, prediction))\n",
    "cm = confusion_matrix(y_val, prediction)\n",
    "print(cm)\n",
    "\n",
    "\n",
    "TP = cm[0][0]\n",
    "FP = cm[0][1]\n",
    "FN = cm[1][0]\n",
    "TN = cm[1][1]\n"
   ]
  },
  {
   "cell_type": "code",
   "execution_count": 35,
   "metadata": {},
   "outputs": [
    {
     "name": "stdout",
     "output_type": "stream",
     "text": [
      "Precision for Yes is : 91.21 %\n",
      "Recall for Yes is : 91.6 %\n",
      "Precision for No is : 80.78 %\n",
      "Recall for No is : 79.99 %\n",
      "The result is telling us that we have 31734 ( 88.05 %) correct predictions and 4308 ( 11.95 %) incorrect predictions.\n"
     ]
    }
   ],
   "source": [
    "print(\"Precision for Yes is :\", round(precision_recall(TP, FP, FN, TN, 'PY')*100,2), \"%\")\n",
    "print(\"Recall for Yes is :\", round(precision_recall(TP, FP, FN, TN, 'RY')*100,2), \"%\")\n",
    "print(\"Precision for No is :\", round(precision_recall(TP, FP, FN, TN, 'PN')*100,2), \"%\")\n",
    "print(\"Recall for No is :\", round(precision_recall(TP, FP, FN, TN, 'RN')*100,2), \"%\")\n",
    "\n",
    "print(\"The result is telling us that we have\", TP+TN, \"(\", round(((TP+TN)/val_len)*100,2),\"%)\", \"correct predictions and\", FP+FN ,  \"(\", round(((FP+FN)/val_len)*100,2),\"%)\", \"incorrect predictions.\") \n"
   ]
  },
  {
   "cell_type": "markdown",
   "metadata": {},
   "source": [
    "## The f-score for SVM is 88%"
   ]
  },
  {
   "cell_type": "markdown",
   "metadata": {},
   "source": [
    "### could not identify best params as code took too long to run, hence commenting this\n",
    "import time\n",
    "#import numpy as np\n",
    "from sklearn.ensemble import BaggingClassifier, RandomForestClassifier\n",
    "#from sklearn import datasets\n",
    "from sklearn.multiclass import OneVsRestClassifier\n",
    "from sklearn.svm import SVC\n",
    "\n",
    "\n",
    "start = time.time()\n",
    "clf = OneVsRestClassifier(SVC(kernel='linear', probability=True, cache_size = 7000))\n",
    "clf.fit(X_train, y_train)\n",
    "end = time.time()\n",
    "print(\"Single SVC\", end - start, clf.score(y_val, prediction))\n",
    "print(classification_report(y_val.values, prediction))\n",
    "sproba = clf.predict_proba(test_df)\n",
    "\n",
    "\n",
    "n_estimators = 10\n",
    "start = time.time()\n",
    "clf = OneVsRestClassifier(BaggingClassifier(SVC(kernel='linear', probability=True, cache_size = 7000), max_samples=1.0 / n_estimators, n_estimators=n_estimators))\n",
    "clf.fit(X_train, y_train)\n",
    "end = time.time()\n",
    "print(\"Bagging SVC\", end - start, clf.score(y_val, prediction))\n",
    "print(classification_report(y_val.values, prediction))\n",
    "bproba = clf.predict_proba(test_df)\n"
   ]
  },
  {
   "cell_type": "markdown",
   "metadata": {
    "collapsed": true
   },
   "source": [
    "# 5. Prediction"
   ]
  },
  {
   "cell_type": "markdown",
   "metadata": {},
   "source": [
    "## a. Best fit model"
   ]
  },
  {
   "cell_type": "markdown",
   "metadata": {},
   "source": [
    "Comparing the f-scores for each of these models, we find that **'Decision Tree' ** is the best fitting model with highest f-score of 90%, hence, we use the predicted values calculated for it."
   ]
  },
  {
   "cell_type": "code",
   "execution_count": 48,
   "metadata": {},
   "outputs": [
    {
     "name": "stdout",
     "output_type": "stream",
     "text": [
      "             precision    recall  f1-score   support\n",
      "\n",
      "          0       0.95      0.89      0.92     25128\n",
      "          1       0.78      0.89      0.83     10914\n",
      "\n",
      "avg / total       0.90      0.89      0.89     36042\n",
      "\n",
      "The confusion matrix is:\n",
      "[[22435  2693]\n",
      " [ 1230  9684]]\n",
      "Precision for Yes is : 89.28 %\n",
      "Recall for Yes is : 94.8 %\n",
      "Precision for No is : 88.73 %\n",
      "Recall for No is : 78.24 %\n",
      "The result is telling us that we have 32119 ( 89.12 %) correct predictions and 3923 ( 10.88 %) incorrect predictions.\n"
     ]
    }
   ],
   "source": [
    "parameters={'min_samples_split' : list(range(10,500,20)),'max_depth': list(range(1,20,2))}\n",
    "clf_t = DecisionTreeClassifier()\n",
    "clf = GridSearchCV(clf_t,parameters)\n",
    "clf.fit(X_train, y_train)\n",
    "prediction = clf.predict(X_val)\n",
    "\n",
    "print(classification_report(y_val.values, prediction))\n",
    "\n",
    "cm = confusion_matrix(y_val, prediction)\n",
    "print(\"The confusion matrix is:\")\n",
    "print(cm)\n",
    "\n",
    "\n",
    "TP = cm[0][0]\n",
    "FP = cm[0][1]\n",
    "FN = cm[1][0]\n",
    "TN = cm[1][1]\n",
    "\n",
    "\n",
    "print(\"Precision for Yes is :\", round(precision_recall(TP, FP, FN, TN, 'PY')*100,2), \"%\")\n",
    "print(\"Recall for Yes is :\", round(precision_recall(TP, FP, FN, TN, 'RY')*100,2), \"%\")\n",
    "print(\"Precision for No is :\", round(precision_recall(TP, FP, FN, TN, 'PN')*100,2), \"%\")\n",
    "print(\"Recall for No is :\", round(precision_recall(TP, FP, FN, TN, 'RN')*100,2), \"%\")\n",
    "\n",
    "print(\"The result is telling us that we have\", TP+TN, \"(\", round(((TP+TN)/val_len)*100,2),\"%)\", \"correct predictions and\", FP+FN ,  \"(\", round(((FP+FN)/val_len)*100,2),\"%)\", \"incorrect predictions.\")  \n",
    "\n"
   ]
  },
  {
   "cell_type": "code",
   "execution_count": 49,
   "metadata": {},
   "outputs": [
    {
     "name": "stdout",
     "output_type": "stream",
     "text": [
      "Before    patient_id       Age  Gender  Prescription_period  Diabetes  Alcoholism  \\\n",
      "0           1  0.044248     0.0             0.226891       0.0         0.0   \n",
      "1           2  0.548673     1.0             0.067227       1.0         0.0   \n",
      "2           3  0.035398     1.0             0.605042       0.0         0.0   \n",
      "3           4  0.292035     0.0             0.974790       0.0         0.0   \n",
      "4           5  0.336283     0.0             0.058824       0.0         0.0   \n",
      "\n",
      "   HyperTension  Smokes  Tuberculosis  Sms_Reminder  \n",
      "0           0.0     0.0           0.0           0.5  \n",
      "1           1.0     0.0           0.0           0.0  \n",
      "2           0.0     0.0           0.0           0.5  \n",
      "3           0.0     0.0           0.0           0.0  \n",
      "4           0.0     0.0           0.0           0.5  \n",
      "After:    patient_id       Age  Gender  Prescription_period  Diabetes  Alcoholism  \\\n",
      "0           1  0.044248     0.0             0.226891       0.0         0.0   \n",
      "1           2  0.548673     1.0             0.067227       1.0         0.0   \n",
      "2           3  0.035398     1.0             0.605042       0.0         0.0   \n",
      "3           4  0.292035     0.0             0.974790       0.0         0.0   \n",
      "4           5  0.336283     0.0             0.058824       0.0         0.0   \n",
      "\n",
      "   HyperTension  Smokes  Tuberculosis  Sms_Reminder  t_predicted  probability  \n",
      "0           0.0     0.0           0.0           0.5            1     0.811887  \n",
      "1           1.0     0.0           0.0           0.0            1     0.763921  \n",
      "2           0.0     0.0           0.0           0.5            0     0.051298  \n",
      "3           0.0     0.0           0.0           0.0            0     0.060242  \n",
      "4           0.0     0.0           0.0           0.5            1     0.836200  \n",
      "t_predicted\n",
      "0    78539\n",
      "1    41249\n",
      "dtype: int64 Adhered are: 34.44 %\n"
     ]
    }
   ],
   "source": [
    "print(\"Before\",test_data.head())\n",
    "#test_data.drop(test_data[['t_predicted','probability']], axis=1, inplace=True)\n",
    "prediction = clf.predict(test_df)\n",
    "test_data['t_predicted'] = prediction\n",
    "#test_data.head()\n",
    "probability = clf.predict_proba(test_df)[:,1]\n",
    "test_data['probability'] = probability\n",
    "print(\"After:\", test_data.head())\n",
    "\n",
    "test_len = len(test_data)\n",
    "print(test_data.groupby('t_predicted').size(), \"Adhered are:\", round((len(test_data[test_data['t_predicted'] == 1])/test_len)*100,2),\"%\" )   \n"
   ]
  },
  {
   "cell_type": "code",
   "execution_count": 50,
   "metadata": {},
   "outputs": [
    {
     "data": {
      "text/html": [
       "<div>\n",
       "<table border=\"1\" class=\"dataframe\">\n",
       "  <thead>\n",
       "    <tr style=\"text-align: right;\">\n",
       "      <th></th>\n",
       "      <th>patient_id</th>\n",
       "      <th>adherence</th>\n",
       "      <th>probability_score</th>\n",
       "    </tr>\n",
       "  </thead>\n",
       "  <tbody>\n",
       "    <tr>\n",
       "      <th>0</th>\n",
       "      <td>1</td>\n",
       "      <td>1</td>\n",
       "      <td>0.811887</td>\n",
       "    </tr>\n",
       "    <tr>\n",
       "      <th>1</th>\n",
       "      <td>2</td>\n",
       "      <td>1</td>\n",
       "      <td>0.763921</td>\n",
       "    </tr>\n",
       "    <tr>\n",
       "      <th>2</th>\n",
       "      <td>3</td>\n",
       "      <td>0</td>\n",
       "      <td>0.051298</td>\n",
       "    </tr>\n",
       "    <tr>\n",
       "      <th>3</th>\n",
       "      <td>4</td>\n",
       "      <td>0</td>\n",
       "      <td>0.060242</td>\n",
       "    </tr>\n",
       "    <tr>\n",
       "      <th>4</th>\n",
       "      <td>5</td>\n",
       "      <td>1</td>\n",
       "      <td>0.836200</td>\n",
       "    </tr>\n",
       "  </tbody>\n",
       "</table>\n",
       "</div>"
      ],
      "text/plain": [
       "   patient_id  adherence  probability_score\n",
       "0           1          1           0.811887\n",
       "1           2          1           0.763921\n",
       "2           3          0           0.051298\n",
       "3           4          0           0.060242\n",
       "4           5          1           0.836200"
      ]
     },
     "execution_count": 50,
     "metadata": {},
     "output_type": "execute_result"
    }
   ],
   "source": [
    "prediction_output = test_data[['patient_id','t_predicted','probability']]\n",
    "prediction_output = prediction_output.rename(columns={'t_predicted':'adherence', 'probability':'probability_score'})\n",
    "prediction_output.head()"
   ]
  },
  {
   "cell_type": "markdown",
   "metadata": {},
   "source": [
    "## b. Output"
   ]
  },
  {
   "cell_type": "code",
   "execution_count": 51,
   "metadata": {
    "collapsed": true
   },
   "outputs": [],
   "source": [
    "prediction_output.to_csv('prediction_output.csv', sep=',')"
   ]
  },
  {
   "cell_type": "code",
   "execution_count": null,
   "metadata": {
    "collapsed": true
   },
   "outputs": [],
   "source": []
  }
 ],
 "metadata": {
  "kernelspec": {
   "display_name": "Python 3",
   "language": "python",
   "name": "python3"
  },
  "language_info": {
   "codemirror_mode": {
    "name": "ipython",
    "version": 3
   },
   "file_extension": ".py",
   "mimetype": "text/x-python",
   "name": "python",
   "nbconvert_exporter": "python",
   "pygments_lexer": "ipython3",
   "version": "3.6.4"
  }
 },
 "nbformat": 4,
 "nbformat_minor": 2
}
