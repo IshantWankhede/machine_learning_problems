{
 "cells": [
  {
   "cell_type": "markdown",
   "metadata": {},
   "source": [
    "# Medication Compliance Forecasting \n",
    "\n",
    "### Objective \n",
    "Predict patient’s likelihood of adherence to a prescribed regimen. For that,information is provided both for patient and the prescription. Patient information include details like age, gender, medical history, cultural background etc. Details about the prescription are like Diet control advised, Exercise advised etc.\n",
    "\n",
    "To build a predictive model, with the provided a data set that contains details about patient and the prescription.\n",
    "\n",
    "\n",
    "### Evaluation \n",
    "For each patient id in test set, you must predict if a patient is going to adhere to the prescribed regimen. Your model will be evaluated on precision and recall for both the outcomes. So, your code must include generation of confusion matrix for your predictions."
   ]
  },
  {
   "cell_type": "markdown",
   "metadata": {},
   "source": [
    "# Setup\n",
    "Setting up project directory and output paths, for data and model."
   ]
  },
  {
   "cell_type": "markdown",
   "metadata": {},
   "source": [
    "### Step 1 : Standard Imports"
   ]
  },
  {
   "cell_type": "code",
   "execution_count": 122,
   "metadata": {},
   "outputs": [],
   "source": [
    "#Common imports\n",
    "import numpy as np\n",
    "import pandas as pd\n",
    "import os\n",
    "import sys\n",
    "\n",
    "#To make outputs more consistent\n",
    "np.random.seed(42)\n",
    "\n",
    "#To Save & Load Models\n",
    "import pickle\n",
    "\n",
    "#To plot figures\n",
    "%matplotlib inline\n",
    "import matplotlib\n",
    "import matplotlib.pyplot as plt\n",
    "\n",
    "import seaborn as sns\n",
    "sns.set(style = \"whitegrid\", color_codes = True)\n",
    "\n",
    "pt.rcParams['axes.labelsize'] = 14\n",
    "pt.rcParams['xtick.labelsize'] = 12\n",
    "pt.rcParams['ytick.labelsize'] = 12\n",
    "\n",
    "# Preprocessing imports\n",
    "\n",
    "from sklearn.pipeline import Pipeline\n",
    "from sklearn.compose import ColumnTransformer\n",
    "from sklearn.preprocessing import StandardScaler\n",
    "from sklearn.preprocessing import OneHotEncoder\n",
    "from sklearn.preprocessing import OrdinalEncoder\n",
    "from sklearn.impute import SimpleImputer\n",
    "from sklearn.model_selection import StratifiedShuffleSplit\n",
    "\n",
    "# Models Imports\n",
    "from sklearn.linear_model import LogisticRegression\n",
    "\n",
    "\n",
    "from sklearn.metrics import confusion_matrix\n",
    "from sklearn.model_selection import cross_val_predict\n",
    "from sklearn.metrics import precision_score, recall_score,f1_score\n",
    "from sklearn.metrics import classification_report\n",
    "\n",
    "\n",
    "\n",
    "\n",
    "#Folder Directory Structure\n",
    "PROJECT_ROOT_DIR ='.'\n",
    "PROJECT_DATA_DIR = './data'\n",
    "PROJECT_FOLDER = 'medical_compliance_forecasting'\n",
    "PROJECT_ID=PROJECT_FOLDER\n",
    "PROJECT_OUTPUT_PATH = os.path.join(PROJECT_ROOT_DIR,'model',PROJECT_ID)\n",
    "TRAINING_DATA =  os.path.join(PROJECT_DATA_DIR,PROJECT_FOLDER,'Training Data.csv')\n",
    "TEST_DATA =  os.path.join(PROJECT_DATA_DIR,PROJECT_FOLDER,'Test Data.csv')"
   ]
  },
  {
   "cell_type": "markdown",
   "metadata": {},
   "source": [
    "### Step 2 : Utility Functions"
   ]
  },
  {
   "cell_type": "code",
   "execution_count": 133,
   "metadata": {},
   "outputs": [],
   "source": [
    "def save_fig(fig_id,tight_layout=True,fig_extension='png',resolution=300):\n",
    "    if not os.path.exists(IMAGES_PATH):\n",
    "        os.makedirs(PROJECT_OUTPUT_PATH)\n",
    "    path = os.path.join(PROJECT_OUTPUT_PATH,fig_id + '.' + fig_extension)\n",
    "    print(\"Saving Figure : {}\".format(fig_id))\n",
    "    if tight_layout:\n",
    "        plt.tight_layout()\n",
    "    plt.savefig(path,format=fig_extension,dpi=resolution)\n",
    "\n",
    "def save_model(model,model_name):\n",
    "    model_file = os.path.join(PROJECT_OUTPUT_PATH,model_name+'.pkl')\n",
    "    with open(model_file, 'wb') as f:\n",
    "        pickle.dump(model, f)\n",
    "    \n",
    "def load_model(model,model_name):\n",
    "    model_file = os.path.join(PROJECT_OUTPUT_PATH,model_name+'.pkl')\n",
    "    with open(model_file, 'rb') as f:\n",
    "        model = pickle.load(f)\n",
    "    return model\n",
    "\n",
    "def load_data(path=TRAINING_DATA):\n",
    "    data_file = os.path.join(path)\n",
    "    return pd.read_csv(data_file)\n",
    "\n",
    "# Used to See Correleation in Data against a selected Feature\n",
    "def get_correlation(corr_matrix,data,feature):\n",
    "    return corr_matrix[feature].sort_values(ascending=False)\n",
    "\n",
    "# To compute & display Precision,Recall & F1 Score\n",
    "\n",
    "def compute_scores(y_label,y_predicted):\n",
    "    confusion_matrix(y_label, y_predicted)\n",
    "    plot_confusion_matrix(cnf_matrix)\n",
    "    #precision_score(y_label, y_train_pred)\n",
    "    #recall_score(y_label, y_train_pred)\n",
    "    #f1_score(y_label, y_train_pred)\n",
    "    print(classification_report(y_label, y_predicted))\n",
    "    \n",
    "def plot_confusion_matrix(cnf_matrix):\n",
    "    plt.clf()\n",
    "    plt.imshow(cnf_matrix, interpolation='nearest', cmap=plt.cm.Wistia)\n",
    "    classNames = ['Negative','Positive']\n",
    "    plt.title('Confusion Matrix for Medical Compliance')\n",
    "    plt.ylabel('True label')\n",
    "    plt.xlabel('Predicted label')\n",
    "    tick_marks = np.arange(len(classNames))\n",
    "    plt.xticks(tick_marks, classNames, rotation=45)\n",
    "    plt.yticks(tick_marks, classNames)\n",
    "    s = [['TN','FP'], ['FN', 'TP']]\n",
    "    for i in range(2):\n",
    "        for j in range(2):\n",
    "            plt.text(j,i, str(s[i][j])+\" = \"+str(cnf_matrix[i][j]))\n",
    "    plt.show()"
   ]
  },
  {
   "cell_type": "markdown",
   "metadata": {},
   "source": [
    "### Step 3 \n",
    "Since we already have different Training & Test sets, we don't neeed to create any splits. Hence, directly loading the data\n"
   ]
  },
  {
   "cell_type": "code",
   "execution_count": 25,
   "metadata": {},
   "outputs": [],
   "source": [
    "dataset =  load_data(path=TRAINING_DATA)\n",
    "test_set = load_data(path=TEST_DATA)"
   ]
  },
  {
   "cell_type": "markdown",
   "metadata": {},
   "source": [
    "### Step 4 : Exploratory Data Analysis"
   ]
  },
  {
   "cell_type": "code",
   "execution_count": 4,
   "metadata": {},
   "outputs": [
    {
     "data": {
      "text/html": [
       "<div>\n",
       "<style scoped>\n",
       "    .dataframe tbody tr th:only-of-type {\n",
       "        vertical-align: middle;\n",
       "    }\n",
       "\n",
       "    .dataframe tbody tr th {\n",
       "        vertical-align: top;\n",
       "    }\n",
       "\n",
       "    .dataframe thead th {\n",
       "        text-align: right;\n",
       "    }\n",
       "</style>\n",
       "<table border=\"1\" class=\"dataframe\">\n",
       "  <thead>\n",
       "    <tr style=\"text-align: right;\">\n",
       "      <th></th>\n",
       "      <th>patient_id</th>\n",
       "      <th>Age</th>\n",
       "      <th>Gender</th>\n",
       "      <th>Prescription_period</th>\n",
       "      <th>Diabetes</th>\n",
       "      <th>Alcoholism</th>\n",
       "      <th>HyperTension</th>\n",
       "      <th>Smokes</th>\n",
       "      <th>Tuberculosis</th>\n",
       "      <th>Sms_Reminder</th>\n",
       "      <th>Adherence</th>\n",
       "    </tr>\n",
       "  </thead>\n",
       "  <tbody>\n",
       "    <tr>\n",
       "      <th>0</th>\n",
       "      <td>1</td>\n",
       "      <td>19</td>\n",
       "      <td>M</td>\n",
       "      <td>7</td>\n",
       "      <td>0</td>\n",
       "      <td>0</td>\n",
       "      <td>0</td>\n",
       "      <td>0</td>\n",
       "      <td>0</td>\n",
       "      <td>0</td>\n",
       "      <td>No</td>\n",
       "    </tr>\n",
       "    <tr>\n",
       "      <th>1</th>\n",
       "      <td>2</td>\n",
       "      <td>24</td>\n",
       "      <td>F</td>\n",
       "      <td>59</td>\n",
       "      <td>0</td>\n",
       "      <td>0</td>\n",
       "      <td>0</td>\n",
       "      <td>0</td>\n",
       "      <td>0</td>\n",
       "      <td>0</td>\n",
       "      <td>No</td>\n",
       "    </tr>\n",
       "  </tbody>\n",
       "</table>\n",
       "</div>"
      ],
      "text/plain": [
       "   patient_id  Age Gender  Prescription_period  Diabetes  Alcoholism  \\\n",
       "0           1   19      M                    7         0           0   \n",
       "1           2   24      F                   59         0           0   \n",
       "\n",
       "   HyperTension  Smokes  Tuberculosis  Sms_Reminder Adherence  \n",
       "0             0       0             0             0        No  \n",
       "1             0       0             0             0        No  "
      ]
     },
     "execution_count": 4,
     "metadata": {},
     "output_type": "execute_result"
    }
   ],
   "source": [
    "# View Train Data\n",
    "dataset.head(2)"
   ]
  },
  {
   "cell_type": "code",
   "execution_count": 5,
   "metadata": {},
   "outputs": [
    {
     "data": {
      "text/html": [
       "<div>\n",
       "<style scoped>\n",
       "    .dataframe tbody tr th:only-of-type {\n",
       "        vertical-align: middle;\n",
       "    }\n",
       "\n",
       "    .dataframe tbody tr th {\n",
       "        vertical-align: top;\n",
       "    }\n",
       "\n",
       "    .dataframe thead th {\n",
       "        text-align: right;\n",
       "    }\n",
       "</style>\n",
       "<table border=\"1\" class=\"dataframe\">\n",
       "  <thead>\n",
       "    <tr style=\"text-align: right;\">\n",
       "      <th></th>\n",
       "      <th>patient_id</th>\n",
       "      <th>Age</th>\n",
       "      <th>Gender</th>\n",
       "      <th>Prescription_period</th>\n",
       "      <th>Diabetes</th>\n",
       "      <th>Alcoholism</th>\n",
       "      <th>HyperTension</th>\n",
       "      <th>Smokes</th>\n",
       "      <th>Tuberculosis</th>\n",
       "      <th>Sms_Reminder</th>\n",
       "      <th>Adherence</th>\n",
       "    </tr>\n",
       "  </thead>\n",
       "  <tbody>\n",
       "    <tr>\n",
       "      <th>0</th>\n",
       "      <td>1</td>\n",
       "      <td>19</td>\n",
       "      <td>M</td>\n",
       "      <td>7</td>\n",
       "      <td>0</td>\n",
       "      <td>0</td>\n",
       "      <td>0</td>\n",
       "      <td>0</td>\n",
       "      <td>0</td>\n",
       "      <td>0</td>\n",
       "      <td>No</td>\n",
       "    </tr>\n",
       "    <tr>\n",
       "      <th>1</th>\n",
       "      <td>2</td>\n",
       "      <td>24</td>\n",
       "      <td>F</td>\n",
       "      <td>59</td>\n",
       "      <td>0</td>\n",
       "      <td>0</td>\n",
       "      <td>0</td>\n",
       "      <td>0</td>\n",
       "      <td>0</td>\n",
       "      <td>0</td>\n",
       "      <td>No</td>\n",
       "    </tr>\n",
       "  </tbody>\n",
       "</table>\n",
       "</div>"
      ],
      "text/plain": [
       "   patient_id  Age Gender  Prescription_period  Diabetes  Alcoholism  \\\n",
       "0           1   19      M                    7         0           0   \n",
       "1           2   24      F                   59         0           0   \n",
       "\n",
       "   HyperTension  Smokes  Tuberculosis  Sms_Reminder Adherence  \n",
       "0             0       0             0             0        No  \n",
       "1             0       0             0             0        No  "
      ]
     },
     "execution_count": 5,
     "metadata": {},
     "output_type": "execute_result"
    }
   ],
   "source": [
    "# View Test Data\n",
    "dataset.head(2)"
   ]
  },
  {
   "cell_type": "code",
   "execution_count": 6,
   "metadata": {},
   "outputs": [
    {
     "name": "stdout",
     "output_type": "stream",
     "text": [
      "<class 'pandas.core.frame.DataFrame'>\n",
      "RangeIndex: 180212 entries, 0 to 180211\n",
      "Data columns (total 11 columns):\n",
      "patient_id             180212 non-null int64\n",
      "Age                    180212 non-null int64\n",
      "Gender                 180212 non-null object\n",
      "Prescription_period    180212 non-null int64\n",
      "Diabetes               180212 non-null int64\n",
      "Alcoholism             180212 non-null int64\n",
      "HyperTension           180212 non-null int64\n",
      "Smokes                 180212 non-null int64\n",
      "Tuberculosis           180212 non-null int64\n",
      "Sms_Reminder           180212 non-null int64\n",
      "Adherence              180212 non-null object\n",
      "dtypes: int64(9), object(2)\n",
      "memory usage: 15.1+ MB\n"
     ]
    }
   ],
   "source": [
    "# Checking all description of the columns for their Data-types, counts & Nulls\n",
    "dataset.info()"
   ]
  },
  {
   "cell_type": "code",
   "execution_count": 7,
   "metadata": {},
   "outputs": [
    {
     "data": {
      "text/html": [
       "<div>\n",
       "<style scoped>\n",
       "    .dataframe tbody tr th:only-of-type {\n",
       "        vertical-align: middle;\n",
       "    }\n",
       "\n",
       "    .dataframe tbody tr th {\n",
       "        vertical-align: top;\n",
       "    }\n",
       "\n",
       "    .dataframe thead th {\n",
       "        text-align: right;\n",
       "    }\n",
       "</style>\n",
       "<table border=\"1\" class=\"dataframe\">\n",
       "  <thead>\n",
       "    <tr style=\"text-align: right;\">\n",
       "      <th></th>\n",
       "      <th>Age</th>\n",
       "      <th>Prescription_period</th>\n",
       "    </tr>\n",
       "  </thead>\n",
       "  <tbody>\n",
       "    <tr>\n",
       "      <th>count</th>\n",
       "      <td>180212.000000</td>\n",
       "      <td>180212.000000</td>\n",
       "    </tr>\n",
       "    <tr>\n",
       "      <th>mean</th>\n",
       "      <td>37.795363</td>\n",
       "      <td>54.668485</td>\n",
       "    </tr>\n",
       "    <tr>\n",
       "      <th>std</th>\n",
       "      <td>22.852072</td>\n",
       "      <td>35.752491</td>\n",
       "    </tr>\n",
       "    <tr>\n",
       "      <th>min</th>\n",
       "      <td>0.000000</td>\n",
       "      <td>1.000000</td>\n",
       "    </tr>\n",
       "    <tr>\n",
       "      <th>25%</th>\n",
       "      <td>19.000000</td>\n",
       "      <td>22.000000</td>\n",
       "    </tr>\n",
       "    <tr>\n",
       "      <th>50%</th>\n",
       "      <td>38.000000</td>\n",
       "      <td>51.000000</td>\n",
       "    </tr>\n",
       "    <tr>\n",
       "      <th>75%</th>\n",
       "      <td>56.000000</td>\n",
       "      <td>86.000000</td>\n",
       "    </tr>\n",
       "    <tr>\n",
       "      <th>max</th>\n",
       "      <td>113.000000</td>\n",
       "      <td>120.000000</td>\n",
       "    </tr>\n",
       "  </tbody>\n",
       "</table>\n",
       "</div>"
      ],
      "text/plain": [
       "                 Age  Prescription_period\n",
       "count  180212.000000        180212.000000\n",
       "mean       37.795363            54.668485\n",
       "std        22.852072            35.752491\n",
       "min         0.000000             1.000000\n",
       "25%        19.000000            22.000000\n",
       "50%        38.000000            51.000000\n",
       "75%        56.000000            86.000000\n",
       "max       113.000000           120.000000"
      ]
     },
     "execution_count": 7,
     "metadata": {},
     "output_type": "execute_result"
    }
   ],
   "source": [
    "#Let's see the distribution and attributes of the Age & Prescription Period which have a range of values\n",
    "dataset[['Age','Prescription_period']].describe()"
   ]
  },
  {
   "cell_type": "code",
   "execution_count": 8,
   "metadata": {},
   "outputs": [
    {
     "name": "stdout",
     "output_type": "stream",
     "text": [
      "Gender Distribution - \n",
      "F    120438\n",
      "M     59774\n",
      "Name: Gender, dtype: int64\n",
      "\n",
      "Adherence Distribution - \n",
      "No     125822\n",
      "Yes     54390\n",
      "Name: Adherence, dtype: int64\n"
     ]
    }
   ],
   "source": [
    "# Since we see Objects types / Categorical Values, let's see the count\n",
    "print(\"Gender Distribution - \")\n",
    "print(dataset['Gender'].value_counts())\n",
    "print()\n",
    "print(\"Adherence Distribution - \")\n",
    "print(dataset['Adherence'].value_counts())"
   ]
  },
  {
   "cell_type": "markdown",
   "metadata": {},
   "source": [
    "#### Inference 1 -\n",
    "\n",
    "1. We can see the data has no null/missing values.\n",
    "2. We see that Gender & Adherence are categorical values\n",
    "3. We can also see that \"F\"emale patients data is more than \"M\"ale. Though the data is not imbalanced.\n",
    "4. We can also see that Adherence is dominated by \"N\"o but is not imbalanced.\n",
    "5. Since we have categorical values, we need to convert them.\n",
    "6. Since our data does not have any missing value, we don't require any imputer for filling nulls."
   ]
  },
  {
   "cell_type": "code",
   "execution_count": 9,
   "metadata": {},
   "outputs": [
    {
     "name": "stdout",
     "output_type": "stream",
     "text": [
      "Numerical Categories in Source Data : ['patient_id', 'Age', 'Prescription_period', 'Diabetes', 'Alcoholism', 'HyperTension', 'Smokes', 'Tuberculosis', 'Sms_Reminder']\n",
      "Categorical Categories in Source Data : ['Gender', 'Adherence']\n"
     ]
    }
   ],
   "source": [
    "# Defining Numerical & Categorical Categories\n",
    "num_attribs = list(dataset.drop(['Gender','Adherence'], axis=1))\n",
    "cat_attribs = ['Gender','Adherence']\n",
    "\n",
    "print(\"Numerical Categories in Source Data : {}\".format(num_attribs))\n",
    "print(\"Categorical Categories in Source Data : {}\".format(cat_attribs))"
   ]
  },
  {
   "cell_type": "code",
   "execution_count": 26,
   "metadata": {},
   "outputs": [],
   "source": [
    "# Creating Encoder for Categorical Values\n",
    "ordinal_encoder = OrdinalEncoder()\n",
    "gender = ordinal_encoder.fit_transform(dataset[['Gender']])\n",
    "adherence = ordinal_encoder.fit_transform(dataset[['Adherence']])\n",
    "\n",
    "#Creating a copy of the Orginial Dataset to update the values for Further analysis\n",
    "dataset_numerical = dataset.copy()\n",
    "dataset_numerical['Gender'] = gender\n",
    "dataset_numerical['Adherence'] = adherence\n"
   ]
  },
  {
   "cell_type": "code",
   "execution_count": 28,
   "metadata": {},
   "outputs": [
    {
     "data": {
      "text/html": [
       "<div>\n",
       "<style scoped>\n",
       "    .dataframe tbody tr th:only-of-type {\n",
       "        vertical-align: middle;\n",
       "    }\n",
       "\n",
       "    .dataframe tbody tr th {\n",
       "        vertical-align: top;\n",
       "    }\n",
       "\n",
       "    .dataframe thead th {\n",
       "        text-align: right;\n",
       "    }\n",
       "</style>\n",
       "<table border=\"1\" class=\"dataframe\">\n",
       "  <thead>\n",
       "    <tr style=\"text-align: right;\">\n",
       "      <th></th>\n",
       "      <th>patient_id</th>\n",
       "      <th>Age</th>\n",
       "      <th>Gender</th>\n",
       "      <th>Prescription_period</th>\n",
       "      <th>Diabetes</th>\n",
       "      <th>Alcoholism</th>\n",
       "      <th>HyperTension</th>\n",
       "      <th>Smokes</th>\n",
       "      <th>Tuberculosis</th>\n",
       "      <th>Sms_Reminder</th>\n",
       "      <th>Adherence</th>\n",
       "    </tr>\n",
       "  </thead>\n",
       "  <tbody>\n",
       "    <tr>\n",
       "      <th>0</th>\n",
       "      <td>1</td>\n",
       "      <td>19</td>\n",
       "      <td>1.0</td>\n",
       "      <td>7</td>\n",
       "      <td>0</td>\n",
       "      <td>0</td>\n",
       "      <td>0</td>\n",
       "      <td>0</td>\n",
       "      <td>0</td>\n",
       "      <td>0</td>\n",
       "      <td>0.0</td>\n",
       "    </tr>\n",
       "    <tr>\n",
       "      <th>1</th>\n",
       "      <td>2</td>\n",
       "      <td>24</td>\n",
       "      <td>0.0</td>\n",
       "      <td>59</td>\n",
       "      <td>0</td>\n",
       "      <td>0</td>\n",
       "      <td>0</td>\n",
       "      <td>0</td>\n",
       "      <td>0</td>\n",
       "      <td>0</td>\n",
       "      <td>0.0</td>\n",
       "    </tr>\n",
       "    <tr>\n",
       "      <th>2</th>\n",
       "      <td>3</td>\n",
       "      <td>4</td>\n",
       "      <td>0.0</td>\n",
       "      <td>43</td>\n",
       "      <td>0</td>\n",
       "      <td>0</td>\n",
       "      <td>0</td>\n",
       "      <td>0</td>\n",
       "      <td>0</td>\n",
       "      <td>0</td>\n",
       "      <td>0.0</td>\n",
       "    </tr>\n",
       "    <tr>\n",
       "      <th>3</th>\n",
       "      <td>4</td>\n",
       "      <td>38</td>\n",
       "      <td>1.0</td>\n",
       "      <td>66</td>\n",
       "      <td>0</td>\n",
       "      <td>0</td>\n",
       "      <td>0</td>\n",
       "      <td>0</td>\n",
       "      <td>0</td>\n",
       "      <td>1</td>\n",
       "      <td>0.0</td>\n",
       "    </tr>\n",
       "    <tr>\n",
       "      <th>4</th>\n",
       "      <td>5</td>\n",
       "      <td>46</td>\n",
       "      <td>0.0</td>\n",
       "      <td>98</td>\n",
       "      <td>0</td>\n",
       "      <td>0</td>\n",
       "      <td>0</td>\n",
       "      <td>0</td>\n",
       "      <td>0</td>\n",
       "      <td>1</td>\n",
       "      <td>0.0</td>\n",
       "    </tr>\n",
       "  </tbody>\n",
       "</table>\n",
       "</div>"
      ],
      "text/plain": [
       "   patient_id  Age  Gender  Prescription_period  Diabetes  Alcoholism  \\\n",
       "0           1   19     1.0                    7         0           0   \n",
       "1           2   24     0.0                   59         0           0   \n",
       "2           3    4     0.0                   43         0           0   \n",
       "3           4   38     1.0                   66         0           0   \n",
       "4           5   46     0.0                   98         0           0   \n",
       "\n",
       "   HyperTension  Smokes  Tuberculosis  Sms_Reminder  Adherence  \n",
       "0             0       0             0             0        0.0  \n",
       "1             0       0             0             0        0.0  \n",
       "2             0       0             0             0        0.0  \n",
       "3             0       0             0             1        0.0  \n",
       "4             0       0             0             1        0.0  "
      ]
     },
     "execution_count": 28,
     "metadata": {},
     "output_type": "execute_result"
    }
   ],
   "source": [
    "dataset_numerical.head()"
   ]
  },
  {
   "cell_type": "code",
   "execution_count": 10,
   "metadata": {},
   "outputs": [
    {
     "name": "stderr",
     "output_type": "stream",
     "text": [
      "c:\\users\\amit.agarwal\\appdata\\local\\programs\\python\\python36\\lib\\site-packages\\sklearn\\preprocessing\\data.py:625: DataConversionWarning: Data with input dtype int64 were all converted to float64 by StandardScaler.\n",
      "  return self.partial_fit(X, y)\n",
      "c:\\users\\amit.agarwal\\appdata\\local\\programs\\python\\python36\\lib\\site-packages\\sklearn\\base.py:462: DataConversionWarning: Data with input dtype int64 were all converted to float64 by StandardScaler.\n",
      "  return self.fit(X, **fit_params).transform(X)\n"
     ]
    }
   ],
   "source": [
    "full_pipeline = ColumnTransformer([\n",
    "        (\"num\", StandardScaler(), num_attribs),\n",
    "        (\"cat\", OneHotEncoder(), cat_attribs),\n",
    "    ])\n",
    "\n",
    "data_prepared = full_pipeline.fit_transform(dataset)"
   ]
  },
  {
   "cell_type": "code",
   "execution_count": 37,
   "metadata": {},
   "outputs": [
    {
     "data": {
      "image/png": "[encoded data removed]",
      "text/plain": [
       "<matplotlib.figure.Figure at 0x3bb3d30b8>"
      ]
     },
     "metadata": {},
     "output_type": "display_data"
    }
   ],
   "source": [
    "#We can see the graphical distribution too as follows \n",
    "#Vertical Axis has number of instances\n",
    "#Horizontal Axis has values of the attributes\n",
    "dataset_numerical.hist(bins=50,figsize=(20,15))\n",
    "plt.show()"
   ]
  },
  {
   "cell_type": "code",
   "execution_count": 38,
   "metadata": {},
   "outputs": [
    {
     "data": {
      "text/plain": [
       "<matplotlib.axes._subplots.AxesSubplot at 0x3bff8cf98>"
      ]
     },
     "execution_count": 38,
     "metadata": {},
     "output_type": "execute_result"
    },
    {
     "data": {
      "image/png": "[encoded data removed]",
      "text/plain": [
       "<matplotlib.figure.Figure at 0x3c03b83c8>"
      ]
     },
     "metadata": {},
     "output_type": "display_data"
    }
   ],
   "source": [
    "## We also see the correlation between features -\n",
    "sns.heatmap(dataset_numerical.corr())"
   ]
  },
  {
   "cell_type": "code",
   "execution_count": 34,
   "metadata": {},
   "outputs": [
    {
     "data": {
      "text/plain": [
       "Adherence              1.000000\n",
       "Alcoholism             0.024982\n",
       "Smokes                 0.023993\n",
       "Gender                 0.010232\n",
       "Tuberculosis           0.002359\n",
       "patient_id            -0.002155\n",
       "Sms_Reminder          -0.002519\n",
       "Diabetes              -0.031004\n",
       "HyperTension          -0.061314\n",
       "Age                   -0.100818\n",
       "Prescription_period   -0.612656\n",
       "Name: Adherence, dtype: float64"
      ]
     },
     "execution_count": 34,
     "metadata": {},
     "output_type": "execute_result"
    }
   ],
   "source": [
    "get_correlation(dataset_numerical.corr(),dataset_numerical,'Adherence')"
   ]
  },
  {
   "cell_type": "markdown",
   "metadata": {},
   "source": [
    "#### Inference 2\n",
    "\n",
    "1. From the histogram distribution we can infer that all the fields have binary values.\n",
    "2. The Ordinal Encoder is able to encode the Categorical Categories\n",
    "3. The Correlation Heat-map shoes some features being related to each other.\n",
    "4. The correlation with the target field, 'Adherence' shows that Prescription_period & Age highly affect the compliance to the prescription."
   ]
  },
  {
   "cell_type": "markdown",
   "metadata": {},
   "source": [
    "### Step 5 : Data Pre-processing\n",
    "\n",
    "Since we can see that \"Prescription_period\" affect the target inversely, it is important for us to have a equal distribution of it , in the training & test dataset. Hence, we would go for a StratifiedShuffleSplit.\n",
    "\n",
    "Steps to be followed - \n",
    "\n",
    "1. Pipeline to process input data for training.\n",
    "2. Create Training-Test Split"
   ]
  },
  {
   "cell_type": "code",
   "execution_count": 40,
   "metadata": {},
   "outputs": [
    {
     "data": {
      "text/plain": [
       "<matplotlib.axes._subplots.AxesSubplot at 0x3c02abda0>"
      ]
     },
     "execution_count": 40,
     "metadata": {},
     "output_type": "execute_result"
    },
    {
     "data": {
      "image/png": "[encoded data removed]",
      "text/plain": [
       "<matplotlib.figure.Figure at 0x3bb4f91d0>"
      ]
     },
     "metadata": {},
     "output_type": "display_data"
    }
   ],
   "source": [
    "dataset[\"Prescription_period\"].hist()"
   ]
  },
  {
   "cell_type": "code",
   "execution_count": 43,
   "metadata": {},
   "outputs": [],
   "source": [
    "split = StratifiedShuffleSplit(n_splits=1, test_size=0.2, random_state=42)\n",
    "for train_index, test_index in split.split(dataset, dataset[\"Prescription_period\"]):\n",
    "    strat_train_set = dataset.loc[train_index]\n",
    "    strat_test_set = dataset.loc[test_index]"
   ]
  },
  {
   "cell_type": "code",
   "execution_count": 54,
   "metadata": {},
   "outputs": [
    {
     "name": "stdout",
     "output_type": "stream",
     "text": [
      "30    0.019033\n",
      "22    0.011791\n",
      "29    0.011736\n",
      "19    0.011680\n",
      "23    0.011653\n",
      "21    0.011625\n",
      "9     0.011625\n",
      "15    0.011597\n",
      "3     0.011597\n",
      "24    0.011570\n",
      "Name: Prescription_period, dtype: float64\n"
     ]
    }
   ],
   "source": [
    "# Printing Top 10 values of the test split set\n",
    "print((strat_test_set[\"Prescription_period\"].value_counts() / len(strat_test_set))[0:10])"
   ]
  },
  {
   "cell_type": "code",
   "execution_count": 56,
   "metadata": {},
   "outputs": [
    {
     "name": "stdout",
     "output_type": "stream",
     "text": [
      "30    0.019033\n",
      "22    0.011786\n",
      "29    0.011736\n",
      "19    0.011664\n",
      "23    0.011653\n",
      "9     0.011625\n",
      "21    0.011609\n",
      "3     0.011603\n",
      "15    0.011592\n",
      "24    0.011575\n",
      "Name: Prescription_period, dtype: float64\n"
     ]
    }
   ],
   "source": [
    "# Printing Top 10 values of the original DataSet\n",
    "print((dataset[\"Prescription_period\"].value_counts() / len(dataset))[0:10])"
   ]
  },
  {
   "cell_type": "code",
   "execution_count": 65,
   "metadata": {},
   "outputs": [
    {
     "name": "stdout",
     "output_type": "stream",
     "text": [
      "<class 'pandas.core.frame.DataFrame'>\n",
      "Int64Index: 144169 entries, 129884 to 83950\n",
      "Data columns (total 10 columns):\n",
      "patient_id             144169 non-null int64\n",
      "Age                    144169 non-null int64\n",
      "Gender                 144169 non-null object\n",
      "Prescription_period    144169 non-null int64\n",
      "Diabetes               144169 non-null int64\n",
      "Alcoholism             144169 non-null int64\n",
      "HyperTension           144169 non-null int64\n",
      "Smokes                 144169 non-null int64\n",
      "Tuberculosis           144169 non-null int64\n",
      "Sms_Reminder           144169 non-null int64\n",
      "dtypes: int64(9), object(1)\n",
      "memory usage: 12.1+ MB\n"
     ]
    }
   ],
   "source": [
    "# Separating Features & Target for training\n",
    "\n",
    "training_data = strat_train_set.drop(['Adherence','patient_id'],axis=1)\n",
    "training_label = strat_train_set[['Adherence']].copy()\n",
    "\n",
    "training_data.info()"
   ]
  },
  {
   "cell_type": "code",
   "execution_count": 69,
   "metadata": {},
   "outputs": [
    {
     "name": "stdout",
     "output_type": "stream",
     "text": [
      "<class 'pandas.core.frame.DataFrame'>\n",
      "Int64Index: 36043 entries, 54478 to 134239\n",
      "Data columns (total 9 columns):\n",
      "Age                    36043 non-null int64\n",
      "Gender                 36043 non-null object\n",
      "Prescription_period    36043 non-null int64\n",
      "Diabetes               36043 non-null int64\n",
      "Alcoholism             36043 non-null int64\n",
      "HyperTension           36043 non-null int64\n",
      "Smokes                 36043 non-null int64\n",
      "Tuberculosis           36043 non-null int64\n",
      "Sms_Reminder           36043 non-null int64\n",
      "dtypes: int64(8), object(1)\n",
      "memory usage: 2.7+ MB\n"
     ]
    }
   ],
   "source": [
    "# Separating Features & Target for training\n",
    "\n",
    "test_data = strat_test_set.drop(['Adherence','patient_id'],axis=1)\n",
    "test_label = strat_test_set[['Adherence']].copy()\n",
    "\n",
    "test_data.info()"
   ]
  },
  {
   "cell_type": "code",
   "execution_count": 98,
   "metadata": {},
   "outputs": [
    {
     "name": "stderr",
     "output_type": "stream",
     "text": [
      "c:\\users\\amit.agarwal\\appdata\\local\\programs\\python\\python36\\lib\\site-packages\\sklearn\\preprocessing\\data.py:625: DataConversionWarning: Data with input dtype int64 were all converted to float64 by StandardScaler.\n",
      "  return self.partial_fit(X, y)\n",
      "c:\\users\\amit.agarwal\\appdata\\local\\programs\\python\\python36\\lib\\site-packages\\sklearn\\base.py:462: DataConversionWarning: Data with input dtype int64 were all converted to float64 by StandardScaler.\n",
      "  return self.fit(X, **fit_params).transform(X)\n",
      "c:\\users\\amit.agarwal\\appdata\\local\\programs\\python\\python36\\lib\\site-packages\\sklearn\\preprocessing\\data.py:625: DataConversionWarning: Data with input dtype int64 were all converted to float64 by StandardScaler.\n",
      "  return self.partial_fit(X, y)\n",
      "c:\\users\\amit.agarwal\\appdata\\local\\programs\\python\\python36\\lib\\site-packages\\sklearn\\base.py:462: DataConversionWarning: Data with input dtype int64 were all converted to float64 by StandardScaler.\n",
      "  return self.fit(X, **fit_params).transform(X)\n"
     ]
    }
   ],
   "source": [
    "# Defining Numerical & Categorical Categories\n",
    "ordinal_encoder = OrdinalEncoder()\n",
    "imputer_attribs = ['Diabetes','Alcoholism','HyperTension','Smokes','Tuberculosis','Sms_Reminder']\n",
    "num_attribs = ['Age','Prescription_period']\n",
    "cat_attribs = ['Gender',]\n",
    "\n",
    "full_pipeline = ColumnTransformer([\n",
    "        ('imputer', SimpleImputer(strategy=\"median\"),imputer_attribs),\n",
    "        (\"num\", StandardScaler(), num_attribs),\n",
    "        (\"cat\", OneHotEncoder(), cat_attribs),\n",
    "    ])\n",
    "\n",
    "processed_training_data = full_pipeline.fit_transform(training_data)\n",
    "processed_training_label = ordinal_encoder.fit_transform(training_label).reshape(-1,)\n",
    "\n",
    "processed_test_data = full_pipeline.fit_transform(test_data)\n",
    "processed_test_label = ordinal_encoder.fit_transform(test_label).reshape(-1,)\n",
    "\n"
   ]
  },
  {
   "cell_type": "code",
   "execution_count": 93,
   "metadata": {},
   "outputs": [],
   "source": [
    "### Logistic Regression "
   ]
  },
  {
   "cell_type": "code",
   "execution_count": 99,
   "metadata": {},
   "outputs": [
    {
     "data": {
      "text/plain": [
       "array([1.])"
      ]
     },
     "execution_count": 99,
     "metadata": {},
     "output_type": "execute_result"
    }
   ],
   "source": [
    "\n",
    "# Initialize our algorithm\n",
    "log_reg = LogisticRegression(solver = 'lbfgs',random_state=42, n_jobs = -1)\n",
    "log_reg.fit(processed_training_data, processed_training_label)\n",
    "log_reg.predict(processed_training_data[11,:].reshape(1,-1))"
   ]
  },
  {
   "cell_type": "code",
   "execution_count": 107,
   "metadata": {},
   "outputs": [],
   "source": [
    "\n",
    "\n",
    "predicted_label = cross_val_predict(log_reg, processed_training_data, processed_training_label, cv=3)"
   ]
  },
  {
   "cell_type": "code",
   "execution_count": 112,
   "metadata": {},
   "outputs": [],
   "source": [
    "cnf_matrix = confusion_matrix(processed_training_label, predicted_label)"
   ]
  },
  {
   "cell_type": "code",
   "execution_count": 123,
   "metadata": {},
   "outputs": [],
   "source": [
    "cnf_matrix\n"
   ]
  },
  {
   "cell_type": "code",
   "execution_count": 134,
   "metadata": {},
   "outputs": [
    {
     "data": {
      "image/png": "[encoded data removed]",
      "text/plain": [
       "<matplotlib.figure.Figure at 0x3c028bdd8>"
      ]
     },
     "metadata": {},
     "output_type": "display_data"
    },
    {
     "name": "stdout",
     "output_type": "stream",
     "text": [
      "              precision    recall  f1-score   support\n",
      "\n",
      "         0.0       0.92      0.90      0.91    100755\n",
      "         1.0       0.79      0.82      0.80     43414\n",
      "\n",
      "   micro avg       0.88      0.88      0.88    144169\n",
      "   macro avg       0.85      0.86      0.86    144169\n",
      "weighted avg       0.88      0.88      0.88    144169\n",
      "\n"
     ]
    }
   ],
   "source": [
    "#cm = confusion_matrix(y_test, predicted)\n",
    "compute_scores(processed_training_label, predicted_label)"
   ]
  },
  {
   "cell_type": "code",
   "execution_count": null,
   "metadata": {},
   "outputs": [],
   "source": []
  }
 ],
 "metadata": {
  "kernelspec": {
   "display_name": "Python 3",
   "language": "python",
   "name": "python3"
  },
  "language_info": {
   "codemirror_mode": {
    "name": "ipython",
    "version": 3
   },
   "file_extension": ".py",
   "mimetype": "text/x-python",
   "name": "python",
   "nbconvert_exporter": "python",
   "pygments_lexer": "ipython3",
   "version": "3.6.4"
  }
 },
 "nbformat": 4,
 "nbformat_minor": 2
}
