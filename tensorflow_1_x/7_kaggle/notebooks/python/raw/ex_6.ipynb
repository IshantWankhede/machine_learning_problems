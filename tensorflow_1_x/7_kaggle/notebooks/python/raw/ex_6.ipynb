{
 "cells": [
  {
   "cell_type": "markdown",
   "metadata": {},
   "source": [
    "#$EXERCISE_PREAMBLE$\n",
    "\n",
    "Run the setup code below before working on the questions (and run it again if you leave this notebook and come back later)."
   ]
  },
  {
   "cell_type": "code",
   "execution_count": null,
   "metadata": {},
   "outputs": [],
   "source": [
    "# SETUP. You don't need to worry for now about what this code does or how it works. If you're ever curious about the \n",
    "# code behind these exercises, it's available under an open source license here: https://github.com/Kaggle/learntools/\n",
    "from learntools.core import binder; binder.bind(globals())\n",
    "from learntools.python.ex6 import *\n",
    "print('Setup complete.')"
   ]
  },
  {
   "cell_type": "markdown",
   "metadata": {},
   "source": [
    "# Exercises"
   ]
  },
  {
   "cell_type": "markdown",
   "metadata": {},
   "source": [
    "## 0. \n",
    "\n",
    "Let's start with a string lightning round to warm up. What are the lengths of the strings below?\n",
    "\n",
    "For each of the five strings below, predict what `len()` would return when passed that string. Use the variable `length` to record your answer, then run the cell to check whether you were right."
   ]
  },
  {
   "cell_type": "code",
   "execution_count": null,
   "metadata": {},
   "outputs": [],
   "source": [
    "a = \"\"\n",
    "length = -1\n",
    "q0.a.check()"
   ]
  },
  {
   "cell_type": "code",
   "execution_count": null,
   "metadata": {},
   "outputs": [],
   "source": [
    "b = \"it's ok\"\n",
    "length = -1\n",
    "q0.b.check()"
   ]
  },
  {
   "cell_type": "code",
   "execution_count": null,
   "metadata": {},
   "outputs": [],
   "source": [
    "c = 'it\\'s ok'\n",
    "length = -1\n",
    "q0.c.check()"
   ]
  },
  {
   "cell_type": "code",
   "execution_count": null,
   "metadata": {},
   "outputs": [],
   "source": [
    "d = \"\"\"hey\"\"\"\n",
    "length = -1\n",
    "q0.d.check()"
   ]
  },
  {
   "cell_type": "code",
   "execution_count": null,
   "metadata": {},
   "outputs": [],
   "source": [
    "e = '\\n'\n",
    "length = -1\n",
    "q0.e.check()"
   ]
  },
  {
   "cell_type": "markdown",
   "metadata": {},
   "source": [
    "## 1.\n",
    "\n",
    "There is a saying that \"Data scientists spend 80% of their time cleaning data, and 20% of their time complaining about cleaning data.\" Let's see if you can write a function to help clean US zip code data. Given a string, it should return whether or not that string represents a valid zip code. For our purposes, a valid zip code is any string consisting of exactly 5 digits.\n",
    "\n",
    "HINT: `str` has a method that will be useful here. Use `help(str)` to review a list of string methods."
   ]
  },
  {
   "cell_type": "code",
   "execution_count": null,
   "metadata": {},
   "outputs": [],
   "source": [
    "def is_valid_zip(zip_code):\n",
    "    \"\"\"Returns whether the input string is a valid (5 digit) zip code\n",
    "    \"\"\"\n",
    "    pass\n",
    "\n",
    "q1.check()"
   ]
  },
  {
   "cell_type": "code",
   "execution_count": null,
   "metadata": {},
   "outputs": [],
   "source": [
    "#%%RM_IF(PROD)%%\n",
    "def is_valid_zip(zip_code):\n",
    "    \"\"\"Returns whether the input string is a valid (5 digit) zip code\n",
    "    \"\"\"\n",
    "    return len(zip_code) == 5 and zip_code.isdigit()\n",
    "\n",
    "q1.assert_check_passed()"
   ]
  },
  {
   "cell_type": "code",
   "execution_count": null,
   "metadata": {},
   "outputs": [],
   "source": [
    "#%%RM_IF(PROD)%%\n",
    "def is_valid_zip(zip_code):\n",
    "    \"\"\"Returns whether the input string is a valid (5 digit) zip code\n",
    "    \"\"\"\n",
    "    return len(zip_code) == 5\n",
    "\n",
    "q1.assert_check_failed()"
   ]
  },
  {
   "cell_type": "code",
   "execution_count": null,
   "metadata": {},
   "outputs": [],
   "source": [
    "#_COMMENT_IF(PROD)_\n",
    "q1.hint()\n",
    "#_COMMENT_IF(PROD)_\n",
    "q1.solution()"
   ]
  },
  {
   "cell_type": "markdown",
   "metadata": {},
   "source": [
    "## 2.\n",
    "\n",
    "A researcher has gathered thousands of news articles. But she wants to focus her attention on articles including a specific word. Complete the function below to help her filter her list of articles.\n",
    "\n",
    "Your function should meet the following criteria\n",
    "\n",
    "- Do not include documents where the keyword string shows up only as a part of a larger word. For example, if she were looking for the keyword “closed”, you would not include the string “enclosed.” \n",
    "- She does not want you to distinguish upper case from lower case letters. So the phrase “Closed the case.” would be included when the keyword is “closed”\n",
    "- Do not let periods or commas affect what is matched. “It is closed.” would be included when the keyword is “closed”. But you can assume there are no other types of punctuation."
   ]
  },
  {
   "cell_type": "code",
   "execution_count": null,
   "metadata": {},
   "outputs": [],
   "source": [
    "def word_search(doc_list, keyword):\n",
    "    \"\"\"\n",
    "    Takes a list of documents (each document is a string) and a keyword. \n",
    "    Returns list of the index values into the original list for all documents \n",
    "    containing the keyword.\n",
    "\n",
    "    Example:\n",
    "    doc_list = [\"The Learn Python Challenge Casino.\", \"They bought a car\", \"Casinoville\"]\n",
    "    >>> word_search(doc_list, 'casino')\n",
    "    >>> [0]\n",
    "    \"\"\"\n",
    "    pass\n",
    "\n",
    "\n",
    "q2.check()"
   ]
  },
  {
   "cell_type": "code",
   "execution_count": null,
   "metadata": {},
   "outputs": [],
   "source": [
    "#_COMMENT_IF(PROD)_\n",
    "q2.hint()\n",
    "#_COMMENT_IF(PROD)_\n",
    "q2.solution()"
   ]
  },
  {
   "cell_type": "markdown",
   "metadata": {},
   "source": [
    "## 3.\n",
    "\n",
    "Now the researcher wants to supply multiple keywords to search for. Complete the function below to help her.\n",
    "\n",
    "(You're encouraged to use the `word_search` function you just wrote when implementing this function. Reusing code in this way makes your programs more robust and readable - and it saves typing!)"
   ]
  },
  {
   "cell_type": "code",
   "execution_count": null,
   "metadata": {},
   "outputs": [],
   "source": [
    "def multi_word_search(doc_list, keywords):\n",
    "    \"\"\"\n",
    "    Takes list of documents (each document is a string) and a list of keywords.  \n",
    "    Returns a dictionary where each key is a keyword, and the value is a list of indices\n",
    "    (from doc_list) of the documents containing that keyword\n",
    "\n",
    "    >>> doc_list = [\"The Learn Python Challenge Casino.\", \"They bought a car and a casino\", \"Casinoville\"]\n",
    "    >>> keywords = ['casino', 'they']\n",
    "    >>> multi_word_search(doc_list, keywords)\n",
    "    {'casino': [0, 1], 'they': [1]}\n",
    "    \"\"\"\n",
    "    pass\n",
    "\n",
    "q3.check()"
   ]
  },
  {
   "cell_type": "code",
   "execution_count": null,
   "metadata": {},
   "outputs": [],
   "source": [
    "#_COMMENT_IF(PROD)_\n",
    "q3.solution()"
   ]
  },
  {
   "cell_type": "markdown",
   "metadata": {},
   "source": [
    "## 4. <span title=\"Spicy\" style=\"color: coral\">🌶️🌶️</span>\n",
    "\n",
    "Diamonds are beautiful, but they are just so expensive. Write a python program to create counterfeit ASCII diamonds such as the following:\n",
    "```\n",
    "    /\\\n",
    "   //\\\\\n",
    "  ///\\\\\\\n",
    " ////\\\\\\\\\n",
    "/////\\\\\\\\\\\n",
    "\\\\\\\\\\/////\n",
    " \\\\\\\\////\n",
    "  \\\\\\///\n",
    "   \\\\//\n",
    "    \\/\n",
    "```\n",
    "\n",
    "Your function should allow the caller to choose the size of the diamond (in terms of number of lines). The above diamond has a height of 10. Here's a 4-line diamond:\n",
    "\n",
    "```\n",
    " /\\ \n",
    "//\\\\\n",
    "\\\\//\n",
    " \\/ \n",
    "```\n",
    "\n",
    "(You can assume your function will only be called with even numbers)"
   ]
  },
  {
   "cell_type": "code",
   "execution_count": null,
   "metadata": {},
   "outputs": [],
   "source": [
    "def diamond(height):\n",
    "    \"\"\"Return a string resembling a diamond of specified height (measured in lines).\n",
    "    height must be an even integer.\n",
    "    \"\"\"\n",
    "    pass\n",
    "\n",
    "\n",
    "q4.check()"
   ]
  },
  {
   "cell_type": "markdown",
   "metadata": {},
   "source": [
    "We've provided an example height-4 diamond below as a Python string. It may help to inspect it in the console."
   ]
  },
  {
   "cell_type": "code",
   "execution_count": null,
   "metadata": {},
   "outputs": [],
   "source": [
    "d4 = \"\"\" /\\\\ \n",
    "//\\\\\\\\\n",
    "\\\\\\\\//\n",
    " \\\\/ \"\"\"\n",
    "print(d4)"
   ]
  },
  {
   "cell_type": "code",
   "execution_count": null,
   "metadata": {},
   "outputs": [],
   "source": [
    "#%%RM_IF(PROD)%%\n",
    "def diamond(height):\n",
    "    s = ''\n",
    "    # The characters currently being used to build the left and right half of \n",
    "    # the diamond, respectively. (We need to escape the backslash with another\n",
    "    # backslash so Python knows we mean a literal \"\\\" character.)\n",
    "    l, r = '/', '\\\\'\n",
    "    # The \"radius\" of the diamond (used in lots of calculations)\n",
    "    rad = height // 2\n",
    "    for row in range(height):\n",
    "        # The first time we pass the halfway mark, swap the left and right characters\n",
    "        if row == rad:\n",
    "            l, r = r, l\n",
    "        if row < rad:\n",
    "            # For the first row, use one left character and one right. For\n",
    "            # the second row, use two of each, and so on...\n",
    "            nchars = row+1\n",
    "        else:\n",
    "            # Until we go past the midpoint. Then we start counting back down to 1.\n",
    "            nchars = height - row\n",
    "        left = (l * nchars).rjust(rad)\n",
    "        right = (r * nchars).ljust(rad)\n",
    "        s += left + right + '\\n'\n",
    "    # Trim the last newline - we want every line to end with a newline character\n",
    "    # *except* the last\n",
    "    return s[:-1]\n",
    "\n",
    "\n",
    "q4.assert_check_passed()"
   ]
  },
  {
   "cell_type": "code",
   "execution_count": null,
   "metadata": {},
   "outputs": [],
   "source": [
    "#%%RM_IF(PROD)%%\n",
    "def diamond(height):\n",
    "    s = ''\n",
    "    # The characters currently being used to build the left and right half of \n",
    "    # the diamond, respectively. (We need to escape the backslash with another\n",
    "    # backslash so Python knows we mean a literal \"\\\" character.)\n",
    "    l, r = '/', '\\\\'\n",
    "    # The \"radius\" of the diamond (used in lots of calculations)\n",
    "    rad = height // 2\n",
    "    for row in range(height - 1):\n",
    "        # The first time we pass the halfway mark, swap the left and right characters\n",
    "        if row == rad:\n",
    "            l, r = r, l\n",
    "        if row < rad:\n",
    "            # For the first row, use one left character and one right. For\n",
    "            # the second row, use two of each, and so on...\n",
    "            nchars = row+1\n",
    "        else:\n",
    "            # Until we go past the midpoint. Then we start counting back down to 1.\n",
    "            nchars = height - row\n",
    "        left = (l * nchars).rjust(rad)\n",
    "        right = (r * nchars).ljust(rad)\n",
    "        s += left + right + '\\n'\n",
    "    # Trim the last newline - we want every line to end with a newline character\n",
    "    # *except* the last\n",
    "    return s[:-1]\n",
    "\n",
    "\n",
    "q4.assert_check_failed()"
   ]
  },
  {
   "cell_type": "code",
   "execution_count": null,
   "metadata": {},
   "outputs": [],
   "source": [
    "#_COMMENT_IF(PROD)_\n",
    "q4.hint()\n",
    "#_COMMENT_IF(PROD)_\n",
    "q4.solution()"
   ]
  },
  {
   "cell_type": "markdown",
   "metadata": {},
   "source": [
    "## 5. <span title=\"Spicy\" style=\"color: coral\">🌶️🌶️</span>\n",
    "\n",
    "Dice may not have any memory, but apparently the roulette wheel at the Learn Challenge Casino does. You’ve received a tip-off that the wheel has some exploitable bias where the probability of landing on a given number changes depending on the number previously landed on. Analyze a list containing a history of roulette spins. \n",
    "\n",
    "Return a dictionary where the keys are numbers on the roulette wheel, and the values are dictionaries mapping numbers on the wheel to probabilities, such that `d[n1][n2]` is an estimate of the probability that the next spin will land on n2, given that the previous spin landed on n1."
   ]
  },
  {
   "cell_type": "code",
   "execution_count": null,
   "metadata": {},
   "outputs": [],
   "source": [
    "def conditional_roulette_probs(history):\n",
    "    \"\"\"\n",
    "    Example: \n",
    "    conditional_roulette_probs([1, 3, 1, 5, 1])\n",
    "    > {1: {3: 0.5, 5: 0.5}, \n",
    "       3: {1: 1.0},\n",
    "       5: {1: 1.0}\n",
    "      }\n",
    "    \"\"\"\n",
    "    pass\n",
    "\n",
    "\n",
    "q5.check()"
   ]
  },
  {
   "cell_type": "code",
   "execution_count": null,
   "metadata": {},
   "outputs": [],
   "source": [
    "#%%RM_IF(PROD)%%\n",
    "def conditional_roulette_probs(history):\n",
    "    \"\"\"\n",
    "    Example: \n",
    "    conditional_roulette_probs([1, 3, 1, 5, 1])\n",
    "    > {1: {3: 0.5, 5: 0.5}, \n",
    "       3: {1: 1.0},\n",
    "       5: {1: 1.0}\n",
    "      }\n",
    "    \"\"\"\n",
    "    return {1: {3: 0.5, 5: 0.5}}\n",
    "\n",
    "\n",
    "q5.assert_check_failed()"
   ]
  },
  {
   "cell_type": "code",
   "execution_count": null,
   "metadata": {},
   "outputs": [],
   "source": [
    "#%%RM_IF(PROD)%%\n",
    "# Previously passing incorrect solution, taken from https://www.kaggle.com/learn-forum/71868\n",
    "def conditional_roulette_probs(history):\n",
    "    \"\"\"\n",
    "    Example: \n",
    "    conditional_roulette_probs([1, 3, 1, 5, 1])\n",
    "    > {1: {3: 0.5, 5: 0.5}, \n",
    "       3: {1: 1.0},\n",
    "       5: {1: 1.0}\n",
    "      }\n",
    "    \"\"\"\n",
    "    predictor = {}\n",
    "    for num in history[:-1]:\n",
    "        predictor[num] = {}\n",
    "\n",
    "    for index, num in enumerate (history [1:]):\n",
    "        if history [index] in predictor.values():\n",
    "            predictor [history [index]][num] += 1\n",
    "        else:\n",
    "            predictor [history [index]][num] = 1\n",
    "\n",
    "    for key, dictionary in predictor.items ():\n",
    "        total = 0\n",
    "        for value in dictionary.values():\n",
    "            total += value\n",
    "        for key2, value in dictionary.items():\n",
    "            value /= total\n",
    "            dictionary[key2] = value\n",
    "            predictor [key] = dictionary\n",
    "\n",
    "    return predictor\n",
    "\n",
    "\n",
    "q5.assert_check_failed()"
   ]
  },
  {
   "cell_type": "code",
   "execution_count": null,
   "metadata": {},
   "outputs": [],
   "source": [
    "#%%RM_IF(PROD)%%\n",
    "# (Testing exception wrapping)\n",
    "def conditional_roulette_probs(history):\n",
    "    p = {}\n",
    "    return p[3]\n",
    "\n",
    "q5.check()\n",
    "\n",
    "def conditional_roulette_probs(history):\n",
    "    p = {}\n",
    "    return p + 1\n",
    "\n",
    "q5.check()"
   ]
  },
  {
   "cell_type": "code",
   "execution_count": null,
   "metadata": {},
   "outputs": [],
   "source": [
    "#%%RM_IF(PROD)%%\n",
    "def conditional_roulette_probs(history):\n",
    "    # dict where keys are numbers and values are dicts\n",
    "    # counts[a][b] is the number of times we've spun the number b immediately after spinning a\n",
    "    counts = {}\n",
    "    # Iterate over the indices of history *except* the first (index 0). (In the loop, We'll \n",
    "    # be looking at each index alongside its previous index. But there's no previous index for i=0)\n",
    "    for i in range(1, len(history)):\n",
    "        # The numbers for the ith spin and the spin before it\n",
    "        roll, prev = history[i], history[i-1]\n",
    "        # If we haven't seen prev before, we need to add it to counts. (Otherwise counts[prev] will give a KeyError)\n",
    "        if prev not in counts:\n",
    "            counts[prev] = {}\n",
    "        # Similar to above - add key to the inner dict if not present\n",
    "        if roll not in counts[prev]:\n",
    "            counts[prev][roll] = 0\n",
    "        counts[prev][roll] += 1\n",
    "\n",
    "    # We have the counts, but still need to turn them into probabilities\n",
    "    probs = {}\n",
    "    # dict.items() gives us a dictionary's (key, value) pairs as a sequence of tuples.\n",
    "    for prev, nexts in counts.items():\n",
    "        # The total number of spins that landed on prev (not counting the very last spin)\n",
    "        total = sum(nexts.values())\n",
    "        # Take the nects dictionary and normalize it so that its values sum to 1 (and represent probabilities)\n",
    "        sub_probs = {next_spin: next_count/total\n",
    "                for next_spin, next_count in nexts.items()}\n",
    "        probs[prev] = sub_probs\n",
    "    return probs\n",
    "q5.assert_check_passed()"
   ]
  },
  {
   "cell_type": "code",
   "execution_count": null,
   "metadata": {},
   "outputs": [],
   "source": [
    "#_COMMENT_IF(PROD)_\n",
    "q5.solution()"
   ]
  },
  {
   "cell_type": "markdown",
   "metadata": {},
   "source": [
    "#$KEEP_GOING$\n"
   ]
  }
 ],
 "metadata": {
  "kernelspec": {
   "display_name": "Python 3",
   "language": "python",
   "name": "python3"
  },
  "language_info": {
   "codemirror_mode": {
    "name": "ipython",
    "version": 3
   },
   "file_extension": ".py",
   "mimetype": "text/x-python",
   "name": "python",
   "nbconvert_exporter": "python",
   "pygments_lexer": "ipython3",
   "version": "3.6.5"
  },
  "learntools_metadata": {
   "lesson_index": 5,
   "type": "exercise"
  }
 },
 "nbformat": 4,
 "nbformat_minor": 2
}
